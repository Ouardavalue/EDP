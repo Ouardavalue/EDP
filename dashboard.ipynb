{
  "nbformat": 4,
  "nbformat_minor": 0,
  "metadata": {
    "colab": {
      "name": "Copy of dashboard.ipynb",
      "provenance": [],
      "collapsed_sections": [],
      "toc_visible": true
    },
    "kernelspec": {
      "name": "python3",
      "display_name": "Python 3"
    }
  },
  "cells": [
    {
      "cell_type": "markdown",
      "metadata": {
        "id": "Cx62f5K4iM9p",
        "colab_type": "text"
      },
      "source": [
        "# Setup"
      ]
    },
    {
      "cell_type": "code",
      "metadata": {
        "id": "ba5z-tW1V1kX",
        "colab_type": "code",
        "colab": {
          "base_uri": "https://localhost:8080/",
          "height": 34
        },
        "outputId": "633ba03c-1972-4f81-ee92-8c22e8b1477d"
      },
      "source": [
        "from google.colab import drive\n",
        "\n",
        "drive.mount('/content/drive/', force_remount=True)"
      ],
      "execution_count": 11,
      "outputs": [
        {
          "output_type": "stream",
          "text": [
            "Mounted at /content/drive/\n"
          ],
          "name": "stdout"
        }
      ]
    },
    {
      "cell_type": "code",
      "metadata": {
        "id": "GMqJUSoaHcxo",
        "colab_type": "code",
        "colab": {}
      },
      "source": [
        "import os\n",
        "os.chdir(\"drive/My Drive/Colab Notebooks\")"
      ],
      "execution_count": 20,
      "outputs": []
    },
    {
      "cell_type": "markdown",
      "metadata": {
        "id": "pqf6sGvzH3OY",
        "colab_type": "text"
      },
      "source": [
        "Check that assets, data, requirements.text. map_app.py are present"
      ]
    },
    {
      "cell_type": "code",
      "metadata": {
        "id": "AlkWOx51H0mK",
        "colab_type": "code",
        "colab": {
          "base_uri": "https://localhost:8080/",
          "height": 52
        },
        "outputId": "808d1db0-8185-4f02-b77d-2d7175dc8810"
      },
      "source": [
        "!ls"
      ],
      "execution_count": 21,
      "outputs": [
        {
          "output_type": "stream",
          "text": [
            " assets\t\t\t    data\t Procfile\t    Untitled0.ipynb\n",
            "'Copy of dashboard.ipynb'   map_app.py\t requirements.txt\n"
          ],
          "name": "stdout"
        }
      ]
    },
    {
      "cell_type": "code",
      "metadata": {
        "id": "i6kp2WyDiqA6",
        "colab_type": "code",
        "colab": {
          "base_uri": "https://localhost:8080/",
          "height": 625
        },
        "outputId": "d635450f-1463-478b-a784-65a555173740"
      },
      "source": [
        "!pip install -r requirements.txt"
      ],
      "execution_count": 22,
      "outputs": [
        {
          "output_type": "stream",
          "text": [
            "Requirement already satisfied: pandas in /usr/local/lib/python3.6/dist-packages (from -r requirements.txt (line 1)) (1.0.4)\n",
            "Requirement already satisfied: dash in /usr/local/lib/python3.6/dist-packages (from -r requirements.txt (line 2)) (1.12.0)\n",
            "Requirement already satisfied: gunicorn in /usr/local/lib/python3.6/dist-packages (from -r requirements.txt (line 3)) (20.0.4)\n",
            "Requirement already satisfied: dash_core_components in /usr/local/lib/python3.6/dist-packages (from -r requirements.txt (line 5)) (1.10.0)\n",
            "Requirement already satisfied: dash_html_components in /usr/local/lib/python3.6/dist-packages (from -r requirements.txt (line 6)) (1.0.3)\n",
            "Requirement already satisfied: scipy in /usr/local/lib/python3.6/dist-packages (from -r requirements.txt (line 7)) (1.4.1)\n",
            "Requirement already satisfied: plotly in /usr/local/lib/python3.6/dist-packages (from -r requirements.txt (line 8)) (4.4.1)\n",
            "Requirement already satisfied: geopandas in /usr/local/lib/python3.6/dist-packages (from -r requirements.txt (line 10)) (0.7.0)\n",
            "Requirement already satisfied: shapely in /usr/local/lib/python3.6/dist-packages (from -r requirements.txt (line 11)) (1.7.0)\n",
            "Requirement already satisfied: iteration_utilities in /usr/local/lib/python3.6/dist-packages (from -r requirements.txt (line 12)) (0.10.1)\n",
            "Requirement already satisfied: geopy in /usr/local/lib/python3.6/dist-packages (from -r requirements.txt (line 13)) (1.17.0)\n",
            "Requirement already satisfied: pytz>=2017.2 in /usr/local/lib/python3.6/dist-packages (from pandas->-r requirements.txt (line 1)) (2018.9)\n",
            "Requirement already satisfied: python-dateutil>=2.6.1 in /usr/local/lib/python3.6/dist-packages (from pandas->-r requirements.txt (line 1)) (2.8.1)\n",
            "Requirement already satisfied: numpy>=1.13.3 in /usr/local/lib/python3.6/dist-packages (from pandas->-r requirements.txt (line 1)) (1.18.5)\n",
            "Requirement already satisfied: Flask>=1.0.2 in /usr/local/lib/python3.6/dist-packages (from dash->-r requirements.txt (line 2)) (1.1.2)\n",
            "Requirement already satisfied: dash-renderer==1.4.1 in /usr/local/lib/python3.6/dist-packages (from dash->-r requirements.txt (line 2)) (1.4.1)\n",
            "Requirement already satisfied: flask-compress in /usr/local/lib/python3.6/dist-packages (from dash->-r requirements.txt (line 2)) (1.5.0)\n",
            "Requirement already satisfied: future in /usr/local/lib/python3.6/dist-packages (from dash->-r requirements.txt (line 2)) (0.16.0)\n",
            "Requirement already satisfied: dash-table==4.7.0 in /usr/local/lib/python3.6/dist-packages (from dash->-r requirements.txt (line 2)) (4.7.0)\n",
            "Requirement already satisfied: setuptools>=3.0 in /usr/local/lib/python3.6/dist-packages (from gunicorn->-r requirements.txt (line 3)) (47.1.1)\n",
            "Requirement already satisfied: retrying>=1.3.3 in /usr/local/lib/python3.6/dist-packages (from plotly->-r requirements.txt (line 8)) (1.3.3)\n",
            "Requirement already satisfied: six in /usr/local/lib/python3.6/dist-packages (from plotly->-r requirements.txt (line 8)) (1.12.0)\n",
            "Requirement already satisfied: fiona in /usr/local/lib/python3.6/dist-packages (from geopandas->-r requirements.txt (line 10)) (1.8.13.post1)\n",
            "Requirement already satisfied: pyproj>=2.2.0 in /usr/local/lib/python3.6/dist-packages (from geopandas->-r requirements.txt (line 10)) (2.6.1.post1)\n",
            "Requirement already satisfied: geographiclib<2,>=1.49 in /usr/local/lib/python3.6/dist-packages (from geopy->-r requirements.txt (line 13)) (1.50)\n",
            "Requirement already satisfied: Jinja2>=2.10.1 in /usr/local/lib/python3.6/dist-packages (from Flask>=1.0.2->dash->-r requirements.txt (line 2)) (2.11.2)\n",
            "Requirement already satisfied: itsdangerous>=0.24 in /usr/local/lib/python3.6/dist-packages (from Flask>=1.0.2->dash->-r requirements.txt (line 2)) (1.1.0)\n",
            "Requirement already satisfied: click>=5.1 in /usr/local/lib/python3.6/dist-packages (from Flask>=1.0.2->dash->-r requirements.txt (line 2)) (7.1.2)\n",
            "Requirement already satisfied: Werkzeug>=0.15 in /usr/local/lib/python3.6/dist-packages (from Flask>=1.0.2->dash->-r requirements.txt (line 2)) (1.0.1)\n",
            "Requirement already satisfied: brotli in /usr/local/lib/python3.6/dist-packages (from flask-compress->dash->-r requirements.txt (line 2)) (1.0.7)\n",
            "Requirement already satisfied: attrs>=17 in /usr/local/lib/python3.6/dist-packages (from fiona->geopandas->-r requirements.txt (line 10)) (19.3.0)\n",
            "Requirement already satisfied: munch in /usr/local/lib/python3.6/dist-packages (from fiona->geopandas->-r requirements.txt (line 10)) (2.5.0)\n",
            "Requirement already satisfied: cligj>=0.5 in /usr/local/lib/python3.6/dist-packages (from fiona->geopandas->-r requirements.txt (line 10)) (0.5.0)\n",
            "Requirement already satisfied: click-plugins>=1.0 in /usr/local/lib/python3.6/dist-packages (from fiona->geopandas->-r requirements.txt (line 10)) (1.1.1)\n",
            "Requirement already satisfied: MarkupSafe>=0.23 in /usr/local/lib/python3.6/dist-packages (from Jinja2>=2.10.1->Flask>=1.0.2->dash->-r requirements.txt (line 2)) (1.1.1)\n"
          ],
          "name": "stdout"
        }
      ]
    },
    {
      "cell_type": "code",
      "metadata": {
        "id": "uuHS64aNk6oK",
        "colab_type": "code",
        "colab": {
          "base_uri": "https://localhost:8080/",
          "height": 121
        },
        "outputId": "f96ffcfb-b9f4-4875-b741-03c9be8e01d8"
      },
      "source": [
        "%%sh\n",
        "# get ngrok\n",
        "curl -O https://bin.equinox.io/c/4VmDzA7iaHb/ngrok-stable-linux-amd64.zip\n",
        "unzip ngrok-stable-linux-amd64.zip"
      ],
      "execution_count": 24,
      "outputs": [
        {
          "output_type": "stream",
          "text": [
            "Archive:  ngrok-stable-linux-amd64.zip\n"
          ],
          "name": "stdout"
        },
        {
          "output_type": "stream",
          "text": [
            "  % Total    % Received % Xferd  Average Speed   Time    Time     Time  Current\n",
            "                                 Dload  Upload   Total   Spent    Left  Speed\n",
            "\r  0     0    0     0    0     0      0      0 --:--:-- --:--:-- --:--:--     0\r  0     0    0     0    0     0      0      0 --:--:-- --:--:-- --:--:--     0\r  1 13.1M    1  211k    0     0   132k      0  0:01:41  0:00:01  0:01:40  132k\r 46 13.1M   46 6258k    0     0  2500k      0  0:00:05  0:00:02  0:00:03 2499k\r100 13.1M  100 13.1M    0     0  4404k      0  0:00:03  0:00:03 --:--:-- 4405k\n",
            "replace ngrok? [y]es, [n]o, [A]ll, [N]one, [r]ename:  NULL\n",
            "(EOF or read error, treating as \"[N]one\" ...)\n"
          ],
          "name": "stderr"
        }
      ]
    },
    {
      "cell_type": "markdown",
      "metadata": {
        "id": "QVb3TaoVtFom",
        "colab_type": "text"
      },
      "source": [
        "# Dash"
      ]
    },
    {
      "cell_type": "code",
      "metadata": {
        "id": "5hKnCayGlyd_",
        "colab_type": "code",
        "colab": {}
      },
      "source": [
        "# launch ngrok\n",
        "get_ipython().system_raw('./ngrok http 8050 &')"
      ],
      "execution_count": 25,
      "outputs": []
    },
    {
      "cell_type": "markdown",
      "metadata": {
        "id": "LFJrOmgfItlu",
        "colab_type": "text"
      },
      "source": [
        "Pour lancer le dashboard : \n",
        "* Lancer les deux cellules suivantes\n",
        "* Aller à l'adresse web ***.grok.io donnée par la première cellule."
      ]
    },
    {
      "cell_type": "code",
      "metadata": {
        "id": "UK2SIu8qsHPK",
        "colab_type": "code",
        "colab": {
          "base_uri": "https://localhost:8080/",
          "height": 34
        },
        "outputId": "158e8a54-150b-41f9-9112-f70f0d5bf722"
      },
      "source": [
        "%%sh\n",
        "# get url with ngrok\n",
        "curl -s http://localhost:4040/api/tunnels | python3 -c \"import sys, json; print(json.load(sys.stdin)['tunnels'][0]['public_url'])\""
      ],
      "execution_count": 26,
      "outputs": [
        {
          "output_type": "stream",
          "text": [
            "http://2ef14122ff8b.ngrok.io\n"
          ],
          "name": "stdout"
        }
      ]
    },
    {
      "cell_type": "code",
      "metadata": {
        "id": "ycoF8TVXjos6",
        "colab_type": "code",
        "colab": {
          "base_uri": "https://localhost:8080/",
          "height": 207
        },
        "outputId": "44095704-768f-46e2-b805-dbdb867eff9b"
      },
      "source": [
        "!python map_app.py"
      ],
      "execution_count": null,
      "outputs": [
        {
          "output_type": "stream",
          "text": [
            "Running on http://127.0.0.1:8050/\n",
            "Debugger PIN: 357-922-805\n",
            " * Serving Flask app \"map_app\" (lazy loading)\n",
            " * Environment: production\n",
            "\u001b[31m   WARNING: This is a development server. Do not use it in a production deployment.\u001b[0m\n",
            "\u001b[2m   Use a production WSGI server instead.\u001b[0m\n",
            " * Debug mode: on\n",
            "Running on http://127.0.0.1:8050/\n",
            "Debugger PIN: 303-751-110\n"
          ],
          "name": "stdout"
        }
      ]
    }
  ]
}