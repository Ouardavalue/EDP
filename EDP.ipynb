{
  "nbformat": 4,
  "nbformat_minor": 0,
  "metadata": {
    "colab": {
      "name": "EDP.ipynb",
      "provenance": [],
      "collapsed_sections": [],
      "toc_visible": true,
      "include_colab_link": true
    },
    "kernelspec": {
      "name": "python3",
      "display_name": "Python 3"
    }
  },
  "cells": [
    {
      "cell_type": "markdown",
      "metadata": {
        "id": "view-in-github",
        "colab_type": "text"
      },
      "source": [
        "<a href=\"https://colab.research.google.com/github/Ouardavalue/EDP/blob/master/EDP.ipynb\" target=\"_parent\"><img src=\"https://colab.research.google.com/assets/colab-badge.svg\" alt=\"Open In Colab\"/></a>"
      ]
    },
    {
      "cell_type": "code",
      "metadata": {
        "id": "rO9mjmX2z1OY",
        "colab_type": "code",
        "colab": {}
      },
      "source": [
        "from google.colab import drive\n",
        "\n",
        "drive.mount('/content/gdrive', force_remount=True)"
      ],
      "execution_count": 0,
      "outputs": []
    },
    {
      "cell_type": "code",
      "metadata": {
        "id": "HqxrQiO9CaFe",
        "colab_type": "code",
        "colab": {}
      },
      "source": [
        "import pandas as pd\n",
        "import numpy as np\n",
        "import plotly.graph_objects as go\n",
        "import matplotlib.pyplot as plt\n",
        "\n",
        "from plotly.subplots import make_subplots"
      ],
      "execution_count": 0,
      "outputs": []
    },
    {
      "cell_type": "code",
      "metadata": {
        "id": "-VShYslw2IxG",
        "colab_type": "code",
        "colab": {}
      },
      "source": [
        "\n",
        "#Electric cars chargings Points optimal location\n",
        "#Domain Energy & Environment\n",
        "\n",
        "#Identify the optimal points where to install the electric vehicule cchargings points\n",
        "#EDP is a company that leads the energy sector. in spain, EDP is present in generation, distribution and commercialization of electricity , gas and services.\n",
        "\n",
        "#the goal is to identify the optimal points where to install the electric vehicule chargings. EDP is now expandings its public charging infrastructure and it is of high importance where to place the nex chargings points.\n",
        "#the decision will be based on the location of existing points, the trafic information and matriculation of existing cars plus projection of electric cars in the future.\n",
        "\n",
        "#need spanish traffic information\n",
        "#EDP own public infrastructure data\n",
        "\n",
        "#the objective of this challenge is to develop a predictive Model which based on the inputs included in the datasets generates the charging points optimal location. the algorithm should be able of deciding where EDP should install its charging points.\n",
        "#the best is to have a dashbord that shows in the best possible way the result of the predictive model."
      ],
      "execution_count": 0,
      "outputs": []
    },
    {
      "cell_type": "markdown",
      "metadata": {
        "id": "RAGVVaLIdV-2",
        "colab_type": "text"
      },
      "source": [
        "#File loading"
      ]
    },
    {
      "cell_type": "code",
      "metadata": {
        "id": "XEYOYR0tyHOc",
        "colab_type": "code",
        "colab": {}
      },
      "source": [
        ""
      ],
      "execution_count": 0,
      "outputs": []
    },
    {
      "cell_type": "code",
      "metadata": {
        "id": "wKB32h6REFm6",
        "colab_type": "code",
        "colab": {}
      },
      "source": [
        "# code qui permet en cas de changement de chemin du repertoire root, pour eviter de retaper tout le chemin\n",
        "#fonction utilisée: concatenantion\n",
        "data_dir = './gdrive/My Drive/edp_data/'\n",
        "mat_file = data_dir + 'matricules.xlsx'\n",
        "points_file = data_dir + 'PuntosRecarga.xlsx'\n",
        "provincia_file = data_dir + 'provincia_listado.xlsx'\n",
        "impagos_file = data_dir + 'impagos.xlsx'"
      ],
      "execution_count": 0,
      "outputs": []
    },
    {
      "cell_type": "code",
      "metadata": {
        "id": "UwhO1yfKdZlN",
        "colab_type": "code",
        "colab": {}
      },
      "source": [
        "#matricules.xlxs\n",
        "mat_cols = ['Categoria_veh_elect', 'Año', 'Mercado', 'Marca', 'Modelo', 'Provincia', 'Canal']\n",
        "df_matricules = pd.read_excel(mat_file,\n",
        "                              usecols=mat_cols)"
      ],
      "execution_count": 0,
      "outputs": []
    },
    {
      "cell_type": "markdown",
      "metadata": {
        "id": "t5kXDLqr890s",
        "colab_type": "text"
      },
      "source": [
        "\"Canal\" : Particular/Empressa/Alquilador"
      ]
    },
    {
      "cell_type": "code",
      "metadata": {
        "id": "372y7HbydcoR",
        "colab_type": "code",
        "colab": {}
      },
      "source": [
        "#provincia_listado.xlsx\n",
        "prov_cols = ['Autonomia', 'Superficie', 'PROVINCIA']\n",
        "df_provincia = pd.read_excel(provincia_file,\n",
        "                             usecols=prov_cols)"
      ],
      "execution_count": 0,
      "outputs": []
    },
    {
      "cell_type": "code",
      "metadata": {
        "id": "-blIb9vfdfkh",
        "colab_type": "code",
        "colab": {}
      },
      "source": [
        "#impagos.xlsx\n",
        "impagos_cols = ['CONSUMO_ELECTRICO_ANUAL', 'PROVINCIA', 'TIPO_CLIENTE']\n",
        "df_impagos = pd.read_excel(impagos_file,\n",
        "                           usecols=impagos_cols)"
      ],
      "execution_count": 0,
      "outputs": []
    },
    {
      "cell_type": "code",
      "metadata": {
        "id": "9WVJmmoNDbfx",
        "colab_type": "code",
        "colab": {}
      },
      "source": [
        "#PuntosRecarga.xlsx\n",
        "df_points = pd.read_excel(points_file)"
      ],
      "execution_count": 0,
      "outputs": []
    },
    {
      "cell_type": "code",
      "metadata": {
        "id": "hFsCdlb81VJC",
        "colab_type": "code",
        "outputId": "2dfbe013-c0ce-4bcf-acb2-10fc779673a5",
        "colab": {
          "base_uri": "https://localhost:8080/",
          "height": 191
        }
      },
      "source": [
        "df_impagos.info()"
      ],
      "execution_count": 0,
      "outputs": [
        {
          "output_type": "stream",
          "text": [
            "<class 'pandas.core.frame.DataFrame'>\n",
            "RangeIndex: 1051 entries, 0 to 1050\n",
            "Data columns (total 3 columns):\n",
            " #   Column                   Non-Null Count  Dtype  \n",
            "---  ------                   --------------  -----  \n",
            " 0   CONSUMO_ELECTRICO_ANUAL  1051 non-null   float64\n",
            " 1   PROVINCIA                1051 non-null   object \n",
            " 2   TIPO_CLIENTE             1051 non-null   object \n",
            "dtypes: float64(1), object(2)\n",
            "memory usage: 24.8+ KB\n"
          ],
          "name": "stdout"
        }
      ]
    },
    {
      "cell_type": "code",
      "metadata": {
        "id": "-gbutmO1ENzU",
        "colab_type": "code",
        "outputId": "e6704294-84c5-4aca-e01d-cfa38bc6de26",
        "colab": {
          "base_uri": "https://localhost:8080/",
          "height": 260
        }
      },
      "source": [
        "df_matricules.info()\n",
        "   "
      ],
      "execution_count": 0,
      "outputs": [
        {
          "output_type": "stream",
          "text": [
            "<class 'pandas.core.frame.DataFrame'>\n",
            "RangeIndex: 130 entries, 0 to 129\n",
            "Data columns (total 7 columns):\n",
            " #   Column               Non-Null Count  Dtype \n",
            "---  ------               --------------  ----- \n",
            " 0   Categoria_veh_elect  130 non-null    object\n",
            " 1   Año                  130 non-null    int64 \n",
            " 2   Mercado              130 non-null    object\n",
            " 3   Marca                130 non-null    object\n",
            " 4   Modelo               130 non-null    object\n",
            " 5   Provincia            130 non-null    object\n",
            " 6   Canal                130 non-null    object\n",
            "dtypes: int64(1), object(6)\n",
            "memory usage: 7.2+ KB\n"
          ],
          "name": "stdout"
        }
      ]
    },
    {
      "cell_type": "code",
      "metadata": {
        "id": "tV4BM8P0NAvI",
        "colab_type": "code",
        "outputId": "936de5b4-06e9-4193-adf8-4b0262b7f4cf",
        "colab": {
          "base_uri": "https://localhost:8080/",
          "height": 191
        }
      },
      "source": [
        "df_provincia.info()"
      ],
      "execution_count": 0,
      "outputs": [
        {
          "output_type": "stream",
          "text": [
            "<class 'pandas.core.frame.DataFrame'>\n",
            "RangeIndex: 52 entries, 0 to 51\n",
            "Data columns (total 3 columns):\n",
            " #   Column      Non-Null Count  Dtype  \n",
            "---  ------      --------------  -----  \n",
            " 0   PROVINCIA   52 non-null     object \n",
            " 1   Superficie  52 non-null     float64\n",
            " 2   Autonomia   52 non-null     object \n",
            "dtypes: float64(1), object(2)\n",
            "memory usage: 1.3+ KB\n"
          ],
          "name": "stdout"
        }
      ]
    },
    {
      "cell_type": "code",
      "metadata": {
        "id": "c0RP56wNZw6c",
        "colab_type": "code",
        "outputId": "6d19b855-8930-4282-9728-b06d785b378c",
        "colab": {
          "base_uri": "https://localhost:8080/",
          "height": 330
        }
      },
      "source": [
        "df_points.info()"
      ],
      "execution_count": 0,
      "outputs": [
        {
          "output_type": "stream",
          "text": [
            "<class 'pandas.core.frame.DataFrame'>\n",
            "RangeIndex: 156 entries, 0 to 155\n",
            "Data columns (total 11 columns):\n",
            " #   Column              Non-Null Count  Dtype  \n",
            "---  ------              --------------  -----  \n",
            " 0   grupo               153 non-null    object \n",
            " 1   organizacion        153 non-null    object \n",
            " 2   SuperCPO            156 non-null    object \n",
            " 3   GrupoCargadoresCPO  156 non-null    object \n",
            " 4   region              156 non-null    object \n",
            " 5   zona                156 non-null    object \n",
            " 6   ubicacion           156 non-null    object \n",
            " 7   latitud             156 non-null    float64\n",
            " 8   longitud            156 non-null    float64\n",
            " 9   posteRecarga        156 non-null    object \n",
            " 10  toma                154 non-null    object \n",
            "dtypes: float64(2), object(9)\n",
            "memory usage: 13.5+ KB\n"
          ],
          "name": "stdout"
        }
      ]
    },
    {
      "cell_type": "markdown",
      "metadata": {
        "id": "eGrnEbvEdxfG",
        "colab_type": "text"
      },
      "source": [
        "# Data Preprocessing"
      ]
    },
    {
      "cell_type": "code",
      "metadata": {
        "id": "vXox5LaBXS4a",
        "colab_type": "code",
        "colab": {}
      },
      "source": [
        "def match_region_name(reg_src, list_reg):\n",
        "  \"\"\"\n",
        "  Matches composite names which appears in a different order\n",
        "  e.g. 'Principade de Asturias' and 'Asturias Principado de'\n",
        "  \"\"\"\n",
        "  l_src = reg_src.split()\n",
        "\n",
        "  if len(l_src) == 1:\n",
        "    return reg_src\n",
        "\n",
        "  l = list(map(str.split, list_reg))\n",
        "  l = [i for i in l if len(i) > 1]\n",
        "  return ' '.join(next((s for s in l if set(l_src) == set(s)), reg_src.split()))\n",
        "\n",
        "def replace_whole_str(sub, l):\n",
        "  return next((s for s in l if sub in s), sub)"
      ],
      "execution_count": 0,
      "outputs": []
    },
    {
      "cell_type": "code",
      "metadata": {
        "id": "XLk1-tmVZ6mV",
        "colab_type": "code",
        "outputId": "3e4685f8-e368-42f6-f79d-4a1a86869d4e",
        "colab": {
          "base_uri": "https://localhost:8080/",
          "height": 69
        }
      },
      "source": [
        "#Normalisation des regions du fichier points\n",
        "df_points['region'] = df_points['region'].str.lower()\n",
        "df_points['region'] = df_points['region'].str.normalize('NFKD').str.encode('ascii', errors='ignore').str.decode('utf-8')\n",
        "df_points['region'].unique()"
      ],
      "execution_count": 0,
      "outputs": [
        {
          "output_type": "execute_result",
          "data": {
            "text/plain": [
              "array(['principado de asturias', 'pais vasco', 'comunidad valenciana',\n",
              "       'cantabria', 'castilla y leon', 'region de murcia', 'andalucia'],\n",
              "      dtype=object)"
            ]
          },
          "metadata": {
            "tags": []
          },
          "execution_count": 57
        }
      ]
    },
    {
      "cell_type": "code",
      "metadata": {
        "id": "VgURYJPbNhRJ",
        "colab_type": "code",
        "outputId": "1ef8d94f-e52e-4d02-8667-1abe89702772",
        "colab": {
          "base_uri": "https://localhost:8080/",
          "height": 121
        }
      },
      "source": [
        "#Normalisation des noms de provinces du fichier provincia_listado\n",
        "df_provincia['PROVINCIA'] = df_provincia['PROVINCIA'].str.lower()\n",
        "df_provincia['PROVINCIA'] = df_provincia['PROVINCIA'].str.normalize('NFKD').str.encode('ascii', errors='ignore').str.decode('utf-8')\n",
        "df_provincia['PROVINCIA'] = df_provincia['PROVINCIA'].str.replace('\\(|\\)', '', regex=True)\n",
        "\n",
        "df_provincia['Autonomia'] = df_provincia['Autonomia'].str.lower()\n",
        "df_provincia['Autonomia'] = df_provincia['Autonomia'].str.normalize('NFKD').str.encode('ascii', errors='ignore').str.decode('utf-8')\n",
        "\n",
        "df_provincia['Autonomia'] = df_provincia['Autonomia'].str.replace('\\(|\\)', '', regex=True)\n",
        "df_provincia['Autonomia'] = df_provincia['Autonomia'].apply(lambda x : match_region_name(x, df_points['region'].unique()))\n",
        "df_provincia['Autonomia'].unique()"
      ],
      "execution_count": 0,
      "outputs": [
        {
          "output_type": "execute_result",
          "data": {
            "text/plain": [
              "array(['pais vasco', 'castilla-la mancha', 'comunidad valenciana',\n",
              "       'andalucia', 'castilla y leon', 'extremadura', 'balears illes',\n",
              "       'cataluna', 'galicia', 'aragon', 'rioja la', 'madrid comunidad de',\n",
              "       'region de murcia', 'navarra comunidad foral de',\n",
              "       'principado de asturias', 'canarias', 'cantabria',\n",
              "       'ceuta ciudad de', 'melilla ciudad de'], dtype=object)"
            ]
          },
          "metadata": {
            "tags": []
          },
          "execution_count": 58
        }
      ]
    },
    {
      "cell_type": "code",
      "metadata": {
        "id": "EAe8N8ugP-T2",
        "colab_type": "code",
        "outputId": "0af45d9f-978f-4338-a0e0-505cfc4df933",
        "colab": {
          "base_uri": "https://localhost:8080/",
          "height": 121
        }
      },
      "source": [
        "#Impagos normalisation\n",
        "df_impagos['PROVINCIA'] = df_impagos['PROVINCIA'].str.lower()\n",
        "df_impagos['PROVINCIA'] = df_impagos['PROVINCIA'].str.normalize('NFKD').str.encode('ascii', errors='ignore').str.decode('utf-8')\n",
        "#df_impagos['PROVINCIA'] = df_impagos['PROVINCIA'].apply(lambda x : x.replace(' / ', '/'))\n",
        "df_impagos['PROVINCIA'] = df_impagos['PROVINCIA'].str.replace(' / ', '/')\n",
        "df_impagos['PROVINCIA'] = df_impagos['PROVINCIA'].apply(lambda x : replace_whole_str(x, df_provincia['PROVINCIA'].unique()))\n",
        "df_impagos['PROVINCIA'] = df_impagos['PROVINCIA'].apply(lambda x : match_region_name(x, df_provincia['PROVINCIA'].unique()))\n",
        "df_impagos['PROVINCIA'].unique()"
      ],
      "execution_count": 0,
      "outputs": [
        {
          "output_type": "execute_result",
          "data": {
            "text/plain": [
              "array(['asturias', 'leon', 'navarra', 'baleares', 'madrid', 'toledo',\n",
              "       'alicante/alacant', 'zaragoza', 'salamanca', 'valladolid',\n",
              "       'cantabria', 'valencia/valencia', 'araba/alava', 'murcia',\n",
              "       'gerona', 'bizkaia', 'barcelona', 'badajoz', 'gipuzkoa', 'jaen',\n",
              "       'palencia', 'rioja la', 'lerida', 'sevilla', 'albacete', 'granada',\n",
              "       'huelva', 'cordoba', 'guadalajara'], dtype=object)"
            ]
          },
          "metadata": {
            "tags": []
          },
          "execution_count": 59
        }
      ]
    },
    {
      "cell_type": "code",
      "metadata": {
        "id": "OPRWi3IbYcH_",
        "colab_type": "code",
        "outputId": "eeaa23ca-e6b8-406e-90c0-3f4d1e8bd3e4",
        "colab": {
          "base_uri": "https://localhost:8080/",
          "height": 208
        }
      },
      "source": [
        "df_provincia['PROVINCIA'].unique()"
      ],
      "execution_count": 0,
      "outputs": [
        {
          "output_type": "execute_result",
          "data": {
            "text/plain": [
              "array(['araba/alava', 'albacete', 'alicante/alacant', 'almeria', 'avila',\n",
              "       'badajoz', 'balears illes', 'barcelona', 'burgos', 'caceres',\n",
              "       'cadiz', 'castellon/castello', 'ciudad real', 'cordoba',\n",
              "       'coruna la', 'cuenca', 'girona', 'granada', 'guadalajara',\n",
              "       'gipuzkoa', 'huelva', 'huesca', 'jaen', 'leon', 'lleida',\n",
              "       'rioja la', 'lugo', 'madrid', 'malaga', 'murcia', 'navarra',\n",
              "       'ourense', 'asturias', 'palencia', 'palmas las', 'pontevedra',\n",
              "       'salamanca', 'santa cruz de tenerife', 'cantabria', 'segovia',\n",
              "       'sevilla', 'soria', 'tarragona', 'teruel', 'toledo',\n",
              "       'valencia/valencia', 'valladolid', 'bizkaia', 'zamora', 'zaragoza',\n",
              "       'ceuta', 'melilla'], dtype=object)"
            ]
          },
          "metadata": {
            "tags": []
          },
          "execution_count": 60
        }
      ]
    },
    {
      "cell_type": "code",
      "metadata": {
        "id": "tzyF0viNEPvT",
        "colab_type": "code",
        "outputId": "8281a8e5-150f-40e9-c78c-968d3c74cac6",
        "colab": {
          "base_uri": "https://localhost:8080/",
          "height": 173
        }
      },
      "source": [
        "#Normalisation des noms des provinces du fichier matricules\n",
        "df_matricules['Provincia'] = df_matricules['Provincia'].apply(lambda x : x.strip().lower())\n",
        "df_matricules['Provincia'] = df_matricules['Provincia'].str.normalize('NFKD').str.encode('ascii', errors='ignore').str.decode('utf-8')\n",
        "df_matricules['Provincia'] = df_matricules['Provincia'].str.replace('\\(|\\)', '', regex=True)\n",
        "df_matricules['Provincia'] = df_matricules['Provincia'].apply(lambda x : replace_whole_str(x, df_provincia['PROVINCIA'].unique()))\n",
        "df_matricules['Provincia'].unique()"
      ],
      "execution_count": 0,
      "outputs": [
        {
          "output_type": "execute_result",
          "data": {
            "text/plain": [
              "array(['araba/alava', 'sta. cruz tenerife', 'murcia', 'valladolid',\n",
              "       'huelva', 'alicante/alacant', 'castellon/castello', 'ciudad real',\n",
              "       'coruna la', 'gerona', 'guadalajara', 'huesca', 'madrid',\n",
              "       'navarra', 'palmas las', 'pontevedra', 'tarragona', 'zaragoza',\n",
              "       'albacete', 'almeria', 'badajoz', 'burgos', 'cantabria', 'cordoba',\n",
              "       'guipuzcoa', 'sevilla', 'barcelona', 'asturias', 'baleares',\n",
              "       'leon', 'salamanca', 'toledo', 'valencia/valencia', 'rioja la',\n",
              "       'malaga', 'vizcaya', 'granada', 'cadiz', 'lugo', 'jaen', 'lerida',\n",
              "       'orense'], dtype=object)"
            ]
          },
          "metadata": {
            "tags": []
          },
          "execution_count": 61
        }
      ]
    },
    {
      "cell_type": "code",
      "metadata": {
        "id": "jXbab5vF28m3",
        "colab_type": "code",
        "outputId": "7d2937a7-a8be-47e3-b2fa-2ac0b651c00d",
        "colab": {
          "base_uri": "https://localhost:8080/",
          "height": 104
        }
      },
      "source": [
        "#Sanity check\n",
        "try:\n",
        "  assert set(df_matricules['Provincia'].unique()).issubset(set(df_provincia['PROVINCIA'].unique()))\n",
        "  print('Provincia names from matricules.xlsx MATCH names from provincia_listado.xlsx')\n",
        "except AssertionError:\n",
        "  print('Provincia names from matricules.xlsx DO NOT MATCH names from provincia_listado.xlsx')\n",
        "\n",
        "print('#'*50)\n",
        "\n",
        "try:\n",
        "  assert(set(df_points['region'].unique()).issubset(set(df_provincia['Autonomia'].unique())))\n",
        "  print('Autonomia names from PuntosRecarga MATCH names from provincia_listado.xlsx')\n",
        "except AssertionError:\n",
        "  print('Autonomia names from PuntosRecarga.xlsx DO NOT MATCH names from provincia_listado.xlsx')\n",
        "\n",
        "print('#'*50)\n",
        "\n",
        "try:\n",
        "  assert(set(df_impagos['PROVINCIA'].unique()).issubset(set(df_provincia['PROVINCIA'].unique())))\n",
        "  print('Provincia names from impagos.xlsx MATCH names from  provincia_listado.xlsx')\n",
        "except AssertionError:\n",
        "  print('Provincia names from impagos.xlsx DO NOT MATCH names from  provincia_listado.xlsx')"
      ],
      "execution_count": 0,
      "outputs": [
        {
          "output_type": "stream",
          "text": [
            "Provincia names from matricules.xlsx DO NOT MATCH names from provincia_listado.xlsx\n",
            "##################################################\n",
            "Autonomia names from PuntosRecarga MATCH names from provincia_listado.xlsx\n",
            "##################################################\n",
            "Provincia names from impagos.xlsx DO NOT MATCH names from  provincia_listado.xlsx\n"
          ],
          "name": "stdout"
        }
      ]
    },
    {
      "cell_type": "code",
      "metadata": {
        "id": "6IxicG8A47ON",
        "colab_type": "code",
        "outputId": "0e7a4cd4-fd72-4898-b3af-cfa75f74ef2a",
        "colab": {
          "base_uri": "https://localhost:8080/",
          "height": 34
        }
      },
      "source": [
        "# cette celule est à enlever éventuellement\n",
        "# Get not matching elements\n",
        "print(set(df_matricules['Provincia'].unique()).difference(set(df_provincia['PROVINCIA'].unique())))\n"
      ],
      "execution_count": 0,
      "outputs": [
        {
          "output_type": "stream",
          "text": [
            "{'sta. cruz tenerife', 'baleares', 'orense', 'guipuzcoa', 'vizcaya', 'lerida', 'gerona'}\n"
          ],
          "name": "stdout"
        }
      ]
    },
    {
      "cell_type": "code",
      "metadata": {
        "id": "HZOGrskXX0Ka",
        "colab_type": "code",
        "colab": {}
      },
      "source": [
        "#Join matricules w/ provincia to add Autonomia\n",
        "df_merged_w_provincia= df_matricules.merge(df_provincia,\n",
        "                                left_on='Provincia',\n",
        "                                right_on='PROVINCIA')"
      ],
      "execution_count": 0,
      "outputs": []
    },
    {
      "cell_type": "code",
      "metadata": {
        "id": "iB4Csn9SYE1R",
        "colab_type": "code",
        "outputId": "00d50fda-c979-4dfe-a06b-3d81447bff87",
        "colab": {
          "base_uri": "https://localhost:8080/",
          "height": 206
        }
      },
      "source": [
        "df_merged_w_provincia.head()"
      ],
      "execution_count": 0,
      "outputs": [
        {
          "output_type": "execute_result",
          "data": {
            "text/html": [
              "<div>\n",
              "<style scoped>\n",
              "    .dataframe tbody tr th:only-of-type {\n",
              "        vertical-align: middle;\n",
              "    }\n",
              "\n",
              "    .dataframe tbody tr th {\n",
              "        vertical-align: top;\n",
              "    }\n",
              "\n",
              "    .dataframe thead th {\n",
              "        text-align: right;\n",
              "    }\n",
              "</style>\n",
              "<table border=\"1\" class=\"dataframe\">\n",
              "  <thead>\n",
              "    <tr style=\"text-align: right;\">\n",
              "      <th></th>\n",
              "      <th>Categoria_veh_elect</th>\n",
              "      <th>Año</th>\n",
              "      <th>Mercado</th>\n",
              "      <th>Marca</th>\n",
              "      <th>Modelo</th>\n",
              "      <th>Provincia</th>\n",
              "      <th>Canal</th>\n",
              "      <th>PROVINCIA</th>\n",
              "      <th>Superficie</th>\n",
              "      <th>Autonomia</th>\n",
              "    </tr>\n",
              "  </thead>\n",
              "  <tbody>\n",
              "    <tr>\n",
              "      <th>0</th>\n",
              "      <td>BEV</td>\n",
              "      <td>2018</td>\n",
              "      <td>Automoviles</td>\n",
              "      <td>VOLKSWAGEN</td>\n",
              "      <td>E-GOLF 3P/5P</td>\n",
              "      <td>araba/alava</td>\n",
              "      <td>Particular</td>\n",
              "      <td>araba/alava</td>\n",
              "      <td>3042.44</td>\n",
              "      <td>pais vasco</td>\n",
              "    </tr>\n",
              "    <tr>\n",
              "      <th>1</th>\n",
              "      <td>BEV</td>\n",
              "      <td>2019</td>\n",
              "      <td>Automoviles</td>\n",
              "      <td>VOLKSWAGEN</td>\n",
              "      <td>E-GOLF 3P/5P</td>\n",
              "      <td>araba/alava</td>\n",
              "      <td>Empresa</td>\n",
              "      <td>araba/alava</td>\n",
              "      <td>3042.44</td>\n",
              "      <td>pais vasco</td>\n",
              "    </tr>\n",
              "    <tr>\n",
              "      <th>2</th>\n",
              "      <td>PHEV</td>\n",
              "      <td>2019</td>\n",
              "      <td>Automoviles</td>\n",
              "      <td>VOLKSWAGEN</td>\n",
              "      <td>GOLF 1.4 GTE</td>\n",
              "      <td>araba/alava</td>\n",
              "      <td>Empresa</td>\n",
              "      <td>araba/alava</td>\n",
              "      <td>3042.44</td>\n",
              "      <td>pais vasco</td>\n",
              "    </tr>\n",
              "    <tr>\n",
              "      <th>3</th>\n",
              "      <td>BEV</td>\n",
              "      <td>2018</td>\n",
              "      <td>Automoviles</td>\n",
              "      <td>VOLKSWAGEN</td>\n",
              "      <td>E-UP! 3P</td>\n",
              "      <td>murcia</td>\n",
              "      <td>Particular</td>\n",
              "      <td>murcia</td>\n",
              "      <td>11313.88</td>\n",
              "      <td>region de murcia</td>\n",
              "    </tr>\n",
              "    <tr>\n",
              "      <th>4</th>\n",
              "      <td>BEV</td>\n",
              "      <td>2019</td>\n",
              "      <td>Automoviles</td>\n",
              "      <td>VOLKSWAGEN</td>\n",
              "      <td>E-GOLF 3P/5P</td>\n",
              "      <td>murcia</td>\n",
              "      <td>Empresa</td>\n",
              "      <td>murcia</td>\n",
              "      <td>11313.88</td>\n",
              "      <td>region de murcia</td>\n",
              "    </tr>\n",
              "  </tbody>\n",
              "</table>\n",
              "</div>"
            ],
            "text/plain": [
              "  Categoria_veh_elect   Año  ... Superficie         Autonomia\n",
              "0                 BEV  2018  ...    3042.44        pais vasco\n",
              "1                 BEV  2019  ...    3042.44        pais vasco\n",
              "2                PHEV  2019  ...    3042.44        pais vasco\n",
              "3                 BEV  2018  ...   11313.88  region de murcia\n",
              "4                 BEV  2019  ...   11313.88  region de murcia\n",
              "\n",
              "[5 rows x 10 columns]"
            ]
          },
          "metadata": {
            "tags": []
          },
          "execution_count": 65
        }
      ]
    },
    {
      "cell_type": "code",
      "metadata": {
        "id": "2V7CMaKtAu0e",
        "colab_type": "code",
        "outputId": "ed051513-83e9-425e-8877-721785bba635",
        "colab": {
          "base_uri": "https://localhost:8080/",
          "height": 312
        }
      },
      "source": [
        "df_merged_w_provincia.info()  "
      ],
      "execution_count": 0,
      "outputs": [
        {
          "output_type": "stream",
          "text": [
            "<class 'pandas.core.frame.DataFrame'>\n",
            "Int64Index: 108 entries, 0 to 107\n",
            "Data columns (total 10 columns):\n",
            " #   Column               Non-Null Count  Dtype  \n",
            "---  ------               --------------  -----  \n",
            " 0   Categoria_veh_elect  108 non-null    object \n",
            " 1   Año                  108 non-null    int64  \n",
            " 2   Mercado              108 non-null    object \n",
            " 3   Marca                108 non-null    object \n",
            " 4   Modelo               108 non-null    object \n",
            " 5   Provincia            108 non-null    object \n",
            " 6   Canal                108 non-null    object \n",
            " 7   PROVINCIA            108 non-null    object \n",
            " 8   Superficie           108 non-null    float64\n",
            " 9   Autonomia            108 non-null    object \n",
            "dtypes: float64(1), int64(1), object(8)\n",
            "memory usage: 9.3+ KB\n"
          ],
          "name": "stdout"
        }
      ]
    },
    {
      "cell_type": "code",
      "metadata": {
        "id": "-iDGAonyZacm",
        "colab_type": "code",
        "colab": {}
      },
      "source": [
        "#Join points w/ matricules\n",
        "df_merged_w_points = df_merged_w_provincia.merge(df_points,\n",
        "                                                 how='left',\n",
        "                                                 left_on='Autonomia',\n",
        "                                                 right_on='region')"
      ],
      "execution_count": 0,
      "outputs": []
    },
    {
      "cell_type": "code",
      "metadata": {
        "id": "g9105lFoo7Ie",
        "colab_type": "code",
        "outputId": "42e63ab0-7a62-42d9-c1ef-b1ac1e99397a",
        "colab": {
          "base_uri": "https://localhost:8080/",
          "height": 365
        }
      },
      "source": [
        "#Df n'ayant pas de bornes dans la même regions que les voitures\n",
        "#df_merged_w_points[df_merged_w_points['zona'].isnull()].info() # 56 entries\n",
        "df_merged_w_points[df_merged_w_points['zona'].isnull()].head()"
      ],
      "execution_count": 0,
      "outputs": [
        {
          "output_type": "execute_result",
          "data": {
            "text/html": [
              "<div>\n",
              "<style scoped>\n",
              "    .dataframe tbody tr th:only-of-type {\n",
              "        vertical-align: middle;\n",
              "    }\n",
              "\n",
              "    .dataframe tbody tr th {\n",
              "        vertical-align: top;\n",
              "    }\n",
              "\n",
              "    .dataframe thead th {\n",
              "        text-align: right;\n",
              "    }\n",
              "</style>\n",
              "<table border=\"1\" class=\"dataframe\">\n",
              "  <thead>\n",
              "    <tr style=\"text-align: right;\">\n",
              "      <th></th>\n",
              "      <th>Categoria_veh_elect</th>\n",
              "      <th>Año</th>\n",
              "      <th>Mercado</th>\n",
              "      <th>Marca</th>\n",
              "      <th>Modelo</th>\n",
              "      <th>Provincia</th>\n",
              "      <th>Canal</th>\n",
              "      <th>PROVINCIA</th>\n",
              "      <th>Superficie</th>\n",
              "      <th>Autonomia</th>\n",
              "      <th>grupo</th>\n",
              "      <th>organizacion</th>\n",
              "      <th>SuperCPO</th>\n",
              "      <th>GrupoCargadoresCPO</th>\n",
              "      <th>region</th>\n",
              "      <th>zona</th>\n",
              "      <th>ubicacion</th>\n",
              "      <th>latitud</th>\n",
              "      <th>longitud</th>\n",
              "      <th>posteRecarga</th>\n",
              "      <th>toma</th>\n",
              "    </tr>\n",
              "  </thead>\n",
              "  <tbody>\n",
              "    <tr>\n",
              "      <th>87</th>\n",
              "      <td>BEV</td>\n",
              "      <td>2019</td>\n",
              "      <td>Automoviles</td>\n",
              "      <td>VOLKSWAGEN</td>\n",
              "      <td>E-GOLF 3P/5P</td>\n",
              "      <td>ciudad real</td>\n",
              "      <td>Empresa</td>\n",
              "      <td>ciudad real</td>\n",
              "      <td>19662.78</td>\n",
              "      <td>castilla-la mancha</td>\n",
              "      <td>NaN</td>\n",
              "      <td>NaN</td>\n",
              "      <td>NaN</td>\n",
              "      <td>NaN</td>\n",
              "      <td>NaN</td>\n",
              "      <td>NaN</td>\n",
              "      <td>NaN</td>\n",
              "      <td>NaN</td>\n",
              "      <td>NaN</td>\n",
              "      <td>NaN</td>\n",
              "      <td>NaN</td>\n",
              "    </tr>\n",
              "    <tr>\n",
              "      <th>88</th>\n",
              "      <td>BEV</td>\n",
              "      <td>2019</td>\n",
              "      <td>Automoviles</td>\n",
              "      <td>VOLKSWAGEN</td>\n",
              "      <td>E-GOLF 3P/5P</td>\n",
              "      <td>coruna la</td>\n",
              "      <td>Particular</td>\n",
              "      <td>coruna la</td>\n",
              "      <td>7910.76</td>\n",
              "      <td>galicia</td>\n",
              "      <td>NaN</td>\n",
              "      <td>NaN</td>\n",
              "      <td>NaN</td>\n",
              "      <td>NaN</td>\n",
              "      <td>NaN</td>\n",
              "      <td>NaN</td>\n",
              "      <td>NaN</td>\n",
              "      <td>NaN</td>\n",
              "      <td>NaN</td>\n",
              "      <td>NaN</td>\n",
              "      <td>NaN</td>\n",
              "    </tr>\n",
              "    <tr>\n",
              "      <th>89</th>\n",
              "      <td>PHEV</td>\n",
              "      <td>2018</td>\n",
              "      <td>Automoviles</td>\n",
              "      <td>VOLKSWAGEN</td>\n",
              "      <td>GOLF 1.4 GTE</td>\n",
              "      <td>coruna la</td>\n",
              "      <td>Empresa</td>\n",
              "      <td>coruna la</td>\n",
              "      <td>7910.76</td>\n",
              "      <td>galicia</td>\n",
              "      <td>NaN</td>\n",
              "      <td>NaN</td>\n",
              "      <td>NaN</td>\n",
              "      <td>NaN</td>\n",
              "      <td>NaN</td>\n",
              "      <td>NaN</td>\n",
              "      <td>NaN</td>\n",
              "      <td>NaN</td>\n",
              "      <td>NaN</td>\n",
              "      <td>NaN</td>\n",
              "      <td>NaN</td>\n",
              "    </tr>\n",
              "    <tr>\n",
              "      <th>90</th>\n",
              "      <td>PHEV</td>\n",
              "      <td>2019</td>\n",
              "      <td>Automoviles</td>\n",
              "      <td>VOLKSWAGEN</td>\n",
              "      <td>PASSAT 1.4 GTE 4P (B6)</td>\n",
              "      <td>coruna la</td>\n",
              "      <td>Empresa</td>\n",
              "      <td>coruna la</td>\n",
              "      <td>7910.76</td>\n",
              "      <td>galicia</td>\n",
              "      <td>NaN</td>\n",
              "      <td>NaN</td>\n",
              "      <td>NaN</td>\n",
              "      <td>NaN</td>\n",
              "      <td>NaN</td>\n",
              "      <td>NaN</td>\n",
              "      <td>NaN</td>\n",
              "      <td>NaN</td>\n",
              "      <td>NaN</td>\n",
              "      <td>NaN</td>\n",
              "      <td>NaN</td>\n",
              "    </tr>\n",
              "    <tr>\n",
              "      <th>91</th>\n",
              "      <td>BEV</td>\n",
              "      <td>2019</td>\n",
              "      <td>Automoviles</td>\n",
              "      <td>VOLKSWAGEN</td>\n",
              "      <td>E-GOLF 3P/5P</td>\n",
              "      <td>coruna la</td>\n",
              "      <td>Empresa</td>\n",
              "      <td>coruna la</td>\n",
              "      <td>7910.76</td>\n",
              "      <td>galicia</td>\n",
              "      <td>NaN</td>\n",
              "      <td>NaN</td>\n",
              "      <td>NaN</td>\n",
              "      <td>NaN</td>\n",
              "      <td>NaN</td>\n",
              "      <td>NaN</td>\n",
              "      <td>NaN</td>\n",
              "      <td>NaN</td>\n",
              "      <td>NaN</td>\n",
              "      <td>NaN</td>\n",
              "      <td>NaN</td>\n",
              "    </tr>\n",
              "  </tbody>\n",
              "</table>\n",
              "</div>"
            ],
            "text/plain": [
              "   Categoria_veh_elect   Año      Mercado  ... longitud posteRecarga toma\n",
              "87                 BEV  2019  Automoviles  ...      NaN          NaN  NaN\n",
              "88                 BEV  2019  Automoviles  ...      NaN          NaN  NaN\n",
              "89                PHEV  2018  Automoviles  ...      NaN          NaN  NaN\n",
              "90                PHEV  2019  Automoviles  ...      NaN          NaN  NaN\n",
              "91                 BEV  2019  Automoviles  ...      NaN          NaN  NaN\n",
              "\n",
              "[5 rows x 21 columns]"
            ]
          },
          "metadata": {
            "tags": []
          },
          "execution_count": 68
        }
      ]
    },
    {
      "cell_type": "code",
      "metadata": {
        "id": "5i--E2ApsaJk",
        "colab_type": "code",
        "outputId": "b765e9aa-4044-4d8a-a1f6-b62dbd853eea",
        "colab": {
          "base_uri": "https://localhost:8080/",
          "height": 400
        }
      },
      "source": [
        "#Df bornes présentes dans la même région que les voitures\n",
        "#df_merged_w_points[df_merged_w_points['zona'].notnull()].info() # 868 entries\n",
        "df_merged_w_points[df_merged_w_points['zona'].notnull()].head()"
      ],
      "execution_count": 0,
      "outputs": [
        {
          "output_type": "execute_result",
          "data": {
            "text/html": [
              "<div>\n",
              "<style scoped>\n",
              "    .dataframe tbody tr th:only-of-type {\n",
              "        vertical-align: middle;\n",
              "    }\n",
              "\n",
              "    .dataframe tbody tr th {\n",
              "        vertical-align: top;\n",
              "    }\n",
              "\n",
              "    .dataframe thead th {\n",
              "        text-align: right;\n",
              "    }\n",
              "</style>\n",
              "<table border=\"1\" class=\"dataframe\">\n",
              "  <thead>\n",
              "    <tr style=\"text-align: right;\">\n",
              "      <th></th>\n",
              "      <th>Categoria_veh_elect</th>\n",
              "      <th>Año</th>\n",
              "      <th>Mercado</th>\n",
              "      <th>Marca</th>\n",
              "      <th>Modelo</th>\n",
              "      <th>Provincia</th>\n",
              "      <th>Canal</th>\n",
              "      <th>PROVINCIA</th>\n",
              "      <th>Superficie</th>\n",
              "      <th>Autonomia</th>\n",
              "      <th>grupo</th>\n",
              "      <th>organizacion</th>\n",
              "      <th>SuperCPO</th>\n",
              "      <th>GrupoCargadoresCPO</th>\n",
              "      <th>region</th>\n",
              "      <th>zona</th>\n",
              "      <th>ubicacion</th>\n",
              "      <th>latitud</th>\n",
              "      <th>longitud</th>\n",
              "      <th>posteRecarga</th>\n",
              "      <th>toma</th>\n",
              "    </tr>\n",
              "  </thead>\n",
              "  <tbody>\n",
              "    <tr>\n",
              "      <th>0</th>\n",
              "      <td>BEV</td>\n",
              "      <td>2018</td>\n",
              "      <td>Automoviles</td>\n",
              "      <td>VOLKSWAGEN</td>\n",
              "      <td>E-GOLF 3P/5P</td>\n",
              "      <td>araba/alava</td>\n",
              "      <td>Particular</td>\n",
              "      <td>araba/alava</td>\n",
              "      <td>3042.44</td>\n",
              "      <td>pais vasco</td>\n",
              "      <td>Edp Moveon</td>\n",
              "      <td>EDP</td>\n",
              "      <td>EDP moveon</td>\n",
              "      <td>EDP Moveon</td>\n",
              "      <td>pais vasco</td>\n",
              "      <td>Vitoria</td>\n",
              "      <td>País Vasco</td>\n",
              "      <td>42.860120</td>\n",
              "      <td>-2.703290</td>\n",
              "      <td>Vitorialanda</td>\n",
              "      <td>CCS Combo 2 Plug (Cable Attached)</td>\n",
              "    </tr>\n",
              "    <tr>\n",
              "      <th>1</th>\n",
              "      <td>BEV</td>\n",
              "      <td>2018</td>\n",
              "      <td>Automoviles</td>\n",
              "      <td>VOLKSWAGEN</td>\n",
              "      <td>E-GOLF 3P/5P</td>\n",
              "      <td>araba/alava</td>\n",
              "      <td>Particular</td>\n",
              "      <td>araba/alava</td>\n",
              "      <td>3042.44</td>\n",
              "      <td>pais vasco</td>\n",
              "      <td>Edp Moveon</td>\n",
              "      <td>EDP</td>\n",
              "      <td>EDP moveon</td>\n",
              "      <td>EDP Moveon</td>\n",
              "      <td>pais vasco</td>\n",
              "      <td>Vitoria</td>\n",
              "      <td>País Vasco</td>\n",
              "      <td>42.860120</td>\n",
              "      <td>-2.703290</td>\n",
              "      <td>Vitorialanda</td>\n",
              "      <td>CHAdeMO</td>\n",
              "    </tr>\n",
              "    <tr>\n",
              "      <th>2</th>\n",
              "      <td>BEV</td>\n",
              "      <td>2018</td>\n",
              "      <td>Automoviles</td>\n",
              "      <td>VOLKSWAGEN</td>\n",
              "      <td>E-GOLF 3P/5P</td>\n",
              "      <td>araba/alava</td>\n",
              "      <td>Particular</td>\n",
              "      <td>araba/alava</td>\n",
              "      <td>3042.44</td>\n",
              "      <td>pais vasco</td>\n",
              "      <td>Edp Moveon</td>\n",
              "      <td>EDP</td>\n",
              "      <td>EDP moveon</td>\n",
              "      <td>EDP Moveon</td>\n",
              "      <td>pais vasco</td>\n",
              "      <td>Vitoria</td>\n",
              "      <td>País Vasco</td>\n",
              "      <td>42.860120</td>\n",
              "      <td>-2.703290</td>\n",
              "      <td>Vitorialanda</td>\n",
              "      <td>Type 2 Connector (Cable Attached)</td>\n",
              "    </tr>\n",
              "    <tr>\n",
              "      <th>3</th>\n",
              "      <td>BEV</td>\n",
              "      <td>2018</td>\n",
              "      <td>Automoviles</td>\n",
              "      <td>VOLKSWAGEN</td>\n",
              "      <td>E-GOLF 3P/5P</td>\n",
              "      <td>araba/alava</td>\n",
              "      <td>Particular</td>\n",
              "      <td>araba/alava</td>\n",
              "      <td>3042.44</td>\n",
              "      <td>pais vasco</td>\n",
              "      <td>EDP Mantenimiento</td>\n",
              "      <td>Mantenimiento</td>\n",
              "      <td>EDP moveon</td>\n",
              "      <td>EDP Moveon</td>\n",
              "      <td>pais vasco</td>\n",
              "      <td>Bergara</td>\n",
              "      <td>País Vasco</td>\n",
              "      <td>43.107969</td>\n",
              "      <td>-2.406641</td>\n",
              "      <td>Avia - Bergara</td>\n",
              "      <td>CHAdeMO</td>\n",
              "    </tr>\n",
              "    <tr>\n",
              "      <th>4</th>\n",
              "      <td>BEV</td>\n",
              "      <td>2018</td>\n",
              "      <td>Automoviles</td>\n",
              "      <td>VOLKSWAGEN</td>\n",
              "      <td>E-GOLF 3P/5P</td>\n",
              "      <td>araba/alava</td>\n",
              "      <td>Particular</td>\n",
              "      <td>araba/alava</td>\n",
              "      <td>3042.44</td>\n",
              "      <td>pais vasco</td>\n",
              "      <td>ISASTUR</td>\n",
              "      <td>Mantenimiento</td>\n",
              "      <td>EDP moveon</td>\n",
              "      <td>EDP Moveon</td>\n",
              "      <td>pais vasco</td>\n",
              "      <td>Murguía</td>\n",
              "      <td>País Vasco</td>\n",
              "      <td>42.961774</td>\n",
              "      <td>-2.827486</td>\n",
              "      <td>Murguía</td>\n",
              "      <td>CHAdeMO</td>\n",
              "    </tr>\n",
              "  </tbody>\n",
              "</table>\n",
              "</div>"
            ],
            "text/plain": [
              "  Categoria_veh_elect   Año  ...    posteRecarga                               toma\n",
              "0                 BEV  2018  ...    Vitorialanda  CCS Combo 2 Plug (Cable Attached)\n",
              "1                 BEV  2018  ...    Vitorialanda                            CHAdeMO\n",
              "2                 BEV  2018  ...    Vitorialanda  Type 2 Connector (Cable Attached)\n",
              "3                 BEV  2018  ...  Avia - Bergara                            CHAdeMO\n",
              "4                 BEV  2018  ...         Murguía                            CHAdeMO\n",
              "\n",
              "[5 rows x 21 columns]"
            ]
          },
          "metadata": {
            "tags": []
          },
          "execution_count": 69
        }
      ]
    },
    {
      "cell_type": "markdown",
      "metadata": {
        "id": "itmku4Z_FQNx",
        "colab_type": "text"
      },
      "source": [
        "#Exploratory Data Analysis"
      ]
    },
    {
      "cell_type": "markdown",
      "metadata": {
        "id": "-0ZyGOUtcc2z",
        "colab_type": "text"
      },
      "source": [
        "##Data matricules/points"
      ]
    },
    {
      "cell_type": "code",
      "metadata": {
        "id": "b1c7PJCk0pkv",
        "colab_type": "code",
        "outputId": "e788a5dc-169f-4b33-a183-bd3ea2f0792c",
        "colab": {
          "base_uri": "https://localhost:8080/",
          "height": 269
        }
      },
      "source": [
        "#Nombre de bornes par region\n",
        "df_point_per_region = df_points['region'].value_counts().rename_axis('region').reset_index(name='count_point')\n",
        "df_point_per_region"
      ],
      "execution_count": 0,
      "outputs": [
        {
          "output_type": "execute_result",
          "data": {
            "text/html": [
              "<div>\n",
              "<style scoped>\n",
              "    .dataframe tbody tr th:only-of-type {\n",
              "        vertical-align: middle;\n",
              "    }\n",
              "\n",
              "    .dataframe tbody tr th {\n",
              "        vertical-align: top;\n",
              "    }\n",
              "\n",
              "    .dataframe thead th {\n",
              "        text-align: right;\n",
              "    }\n",
              "</style>\n",
              "<table border=\"1\" class=\"dataframe\">\n",
              "  <thead>\n",
              "    <tr style=\"text-align: right;\">\n",
              "      <th></th>\n",
              "      <th>region</th>\n",
              "      <th>count_point</th>\n",
              "    </tr>\n",
              "  </thead>\n",
              "  <tbody>\n",
              "    <tr>\n",
              "      <th>0</th>\n",
              "      <td>principado de asturias</td>\n",
              "      <td>124</td>\n",
              "    </tr>\n",
              "    <tr>\n",
              "      <th>1</th>\n",
              "      <td>comunidad valenciana</td>\n",
              "      <td>10</td>\n",
              "    </tr>\n",
              "    <tr>\n",
              "      <th>2</th>\n",
              "      <td>pais vasco</td>\n",
              "      <td>7</td>\n",
              "    </tr>\n",
              "    <tr>\n",
              "      <th>3</th>\n",
              "      <td>cantabria</td>\n",
              "      <td>5</td>\n",
              "    </tr>\n",
              "    <tr>\n",
              "      <th>4</th>\n",
              "      <td>castilla y leon</td>\n",
              "      <td>4</td>\n",
              "    </tr>\n",
              "    <tr>\n",
              "      <th>5</th>\n",
              "      <td>andalucia</td>\n",
              "      <td>4</td>\n",
              "    </tr>\n",
              "    <tr>\n",
              "      <th>6</th>\n",
              "      <td>region de murcia</td>\n",
              "      <td>2</td>\n",
              "    </tr>\n",
              "  </tbody>\n",
              "</table>\n",
              "</div>"
            ],
            "text/plain": [
              "                   region  count_point\n",
              "0  principado de asturias          124\n",
              "1    comunidad valenciana           10\n",
              "2              pais vasco            7\n",
              "3               cantabria            5\n",
              "4         castilla y leon            4\n",
              "5               andalucia            4\n",
              "6        region de murcia            2"
            ]
          },
          "metadata": {
            "tags": []
          },
          "execution_count": 70
        }
      ]
    },
    {
      "cell_type": "code",
      "metadata": {
        "id": "BcAx-n2R1rIY",
        "colab_type": "code",
        "outputId": "05f6eec0-dc82-4d5a-cbeb-8e7c3f0200ad",
        "colab": {
          "base_uri": "https://localhost:8080/",
          "height": 551
        }
      },
      "source": [
        "#Nb matricule par region\n",
        "df_veh_per_region = df_merged_w_provincia.groupby('Autonomia').agg({'Categoria_veh_elect': 'count'}).reset_index()\n",
        "df_veh_per_region"
      ],
      "execution_count": 0,
      "outputs": [
        {
          "output_type": "execute_result",
          "data": {
            "text/html": [
              "<div>\n",
              "<style scoped>\n",
              "    .dataframe tbody tr th:only-of-type {\n",
              "        vertical-align: middle;\n",
              "    }\n",
              "\n",
              "    .dataframe tbody tr th {\n",
              "        vertical-align: top;\n",
              "    }\n",
              "\n",
              "    .dataframe thead th {\n",
              "        text-align: right;\n",
              "    }\n",
              "</style>\n",
              "<table border=\"1\" class=\"dataframe\">\n",
              "  <thead>\n",
              "    <tr style=\"text-align: right;\">\n",
              "      <th></th>\n",
              "      <th>Autonomia</th>\n",
              "      <th>Categoria_veh_elect</th>\n",
              "    </tr>\n",
              "  </thead>\n",
              "  <tbody>\n",
              "    <tr>\n",
              "      <th>0</th>\n",
              "      <td>andalucia</td>\n",
              "      <td>21</td>\n",
              "    </tr>\n",
              "    <tr>\n",
              "      <th>1</th>\n",
              "      <td>aragon</td>\n",
              "      <td>5</td>\n",
              "    </tr>\n",
              "    <tr>\n",
              "      <th>2</th>\n",
              "      <td>canarias</td>\n",
              "      <td>6</td>\n",
              "    </tr>\n",
              "    <tr>\n",
              "      <th>3</th>\n",
              "      <td>cantabria</td>\n",
              "      <td>1</td>\n",
              "    </tr>\n",
              "    <tr>\n",
              "      <th>4</th>\n",
              "      <td>castilla y leon</td>\n",
              "      <td>7</td>\n",
              "    </tr>\n",
              "    <tr>\n",
              "      <th>5</th>\n",
              "      <td>castilla-la mancha</td>\n",
              "      <td>6</td>\n",
              "    </tr>\n",
              "    <tr>\n",
              "      <th>6</th>\n",
              "      <td>cataluna</td>\n",
              "      <td>13</td>\n",
              "    </tr>\n",
              "    <tr>\n",
              "      <th>7</th>\n",
              "      <td>comunidad valenciana</td>\n",
              "      <td>10</td>\n",
              "    </tr>\n",
              "    <tr>\n",
              "      <th>8</th>\n",
              "      <td>extremadura</td>\n",
              "      <td>1</td>\n",
              "    </tr>\n",
              "    <tr>\n",
              "      <th>9</th>\n",
              "      <td>galicia</td>\n",
              "      <td>8</td>\n",
              "    </tr>\n",
              "    <tr>\n",
              "      <th>10</th>\n",
              "      <td>madrid comunidad de</td>\n",
              "      <td>11</td>\n",
              "    </tr>\n",
              "    <tr>\n",
              "      <th>11</th>\n",
              "      <td>navarra comunidad foral de</td>\n",
              "      <td>3</td>\n",
              "    </tr>\n",
              "    <tr>\n",
              "      <th>12</th>\n",
              "      <td>pais vasco</td>\n",
              "      <td>3</td>\n",
              "    </tr>\n",
              "    <tr>\n",
              "      <th>13</th>\n",
              "      <td>principado de asturias</td>\n",
              "      <td>5</td>\n",
              "    </tr>\n",
              "    <tr>\n",
              "      <th>14</th>\n",
              "      <td>region de murcia</td>\n",
              "      <td>5</td>\n",
              "    </tr>\n",
              "    <tr>\n",
              "      <th>15</th>\n",
              "      <td>rioja la</td>\n",
              "      <td>3</td>\n",
              "    </tr>\n",
              "  </tbody>\n",
              "</table>\n",
              "</div>"
            ],
            "text/plain": [
              "                     Autonomia  Categoria_veh_elect\n",
              "0                    andalucia                   21\n",
              "1                       aragon                    5\n",
              "2                     canarias                    6\n",
              "3                    cantabria                    1\n",
              "4              castilla y leon                    7\n",
              "5           castilla-la mancha                    6\n",
              "6                     cataluna                   13\n",
              "7         comunidad valenciana                   10\n",
              "8                  extremadura                    1\n",
              "9                      galicia                    8\n",
              "10         madrid comunidad de                   11\n",
              "11  navarra comunidad foral de                    3\n",
              "12                  pais vasco                    3\n",
              "13      principado de asturias                    5\n",
              "14            region de murcia                    5\n",
              "15                    rioja la                    3"
            ]
          },
          "metadata": {
            "tags": []
          },
          "execution_count": 71
        }
      ]
    },
    {
      "cell_type": "code",
      "metadata": {
        "id": "99aro8nw9Pia",
        "colab_type": "code",
        "outputId": "6c321266-4465-44f2-8238-c7e2e5095587",
        "colab": {
          "base_uri": "https://localhost:8080/",
          "height": 645
        }
      },
      "source": [
        "#Par region, nombre de bornes et voiture (Left Join)\n",
        "df_merged = df_provincia.merge(df_point_per_region, how='left', left_on='Autonomia', right_on='region')\\\n",
        "                        .merge(df_veh_per_region, how='left', on='Autonomia')\n",
        "df_merged = df_merged[['Autonomia', 'count_point', 'Categoria_veh_elect']].drop_duplicates().fillna(0)\n",
        "df_merged.rename(columns={'Categoria_veh_elect': 'count_veh'}, inplace=True)\n",
        "df_merged"
      ],
      "execution_count": 0,
      "outputs": [
        {
          "output_type": "execute_result",
          "data": {
            "text/html": [
              "<div>\n",
              "<style scoped>\n",
              "    .dataframe tbody tr th:only-of-type {\n",
              "        vertical-align: middle;\n",
              "    }\n",
              "\n",
              "    .dataframe tbody tr th {\n",
              "        vertical-align: top;\n",
              "    }\n",
              "\n",
              "    .dataframe thead th {\n",
              "        text-align: right;\n",
              "    }\n",
              "</style>\n",
              "<table border=\"1\" class=\"dataframe\">\n",
              "  <thead>\n",
              "    <tr style=\"text-align: right;\">\n",
              "      <th></th>\n",
              "      <th>Autonomia</th>\n",
              "      <th>count_point</th>\n",
              "      <th>count_veh</th>\n",
              "    </tr>\n",
              "  </thead>\n",
              "  <tbody>\n",
              "    <tr>\n",
              "      <th>0</th>\n",
              "      <td>pais vasco</td>\n",
              "      <td>7.0</td>\n",
              "      <td>3.0</td>\n",
              "    </tr>\n",
              "    <tr>\n",
              "      <th>1</th>\n",
              "      <td>castilla-la mancha</td>\n",
              "      <td>0.0</td>\n",
              "      <td>6.0</td>\n",
              "    </tr>\n",
              "    <tr>\n",
              "      <th>2</th>\n",
              "      <td>comunidad valenciana</td>\n",
              "      <td>10.0</td>\n",
              "      <td>10.0</td>\n",
              "    </tr>\n",
              "    <tr>\n",
              "      <th>3</th>\n",
              "      <td>andalucia</td>\n",
              "      <td>4.0</td>\n",
              "      <td>21.0</td>\n",
              "    </tr>\n",
              "    <tr>\n",
              "      <th>4</th>\n",
              "      <td>castilla y leon</td>\n",
              "      <td>4.0</td>\n",
              "      <td>7.0</td>\n",
              "    </tr>\n",
              "    <tr>\n",
              "      <th>5</th>\n",
              "      <td>extremadura</td>\n",
              "      <td>0.0</td>\n",
              "      <td>1.0</td>\n",
              "    </tr>\n",
              "    <tr>\n",
              "      <th>6</th>\n",
              "      <td>balears illes</td>\n",
              "      <td>0.0</td>\n",
              "      <td>0.0</td>\n",
              "    </tr>\n",
              "    <tr>\n",
              "      <th>7</th>\n",
              "      <td>cataluna</td>\n",
              "      <td>0.0</td>\n",
              "      <td>13.0</td>\n",
              "    </tr>\n",
              "    <tr>\n",
              "      <th>14</th>\n",
              "      <td>galicia</td>\n",
              "      <td>0.0</td>\n",
              "      <td>8.0</td>\n",
              "    </tr>\n",
              "    <tr>\n",
              "      <th>21</th>\n",
              "      <td>aragon</td>\n",
              "      <td>0.0</td>\n",
              "      <td>5.0</td>\n",
              "    </tr>\n",
              "    <tr>\n",
              "      <th>25</th>\n",
              "      <td>rioja la</td>\n",
              "      <td>0.0</td>\n",
              "      <td>3.0</td>\n",
              "    </tr>\n",
              "    <tr>\n",
              "      <th>27</th>\n",
              "      <td>madrid comunidad de</td>\n",
              "      <td>0.0</td>\n",
              "      <td>11.0</td>\n",
              "    </tr>\n",
              "    <tr>\n",
              "      <th>29</th>\n",
              "      <td>region de murcia</td>\n",
              "      <td>2.0</td>\n",
              "      <td>5.0</td>\n",
              "    </tr>\n",
              "    <tr>\n",
              "      <th>30</th>\n",
              "      <td>navarra comunidad foral de</td>\n",
              "      <td>0.0</td>\n",
              "      <td>3.0</td>\n",
              "    </tr>\n",
              "    <tr>\n",
              "      <th>32</th>\n",
              "      <td>principado de asturias</td>\n",
              "      <td>124.0</td>\n",
              "      <td>5.0</td>\n",
              "    </tr>\n",
              "    <tr>\n",
              "      <th>34</th>\n",
              "      <td>canarias</td>\n",
              "      <td>0.0</td>\n",
              "      <td>6.0</td>\n",
              "    </tr>\n",
              "    <tr>\n",
              "      <th>38</th>\n",
              "      <td>cantabria</td>\n",
              "      <td>5.0</td>\n",
              "      <td>1.0</td>\n",
              "    </tr>\n",
              "    <tr>\n",
              "      <th>50</th>\n",
              "      <td>ceuta ciudad de</td>\n",
              "      <td>0.0</td>\n",
              "      <td>0.0</td>\n",
              "    </tr>\n",
              "    <tr>\n",
              "      <th>51</th>\n",
              "      <td>melilla ciudad de</td>\n",
              "      <td>0.0</td>\n",
              "      <td>0.0</td>\n",
              "    </tr>\n",
              "  </tbody>\n",
              "</table>\n",
              "</div>"
            ],
            "text/plain": [
              "                     Autonomia  count_point  count_veh\n",
              "0                   pais vasco          7.0        3.0\n",
              "1           castilla-la mancha          0.0        6.0\n",
              "2         comunidad valenciana         10.0       10.0\n",
              "3                    andalucia          4.0       21.0\n",
              "4              castilla y leon          4.0        7.0\n",
              "5                  extremadura          0.0        1.0\n",
              "6                balears illes          0.0        0.0\n",
              "7                     cataluna          0.0       13.0\n",
              "14                     galicia          0.0        8.0\n",
              "21                      aragon          0.0        5.0\n",
              "25                    rioja la          0.0        3.0\n",
              "27         madrid comunidad de          0.0       11.0\n",
              "29            region de murcia          2.0        5.0\n",
              "30  navarra comunidad foral de          0.0        3.0\n",
              "32      principado de asturias        124.0        5.0\n",
              "34                    canarias          0.0        6.0\n",
              "38                   cantabria          5.0        1.0\n",
              "50             ceuta ciudad de          0.0        0.0\n",
              "51           melilla ciudad de          0.0        0.0"
            ]
          },
          "metadata": {
            "tags": []
          },
          "execution_count": 72
        }
      ]
    },
    {
      "cell_type": "code",
      "metadata": {
        "id": "zdN7JE0VcFU9",
        "colab_type": "code",
        "outputId": "c144dbb2-ec7a-4cff-f58b-b2378e92e0da",
        "colab": {
          "base_uri": "https://localhost:8080/",
          "height": 191
        }
      },
      "source": [
        "df_merged.info()"
      ],
      "execution_count": 0,
      "outputs": [
        {
          "output_type": "stream",
          "text": [
            "<class 'pandas.core.frame.DataFrame'>\n",
            "Int64Index: 19 entries, 0 to 51\n",
            "Data columns (total 3 columns):\n",
            " #   Column       Non-Null Count  Dtype  \n",
            "---  ------       --------------  -----  \n",
            " 0   Autonomia    19 non-null     object \n",
            " 1   count_point  19 non-null     float64\n",
            " 2   count_veh    19 non-null     float64\n",
            "dtypes: float64(2), object(1)\n",
            "memory usage: 608.0+ bytes\n"
          ],
          "name": "stdout"
        }
      ]
    },
    {
      "cell_type": "code",
      "metadata": {
        "id": "zEQCEcxtNXiF",
        "colab_type": "code",
        "outputId": "e9955d26-599c-4aed-9058-1e2b1b45129c",
        "colab": {
          "base_uri": "https://localhost:8080/",
          "height": 917
        }
      },
      "source": [
        "x = df_merged['Autonomia'].values.tolist()\n",
        "fig = make_subplots(rows=2, cols=1, \n",
        "                    subplot_titles=['Number of vehicle per autonomia', 'Number of points per autonomia'])\n",
        "\n",
        "#Number of vehicle per autonomia\n",
        "fig.add_trace(go.Bar(x=x, y=df_merged['count_veh'].values.tolist(), text=df_merged['count_veh'].values.tolist(), textposition='outside', name='nb_vehicle'),\n",
        "              row=1,\n",
        "              col=1)\n",
        "\n",
        "\n",
        "#Number of points per autonomia\n",
        "fig.add_trace(go.Bar(x=x, y=df_merged['count_point'].values.tolist(), text=df_merged['count_point'].values.tolist(), textposition='outside', name='nb_poins'),\n",
        "              row=2,\n",
        "              col=1)\n",
        "\n",
        "fig.update_layout(height=900, width=1300)\n",
        "fig.show()"
      ],
      "execution_count": 0,
      "outputs": [
        {
          "output_type": "display_data",
          "data": {
            "text/html": [
              "<html>\n",
              "<head><meta charset=\"utf-8\" /></head>\n",
              "<body>\n",
              "    <div>\n",
              "            <script src=\"https://cdnjs.cloudflare.com/ajax/libs/mathjax/2.7.5/MathJax.js?config=TeX-AMS-MML_SVG\"></script><script type=\"text/javascript\">if (window.MathJax) {MathJax.Hub.Config({SVG: {font: \"STIX-Web\"}});}</script>\n",
              "                <script type=\"text/javascript\">window.PlotlyConfig = {MathJaxConfig: 'local'};</script>\n",
              "        <script src=\"https://cdn.plot.ly/plotly-latest.min.js\"></script>    \n",
              "            <div id=\"961f0cd5-8912-4416-a2df-454b422996e8\" class=\"plotly-graph-div\" style=\"height:900px; width:1300px;\"></div>\n",
              "            <script type=\"text/javascript\">\n",
              "                \n",
              "                    window.PLOTLYENV=window.PLOTLYENV || {};\n",
              "                    \n",
              "                if (document.getElementById(\"961f0cd5-8912-4416-a2df-454b422996e8\")) {\n",
              "                    Plotly.newPlot(\n",
              "                        '961f0cd5-8912-4416-a2df-454b422996e8',\n",
              "                        [{\"name\": \"nb_vehicle\", \"text\": [\"3.0\", \"6.0\", \"10.0\", \"21.0\", \"7.0\", \"1.0\", \"0.0\", \"13.0\", \"8.0\", \"5.0\", \"3.0\", \"11.0\", \"5.0\", \"3.0\", \"5.0\", \"6.0\", \"1.0\", \"0.0\", \"0.0\"], \"textposition\": \"outside\", \"type\": \"bar\", \"x\": [\"pais vasco\", \"castilla-la mancha\", \"comunidad valenciana\", \"andalucia\", \"castilla y leon\", \"extremadura\", \"balears illes\", \"cataluna\", \"galicia\", \"aragon\", \"rioja la\", \"madrid comunidad de\", \"region de murcia\", \"navarra comunidad foral de\", \"principado de asturias\", \"canarias\", \"cantabria\", \"ceuta ciudad de\", \"melilla ciudad de\"], \"xaxis\": \"x\", \"y\": [3.0, 6.0, 10.0, 21.0, 7.0, 1.0, 0.0, 13.0, 8.0, 5.0, 3.0, 11.0, 5.0, 3.0, 5.0, 6.0, 1.0, 0.0, 0.0], \"yaxis\": \"y\"}, {\"name\": \"nb_poins\", \"text\": [\"7.0\", \"0.0\", \"10.0\", \"4.0\", \"4.0\", \"0.0\", \"0.0\", \"0.0\", \"0.0\", \"0.0\", \"0.0\", \"0.0\", \"2.0\", \"0.0\", \"124.0\", \"0.0\", \"5.0\", \"0.0\", \"0.0\"], \"textposition\": \"outside\", \"type\": \"bar\", \"x\": [\"pais vasco\", \"castilla-la mancha\", \"comunidad valenciana\", \"andalucia\", \"castilla y leon\", \"extremadura\", \"balears illes\", \"cataluna\", \"galicia\", \"aragon\", \"rioja la\", \"madrid comunidad de\", \"region de murcia\", \"navarra comunidad foral de\", \"principado de asturias\", \"canarias\", \"cantabria\", \"ceuta ciudad de\", \"melilla ciudad de\"], \"xaxis\": \"x2\", \"y\": [7.0, 0.0, 10.0, 4.0, 4.0, 0.0, 0.0, 0.0, 0.0, 0.0, 0.0, 0.0, 2.0, 0.0, 124.0, 0.0, 5.0, 0.0, 0.0], \"yaxis\": \"y2\"}],\n",
              "                        {\"annotations\": [{\"font\": {\"size\": 16}, \"showarrow\": false, \"text\": \"Number of vehicle per autonomia\", \"x\": 0.5, \"xanchor\": \"center\", \"xref\": \"paper\", \"y\": 1.0, \"yanchor\": \"bottom\", \"yref\": \"paper\"}, {\"font\": {\"size\": 16}, \"showarrow\": false, \"text\": \"Number of points per autonomia\", \"x\": 0.5, \"xanchor\": \"center\", \"xref\": \"paper\", \"y\": 0.375, \"yanchor\": \"bottom\", \"yref\": \"paper\"}], \"height\": 900, \"template\": {\"data\": {\"bar\": [{\"error_x\": {\"color\": \"#2a3f5f\"}, \"error_y\": {\"color\": \"#2a3f5f\"}, \"marker\": {\"line\": {\"color\": \"#E5ECF6\", \"width\": 0.5}}, \"type\": \"bar\"}], \"barpolar\": [{\"marker\": {\"line\": {\"color\": \"#E5ECF6\", \"width\": 0.5}}, \"type\": \"barpolar\"}], \"carpet\": [{\"aaxis\": {\"endlinecolor\": \"#2a3f5f\", \"gridcolor\": \"white\", \"linecolor\": \"white\", \"minorgridcolor\": \"white\", \"startlinecolor\": \"#2a3f5f\"}, \"baxis\": {\"endlinecolor\": \"#2a3f5f\", \"gridcolor\": \"white\", \"linecolor\": \"white\", \"minorgridcolor\": \"white\", \"startlinecolor\": \"#2a3f5f\"}, \"type\": \"carpet\"}], \"choropleth\": [{\"colorbar\": {\"outlinewidth\": 0, \"ticks\": \"\"}, \"type\": \"choropleth\"}], \"contour\": [{\"colorbar\": {\"outlinewidth\": 0, \"ticks\": \"\"}, \"colorscale\": [[0.0, \"#0d0887\"], [0.1111111111111111, \"#46039f\"], [0.2222222222222222, \"#7201a8\"], [0.3333333333333333, \"#9c179e\"], [0.4444444444444444, \"#bd3786\"], [0.5555555555555556, \"#d8576b\"], [0.6666666666666666, \"#ed7953\"], [0.7777777777777778, \"#fb9f3a\"], [0.8888888888888888, \"#fdca26\"], [1.0, \"#f0f921\"]], \"type\": \"contour\"}], \"contourcarpet\": [{\"colorbar\": {\"outlinewidth\": 0, \"ticks\": \"\"}, \"type\": \"contourcarpet\"}], \"heatmap\": [{\"colorbar\": {\"outlinewidth\": 0, \"ticks\": \"\"}, \"colorscale\": [[0.0, \"#0d0887\"], [0.1111111111111111, \"#46039f\"], [0.2222222222222222, \"#7201a8\"], [0.3333333333333333, \"#9c179e\"], [0.4444444444444444, \"#bd3786\"], [0.5555555555555556, \"#d8576b\"], [0.6666666666666666, \"#ed7953\"], [0.7777777777777778, \"#fb9f3a\"], [0.8888888888888888, \"#fdca26\"], [1.0, \"#f0f921\"]], \"type\": \"heatmap\"}], \"heatmapgl\": [{\"colorbar\": {\"outlinewidth\": 0, \"ticks\": \"\"}, \"colorscale\": [[0.0, \"#0d0887\"], [0.1111111111111111, \"#46039f\"], [0.2222222222222222, \"#7201a8\"], [0.3333333333333333, \"#9c179e\"], [0.4444444444444444, \"#bd3786\"], [0.5555555555555556, \"#d8576b\"], [0.6666666666666666, \"#ed7953\"], [0.7777777777777778, \"#fb9f3a\"], [0.8888888888888888, \"#fdca26\"], [1.0, \"#f0f921\"]], \"type\": \"heatmapgl\"}], \"histogram\": [{\"marker\": {\"colorbar\": {\"outlinewidth\": 0, \"ticks\": \"\"}}, \"type\": \"histogram\"}], \"histogram2d\": [{\"colorbar\": {\"outlinewidth\": 0, \"ticks\": \"\"}, \"colorscale\": [[0.0, \"#0d0887\"], [0.1111111111111111, \"#46039f\"], [0.2222222222222222, \"#7201a8\"], [0.3333333333333333, \"#9c179e\"], [0.4444444444444444, \"#bd3786\"], [0.5555555555555556, \"#d8576b\"], [0.6666666666666666, \"#ed7953\"], [0.7777777777777778, \"#fb9f3a\"], [0.8888888888888888, \"#fdca26\"], [1.0, \"#f0f921\"]], \"type\": \"histogram2d\"}], \"histogram2dcontour\": [{\"colorbar\": {\"outlinewidth\": 0, \"ticks\": \"\"}, \"colorscale\": [[0.0, \"#0d0887\"], [0.1111111111111111, \"#46039f\"], [0.2222222222222222, \"#7201a8\"], [0.3333333333333333, \"#9c179e\"], [0.4444444444444444, \"#bd3786\"], [0.5555555555555556, \"#d8576b\"], [0.6666666666666666, \"#ed7953\"], [0.7777777777777778, \"#fb9f3a\"], [0.8888888888888888, \"#fdca26\"], [1.0, \"#f0f921\"]], \"type\": \"histogram2dcontour\"}], \"mesh3d\": [{\"colorbar\": {\"outlinewidth\": 0, \"ticks\": \"\"}, \"type\": \"mesh3d\"}], \"parcoords\": [{\"line\": {\"colorbar\": {\"outlinewidth\": 0, \"ticks\": \"\"}}, \"type\": \"parcoords\"}], \"pie\": [{\"automargin\": true, \"type\": \"pie\"}], \"scatter\": [{\"marker\": {\"colorbar\": {\"outlinewidth\": 0, \"ticks\": \"\"}}, \"type\": \"scatter\"}], \"scatter3d\": [{\"line\": {\"colorbar\": {\"outlinewidth\": 0, \"ticks\": \"\"}}, \"marker\": {\"colorbar\": {\"outlinewidth\": 0, \"ticks\": \"\"}}, \"type\": \"scatter3d\"}], \"scattercarpet\": [{\"marker\": {\"colorbar\": {\"outlinewidth\": 0, \"ticks\": \"\"}}, \"type\": \"scattercarpet\"}], \"scattergeo\": [{\"marker\": {\"colorbar\": {\"outlinewidth\": 0, \"ticks\": \"\"}}, \"type\": \"scattergeo\"}], \"scattergl\": [{\"marker\": {\"colorbar\": {\"outlinewidth\": 0, \"ticks\": \"\"}}, \"type\": \"scattergl\"}], \"scattermapbox\": [{\"marker\": {\"colorbar\": {\"outlinewidth\": 0, \"ticks\": \"\"}}, \"type\": \"scattermapbox\"}], \"scatterpolar\": [{\"marker\": {\"colorbar\": {\"outlinewidth\": 0, \"ticks\": \"\"}}, \"type\": \"scatterpolar\"}], \"scatterpolargl\": [{\"marker\": {\"colorbar\": {\"outlinewidth\": 0, \"ticks\": \"\"}}, \"type\": \"scatterpolargl\"}], \"scatterternary\": [{\"marker\": {\"colorbar\": {\"outlinewidth\": 0, \"ticks\": \"\"}}, \"type\": \"scatterternary\"}], \"surface\": [{\"colorbar\": {\"outlinewidth\": 0, \"ticks\": \"\"}, \"colorscale\": [[0.0, \"#0d0887\"], [0.1111111111111111, \"#46039f\"], [0.2222222222222222, \"#7201a8\"], [0.3333333333333333, \"#9c179e\"], [0.4444444444444444, \"#bd3786\"], [0.5555555555555556, \"#d8576b\"], [0.6666666666666666, \"#ed7953\"], [0.7777777777777778, \"#fb9f3a\"], [0.8888888888888888, \"#fdca26\"], [1.0, \"#f0f921\"]], \"type\": \"surface\"}], \"table\": [{\"cells\": {\"fill\": {\"color\": \"#EBF0F8\"}, \"line\": {\"color\": \"white\"}}, \"header\": {\"fill\": {\"color\": \"#C8D4E3\"}, \"line\": {\"color\": \"white\"}}, \"type\": \"table\"}]}, \"layout\": {\"annotationdefaults\": {\"arrowcolor\": \"#2a3f5f\", \"arrowhead\": 0, \"arrowwidth\": 1}, \"coloraxis\": {\"colorbar\": {\"outlinewidth\": 0, \"ticks\": \"\"}}, \"colorscale\": {\"diverging\": [[0, \"#8e0152\"], [0.1, \"#c51b7d\"], [0.2, \"#de77ae\"], [0.3, \"#f1b6da\"], [0.4, \"#fde0ef\"], [0.5, \"#f7f7f7\"], [0.6, \"#e6f5d0\"], [0.7, \"#b8e186\"], [0.8, \"#7fbc41\"], [0.9, \"#4d9221\"], [1, \"#276419\"]], \"sequential\": [[0.0, \"#0d0887\"], [0.1111111111111111, \"#46039f\"], [0.2222222222222222, \"#7201a8\"], [0.3333333333333333, \"#9c179e\"], [0.4444444444444444, \"#bd3786\"], [0.5555555555555556, \"#d8576b\"], [0.6666666666666666, \"#ed7953\"], [0.7777777777777778, \"#fb9f3a\"], [0.8888888888888888, \"#fdca26\"], [1.0, \"#f0f921\"]], \"sequentialminus\": [[0.0, \"#0d0887\"], [0.1111111111111111, \"#46039f\"], [0.2222222222222222, \"#7201a8\"], [0.3333333333333333, \"#9c179e\"], [0.4444444444444444, \"#bd3786\"], [0.5555555555555556, \"#d8576b\"], [0.6666666666666666, \"#ed7953\"], [0.7777777777777778, \"#fb9f3a\"], [0.8888888888888888, \"#fdca26\"], [1.0, \"#f0f921\"]]}, \"colorway\": [\"#636efa\", \"#EF553B\", \"#00cc96\", \"#ab63fa\", \"#FFA15A\", \"#19d3f3\", \"#FF6692\", \"#B6E880\", \"#FF97FF\", \"#FECB52\"], \"font\": {\"color\": \"#2a3f5f\"}, \"geo\": {\"bgcolor\": \"white\", \"lakecolor\": \"white\", \"landcolor\": \"#E5ECF6\", \"showlakes\": true, \"showland\": true, \"subunitcolor\": \"white\"}, \"hoverlabel\": {\"align\": \"left\"}, \"hovermode\": \"closest\", \"mapbox\": {\"style\": \"light\"}, \"paper_bgcolor\": \"white\", \"plot_bgcolor\": \"#E5ECF6\", \"polar\": {\"angularaxis\": {\"gridcolor\": \"white\", \"linecolor\": \"white\", \"ticks\": \"\"}, \"bgcolor\": \"#E5ECF6\", \"radialaxis\": {\"gridcolor\": \"white\", \"linecolor\": \"white\", \"ticks\": \"\"}}, \"scene\": {\"xaxis\": {\"backgroundcolor\": \"#E5ECF6\", \"gridcolor\": \"white\", \"gridwidth\": 2, \"linecolor\": \"white\", \"showbackground\": true, \"ticks\": \"\", \"zerolinecolor\": \"white\"}, \"yaxis\": {\"backgroundcolor\": \"#E5ECF6\", \"gridcolor\": \"white\", \"gridwidth\": 2, \"linecolor\": \"white\", \"showbackground\": true, \"ticks\": \"\", \"zerolinecolor\": \"white\"}, \"zaxis\": {\"backgroundcolor\": \"#E5ECF6\", \"gridcolor\": \"white\", \"gridwidth\": 2, \"linecolor\": \"white\", \"showbackground\": true, \"ticks\": \"\", \"zerolinecolor\": \"white\"}}, \"shapedefaults\": {\"line\": {\"color\": \"#2a3f5f\"}}, \"ternary\": {\"aaxis\": {\"gridcolor\": \"white\", \"linecolor\": \"white\", \"ticks\": \"\"}, \"baxis\": {\"gridcolor\": \"white\", \"linecolor\": \"white\", \"ticks\": \"\"}, \"bgcolor\": \"#E5ECF6\", \"caxis\": {\"gridcolor\": \"white\", \"linecolor\": \"white\", \"ticks\": \"\"}}, \"title\": {\"x\": 0.05}, \"xaxis\": {\"automargin\": true, \"gridcolor\": \"white\", \"linecolor\": \"white\", \"ticks\": \"\", \"title\": {\"standoff\": 15}, \"zerolinecolor\": \"white\", \"zerolinewidth\": 2}, \"yaxis\": {\"automargin\": true, \"gridcolor\": \"white\", \"linecolor\": \"white\", \"ticks\": \"\", \"title\": {\"standoff\": 15}, \"zerolinecolor\": \"white\", \"zerolinewidth\": 2}}}, \"width\": 1300, \"xaxis\": {\"anchor\": \"y\", \"domain\": [0.0, 1.0]}, \"xaxis2\": {\"anchor\": \"y2\", \"domain\": [0.0, 1.0]}, \"yaxis\": {\"anchor\": \"x\", \"domain\": [0.625, 1.0]}, \"yaxis2\": {\"anchor\": \"x2\", \"domain\": [0.0, 0.375]}},\n",
              "                        {\"responsive\": true}\n",
              "                    ).then(function(){\n",
              "                            \n",
              "var gd = document.getElementById('961f0cd5-8912-4416-a2df-454b422996e8');\n",
              "var x = new MutationObserver(function (mutations, observer) {{\n",
              "        var display = window.getComputedStyle(gd).display;\n",
              "        if (!display || display === 'none') {{\n",
              "            console.log([gd, 'removed!']);\n",
              "            Plotly.purge(gd);\n",
              "            observer.disconnect();\n",
              "        }}\n",
              "}});\n",
              "\n",
              "// Listen for the removal of the full notebook cells\n",
              "var notebookContainer = gd.closest('#notebook-container');\n",
              "if (notebookContainer) {{\n",
              "    x.observe(notebookContainer, {childList: true});\n",
              "}}\n",
              "\n",
              "// Listen for the clearing of the current output cell\n",
              "var outputEl = gd.closest('.output');\n",
              "if (outputEl) {{\n",
              "    x.observe(outputEl, {childList: true});\n",
              "}}\n",
              "\n",
              "                        })\n",
              "                };\n",
              "                \n",
              "            </script>\n",
              "        </div>\n",
              "</body>\n",
              "</html>"
            ]
          },
          "metadata": {
            "tags": []
          }
        }
      ]
    },
    {
      "cell_type": "code",
      "metadata": {
        "id": "XQBRXbL-aPwj",
        "colab_type": "code",
        "outputId": "27eb6db1-7ba8-47c0-d259-78cb7b395dd2",
        "colab": {
          "base_uri": "https://localhost:8080/",
          "height": 81
        }
      },
      "source": [
        "df_veh_per_marca = df_matricules.groupby('Marca').agg({'Categoria_veh_elect': 'count'}).reset_index()\n",
        "df_veh_per_marca"
      ],
      "execution_count": 0,
      "outputs": [
        {
          "output_type": "execute_result",
          "data": {
            "text/html": [
              "<div>\n",
              "<style scoped>\n",
              "    .dataframe tbody tr th:only-of-type {\n",
              "        vertical-align: middle;\n",
              "    }\n",
              "\n",
              "    .dataframe tbody tr th {\n",
              "        vertical-align: top;\n",
              "    }\n",
              "\n",
              "    .dataframe thead th {\n",
              "        text-align: right;\n",
              "    }\n",
              "</style>\n",
              "<table border=\"1\" class=\"dataframe\">\n",
              "  <thead>\n",
              "    <tr style=\"text-align: right;\">\n",
              "      <th></th>\n",
              "      <th>Marca</th>\n",
              "      <th>Categoria_veh_elect</th>\n",
              "    </tr>\n",
              "  </thead>\n",
              "  <tbody>\n",
              "    <tr>\n",
              "      <th>0</th>\n",
              "      <td>VOLKSWAGEN</td>\n",
              "      <td>130</td>\n",
              "    </tr>\n",
              "  </tbody>\n",
              "</table>\n",
              "</div>"
            ],
            "text/plain": [
              "        Marca  Categoria_veh_elect\n",
              "0  VOLKSWAGEN                  130"
            ]
          },
          "metadata": {
            "tags": []
          },
          "execution_count": 75
        }
      ]
    },
    {
      "cell_type": "markdown",
      "metadata": {
        "id": "JwP-QxpWs7Rm",
        "colab_type": "text"
      },
      "source": [
        "The number of vehicle is low and contains only Volkswagen cars for some reason. </br>\n",
        "This file must be incomplete."
      ]
    },
    {
      "cell_type": "code",
      "metadata": {
        "id": "5C4Bq9wMH173",
        "colab_type": "code",
        "outputId": "4a367247-11d0-44c0-f6d3-730f6a95a5b3",
        "colab": {
          "base_uri": "https://localhost:8080/",
          "height": 542
        }
      },
      "source": [
        "autonomias = df_merged['Autonomia'].unique()\n",
        "\n",
        "fig = go.Figure(data=[\n",
        "    go.Bar(name='nb_points', x=autonomias, y=df_merged['count_point']),\n",
        "    go.Bar(name='nb_vehicles', x=autonomias, y=df_merged['count_veh'])\n",
        "])\n",
        "# Change the bar mode\n",
        "fig.update_layout(title='Number of points and vehicle per autonomia', barmode='group')\n",
        "fig.show()"
      ],
      "execution_count": 0,
      "outputs": [
        {
          "output_type": "display_data",
          "data": {
            "text/html": [
              "<html>\n",
              "<head><meta charset=\"utf-8\" /></head>\n",
              "<body>\n",
              "    <div>\n",
              "            <script src=\"https://cdnjs.cloudflare.com/ajax/libs/mathjax/2.7.5/MathJax.js?config=TeX-AMS-MML_SVG\"></script><script type=\"text/javascript\">if (window.MathJax) {MathJax.Hub.Config({SVG: {font: \"STIX-Web\"}});}</script>\n",
              "                <script type=\"text/javascript\">window.PlotlyConfig = {MathJaxConfig: 'local'};</script>\n",
              "        <script src=\"https://cdn.plot.ly/plotly-latest.min.js\"></script>    \n",
              "            <div id=\"8c616172-a116-41a2-921b-e795aeab68bb\" class=\"plotly-graph-div\" style=\"height:525px; width:100%;\"></div>\n",
              "            <script type=\"text/javascript\">\n",
              "                \n",
              "                    window.PLOTLYENV=window.PLOTLYENV || {};\n",
              "                    \n",
              "                if (document.getElementById(\"8c616172-a116-41a2-921b-e795aeab68bb\")) {\n",
              "                    Plotly.newPlot(\n",
              "                        '8c616172-a116-41a2-921b-e795aeab68bb',\n",
              "                        [{\"name\": \"nb_points\", \"type\": \"bar\", \"x\": [\"pais vasco\", \"castilla-la mancha\", \"comunidad valenciana\", \"andalucia\", \"castilla y leon\", \"extremadura\", \"balears illes\", \"cataluna\", \"galicia\", \"aragon\", \"rioja la\", \"madrid comunidad de\", \"region de murcia\", \"navarra comunidad foral de\", \"principado de asturias\", \"canarias\", \"cantabria\", \"ceuta ciudad de\", \"melilla ciudad de\"], \"y\": [7.0, 0.0, 10.0, 4.0, 4.0, 0.0, 0.0, 0.0, 0.0, 0.0, 0.0, 0.0, 2.0, 0.0, 124.0, 0.0, 5.0, 0.0, 0.0]}, {\"name\": \"nb_vehicles\", \"type\": \"bar\", \"x\": [\"pais vasco\", \"castilla-la mancha\", \"comunidad valenciana\", \"andalucia\", \"castilla y leon\", \"extremadura\", \"balears illes\", \"cataluna\", \"galicia\", \"aragon\", \"rioja la\", \"madrid comunidad de\", \"region de murcia\", \"navarra comunidad foral de\", \"principado de asturias\", \"canarias\", \"cantabria\", \"ceuta ciudad de\", \"melilla ciudad de\"], \"y\": [3.0, 6.0, 10.0, 21.0, 7.0, 1.0, 0.0, 13.0, 8.0, 5.0, 3.0, 11.0, 5.0, 3.0, 5.0, 6.0, 1.0, 0.0, 0.0]}],\n",
              "                        {\"barmode\": \"group\", \"template\": {\"data\": {\"bar\": [{\"error_x\": {\"color\": \"#2a3f5f\"}, \"error_y\": {\"color\": \"#2a3f5f\"}, \"marker\": {\"line\": {\"color\": \"#E5ECF6\", \"width\": 0.5}}, \"type\": \"bar\"}], \"barpolar\": [{\"marker\": {\"line\": {\"color\": \"#E5ECF6\", \"width\": 0.5}}, \"type\": \"barpolar\"}], \"carpet\": [{\"aaxis\": {\"endlinecolor\": \"#2a3f5f\", \"gridcolor\": \"white\", \"linecolor\": \"white\", \"minorgridcolor\": \"white\", \"startlinecolor\": \"#2a3f5f\"}, \"baxis\": {\"endlinecolor\": \"#2a3f5f\", \"gridcolor\": \"white\", \"linecolor\": \"white\", \"minorgridcolor\": \"white\", \"startlinecolor\": \"#2a3f5f\"}, \"type\": \"carpet\"}], \"choropleth\": [{\"colorbar\": {\"outlinewidth\": 0, \"ticks\": \"\"}, \"type\": \"choropleth\"}], \"contour\": [{\"colorbar\": {\"outlinewidth\": 0, \"ticks\": \"\"}, \"colorscale\": [[0.0, \"#0d0887\"], [0.1111111111111111, \"#46039f\"], [0.2222222222222222, \"#7201a8\"], [0.3333333333333333, \"#9c179e\"], [0.4444444444444444, \"#bd3786\"], [0.5555555555555556, \"#d8576b\"], [0.6666666666666666, \"#ed7953\"], [0.7777777777777778, \"#fb9f3a\"], [0.8888888888888888, \"#fdca26\"], [1.0, \"#f0f921\"]], \"type\": \"contour\"}], \"contourcarpet\": [{\"colorbar\": {\"outlinewidth\": 0, \"ticks\": \"\"}, \"type\": \"contourcarpet\"}], \"heatmap\": [{\"colorbar\": {\"outlinewidth\": 0, \"ticks\": \"\"}, \"colorscale\": [[0.0, \"#0d0887\"], [0.1111111111111111, \"#46039f\"], [0.2222222222222222, \"#7201a8\"], [0.3333333333333333, \"#9c179e\"], [0.4444444444444444, \"#bd3786\"], [0.5555555555555556, \"#d8576b\"], [0.6666666666666666, \"#ed7953\"], [0.7777777777777778, \"#fb9f3a\"], [0.8888888888888888, \"#fdca26\"], [1.0, \"#f0f921\"]], \"type\": \"heatmap\"}], \"heatmapgl\": [{\"colorbar\": {\"outlinewidth\": 0, \"ticks\": \"\"}, \"colorscale\": [[0.0, \"#0d0887\"], [0.1111111111111111, \"#46039f\"], [0.2222222222222222, \"#7201a8\"], [0.3333333333333333, \"#9c179e\"], [0.4444444444444444, \"#bd3786\"], [0.5555555555555556, \"#d8576b\"], [0.6666666666666666, \"#ed7953\"], [0.7777777777777778, \"#fb9f3a\"], [0.8888888888888888, \"#fdca26\"], [1.0, \"#f0f921\"]], \"type\": \"heatmapgl\"}], \"histogram\": [{\"marker\": {\"colorbar\": {\"outlinewidth\": 0, \"ticks\": \"\"}}, \"type\": \"histogram\"}], \"histogram2d\": [{\"colorbar\": {\"outlinewidth\": 0, \"ticks\": \"\"}, \"colorscale\": [[0.0, \"#0d0887\"], [0.1111111111111111, \"#46039f\"], [0.2222222222222222, \"#7201a8\"], [0.3333333333333333, \"#9c179e\"], [0.4444444444444444, \"#bd3786\"], [0.5555555555555556, \"#d8576b\"], [0.6666666666666666, \"#ed7953\"], [0.7777777777777778, \"#fb9f3a\"], [0.8888888888888888, \"#fdca26\"], [1.0, \"#f0f921\"]], \"type\": \"histogram2d\"}], \"histogram2dcontour\": [{\"colorbar\": {\"outlinewidth\": 0, \"ticks\": \"\"}, \"colorscale\": [[0.0, \"#0d0887\"], [0.1111111111111111, \"#46039f\"], [0.2222222222222222, \"#7201a8\"], [0.3333333333333333, \"#9c179e\"], [0.4444444444444444, \"#bd3786\"], [0.5555555555555556, \"#d8576b\"], [0.6666666666666666, \"#ed7953\"], [0.7777777777777778, \"#fb9f3a\"], [0.8888888888888888, \"#fdca26\"], [1.0, \"#f0f921\"]], \"type\": \"histogram2dcontour\"}], \"mesh3d\": [{\"colorbar\": {\"outlinewidth\": 0, \"ticks\": \"\"}, \"type\": \"mesh3d\"}], \"parcoords\": [{\"line\": {\"colorbar\": {\"outlinewidth\": 0, \"ticks\": \"\"}}, \"type\": \"parcoords\"}], \"pie\": [{\"automargin\": true, \"type\": \"pie\"}], \"scatter\": [{\"marker\": {\"colorbar\": {\"outlinewidth\": 0, \"ticks\": \"\"}}, \"type\": \"scatter\"}], \"scatter3d\": [{\"line\": {\"colorbar\": {\"outlinewidth\": 0, \"ticks\": \"\"}}, \"marker\": {\"colorbar\": {\"outlinewidth\": 0, \"ticks\": \"\"}}, \"type\": \"scatter3d\"}], \"scattercarpet\": [{\"marker\": {\"colorbar\": {\"outlinewidth\": 0, \"ticks\": \"\"}}, \"type\": \"scattercarpet\"}], \"scattergeo\": [{\"marker\": {\"colorbar\": {\"outlinewidth\": 0, \"ticks\": \"\"}}, \"type\": \"scattergeo\"}], \"scattergl\": [{\"marker\": {\"colorbar\": {\"outlinewidth\": 0, \"ticks\": \"\"}}, \"type\": \"scattergl\"}], \"scattermapbox\": [{\"marker\": {\"colorbar\": {\"outlinewidth\": 0, \"ticks\": \"\"}}, \"type\": \"scattermapbox\"}], \"scatterpolar\": [{\"marker\": {\"colorbar\": {\"outlinewidth\": 0, \"ticks\": \"\"}}, \"type\": \"scatterpolar\"}], \"scatterpolargl\": [{\"marker\": {\"colorbar\": {\"outlinewidth\": 0, \"ticks\": \"\"}}, \"type\": \"scatterpolargl\"}], \"scatterternary\": [{\"marker\": {\"colorbar\": {\"outlinewidth\": 0, \"ticks\": \"\"}}, \"type\": \"scatterternary\"}], \"surface\": [{\"colorbar\": {\"outlinewidth\": 0, \"ticks\": \"\"}, \"colorscale\": [[0.0, \"#0d0887\"], [0.1111111111111111, \"#46039f\"], [0.2222222222222222, \"#7201a8\"], [0.3333333333333333, \"#9c179e\"], [0.4444444444444444, \"#bd3786\"], [0.5555555555555556, \"#d8576b\"], [0.6666666666666666, \"#ed7953\"], [0.7777777777777778, \"#fb9f3a\"], [0.8888888888888888, \"#fdca26\"], [1.0, \"#f0f921\"]], \"type\": \"surface\"}], \"table\": [{\"cells\": {\"fill\": {\"color\": \"#EBF0F8\"}, \"line\": {\"color\": \"white\"}}, \"header\": {\"fill\": {\"color\": \"#C8D4E3\"}, \"line\": {\"color\": \"white\"}}, \"type\": \"table\"}]}, \"layout\": {\"annotationdefaults\": {\"arrowcolor\": \"#2a3f5f\", \"arrowhead\": 0, \"arrowwidth\": 1}, \"coloraxis\": {\"colorbar\": {\"outlinewidth\": 0, \"ticks\": \"\"}}, \"colorscale\": {\"diverging\": [[0, \"#8e0152\"], [0.1, \"#c51b7d\"], [0.2, \"#de77ae\"], [0.3, \"#f1b6da\"], [0.4, \"#fde0ef\"], [0.5, \"#f7f7f7\"], [0.6, \"#e6f5d0\"], [0.7, \"#b8e186\"], [0.8, \"#7fbc41\"], [0.9, \"#4d9221\"], [1, \"#276419\"]], \"sequential\": [[0.0, \"#0d0887\"], [0.1111111111111111, \"#46039f\"], [0.2222222222222222, \"#7201a8\"], [0.3333333333333333, \"#9c179e\"], [0.4444444444444444, \"#bd3786\"], [0.5555555555555556, \"#d8576b\"], [0.6666666666666666, \"#ed7953\"], [0.7777777777777778, \"#fb9f3a\"], [0.8888888888888888, \"#fdca26\"], [1.0, \"#f0f921\"]], \"sequentialminus\": [[0.0, \"#0d0887\"], [0.1111111111111111, \"#46039f\"], [0.2222222222222222, \"#7201a8\"], [0.3333333333333333, \"#9c179e\"], [0.4444444444444444, \"#bd3786\"], [0.5555555555555556, \"#d8576b\"], [0.6666666666666666, \"#ed7953\"], [0.7777777777777778, \"#fb9f3a\"], [0.8888888888888888, \"#fdca26\"], [1.0, \"#f0f921\"]]}, \"colorway\": [\"#636efa\", \"#EF553B\", \"#00cc96\", \"#ab63fa\", \"#FFA15A\", \"#19d3f3\", \"#FF6692\", \"#B6E880\", \"#FF97FF\", \"#FECB52\"], \"font\": {\"color\": \"#2a3f5f\"}, \"geo\": {\"bgcolor\": \"white\", \"lakecolor\": \"white\", \"landcolor\": \"#E5ECF6\", \"showlakes\": true, \"showland\": true, \"subunitcolor\": \"white\"}, \"hoverlabel\": {\"align\": \"left\"}, \"hovermode\": \"closest\", \"mapbox\": {\"style\": \"light\"}, \"paper_bgcolor\": \"white\", \"plot_bgcolor\": \"#E5ECF6\", \"polar\": {\"angularaxis\": {\"gridcolor\": \"white\", \"linecolor\": \"white\", \"ticks\": \"\"}, \"bgcolor\": \"#E5ECF6\", \"radialaxis\": {\"gridcolor\": \"white\", \"linecolor\": \"white\", \"ticks\": \"\"}}, \"scene\": {\"xaxis\": {\"backgroundcolor\": \"#E5ECF6\", \"gridcolor\": \"white\", \"gridwidth\": 2, \"linecolor\": \"white\", \"showbackground\": true, \"ticks\": \"\", \"zerolinecolor\": \"white\"}, \"yaxis\": {\"backgroundcolor\": \"#E5ECF6\", \"gridcolor\": \"white\", \"gridwidth\": 2, \"linecolor\": \"white\", \"showbackground\": true, \"ticks\": \"\", \"zerolinecolor\": \"white\"}, \"zaxis\": {\"backgroundcolor\": \"#E5ECF6\", \"gridcolor\": \"white\", \"gridwidth\": 2, \"linecolor\": \"white\", \"showbackground\": true, \"ticks\": \"\", \"zerolinecolor\": \"white\"}}, \"shapedefaults\": {\"line\": {\"color\": \"#2a3f5f\"}}, \"ternary\": {\"aaxis\": {\"gridcolor\": \"white\", \"linecolor\": \"white\", \"ticks\": \"\"}, \"baxis\": {\"gridcolor\": \"white\", \"linecolor\": \"white\", \"ticks\": \"\"}, \"bgcolor\": \"#E5ECF6\", \"caxis\": {\"gridcolor\": \"white\", \"linecolor\": \"white\", \"ticks\": \"\"}}, \"title\": {\"x\": 0.05}, \"xaxis\": {\"automargin\": true, \"gridcolor\": \"white\", \"linecolor\": \"white\", \"ticks\": \"\", \"title\": {\"standoff\": 15}, \"zerolinecolor\": \"white\", \"zerolinewidth\": 2}, \"yaxis\": {\"automargin\": true, \"gridcolor\": \"white\", \"linecolor\": \"white\", \"ticks\": \"\", \"title\": {\"standoff\": 15}, \"zerolinecolor\": \"white\", \"zerolinewidth\": 2}}}, \"title\": {\"text\": \"Number of points and vehicle per autonomia\"}},\n",
              "                        {\"responsive\": true}\n",
              "                    ).then(function(){\n",
              "                            \n",
              "var gd = document.getElementById('8c616172-a116-41a2-921b-e795aeab68bb');\n",
              "var x = new MutationObserver(function (mutations, observer) {{\n",
              "        var display = window.getComputedStyle(gd).display;\n",
              "        if (!display || display === 'none') {{\n",
              "            console.log([gd, 'removed!']);\n",
              "            Plotly.purge(gd);\n",
              "            observer.disconnect();\n",
              "        }}\n",
              "}});\n",
              "\n",
              "// Listen for the removal of the full notebook cells\n",
              "var notebookContainer = gd.closest('#notebook-container');\n",
              "if (notebookContainer) {{\n",
              "    x.observe(notebookContainer, {childList: true});\n",
              "}}\n",
              "\n",
              "// Listen for the clearing of the current output cell\n",
              "var outputEl = gd.closest('.output');\n",
              "if (outputEl) {{\n",
              "    x.observe(outputEl, {childList: true});\n",
              "}}\n",
              "\n",
              "                        })\n",
              "                };\n",
              "                \n",
              "            </script>\n",
              "        </div>\n",
              "</body>\n",
              "</html>"
            ]
          },
          "metadata": {
            "tags": []
          }
        }
      ]
    },
    {
      "cell_type": "markdown",
      "metadata": {
        "id": "adQiDr6cW4fR",
        "colab_type": "text"
      },
      "source": [
        "We can see that some cities have electrical vehicles but don't have charging points. <br/>\n",
        "Notice that Asturias has too many charging points (120+ points for 10- vehicles)"
      ]
    },
    {
      "cell_type": "markdown",
      "metadata": {
        "id": "tS1AC0xFcjb_",
        "colab_type": "text"
      },
      "source": [
        "## Data Impagos"
      ]
    },
    {
      "cell_type": "code",
      "metadata": {
        "id": "JcLo9yZ6Z1ip",
        "colab_type": "code",
        "colab": {}
      },
      "source": [
        "s_counts = df_impagos['PROVINCIA'].value_counts()\n",
        "data = {'PROVINCIA': s_counts.index.tolist(), \n",
        "        'count_veh': s_counts.values.tolist()}\n",
        "df_counts = pd.DataFrame(data, columns=['PROVINCIA', 'count_veh'])"
      ],
      "execution_count": 0,
      "outputs": []
    },
    {
      "cell_type": "code",
      "metadata": {
        "id": "86gH4KezfeaU",
        "colab_type": "code",
        "outputId": "35ec1c41-ecd7-4c22-93e3-7290408022e8",
        "colab": {
          "base_uri": "https://localhost:8080/",
          "height": 542
        }
      },
      "source": [
        "y = df_counts['count_veh'].values.tolist()\n",
        "\n",
        "fig = go.Figure(go.Bar(x=df_counts['PROVINCIA'].values.tolist(),\n",
        "                       y=y,\n",
        "                       text=y,\n",
        "                       textposition='outside'))\n",
        "\n",
        "fig.update_layout(title='Number of vehicle per autonomia according impagos file')\n",
        "fig.show()"
      ],
      "execution_count": 0,
      "outputs": [
        {
          "output_type": "display_data",
          "data": {
            "text/html": [
              "<html>\n",
              "<head><meta charset=\"utf-8\" /></head>\n",
              "<body>\n",
              "    <div>\n",
              "            <script src=\"https://cdnjs.cloudflare.com/ajax/libs/mathjax/2.7.5/MathJax.js?config=TeX-AMS-MML_SVG\"></script><script type=\"text/javascript\">if (window.MathJax) {MathJax.Hub.Config({SVG: {font: \"STIX-Web\"}});}</script>\n",
              "                <script type=\"text/javascript\">window.PlotlyConfig = {MathJaxConfig: 'local'};</script>\n",
              "        <script src=\"https://cdn.plot.ly/plotly-latest.min.js\"></script>    \n",
              "            <div id=\"b5f86877-1527-445f-bf33-ac54e5a1c98d\" class=\"plotly-graph-div\" style=\"height:525px; width:100%;\"></div>\n",
              "            <script type=\"text/javascript\">\n",
              "                \n",
              "                    window.PLOTLYENV=window.PLOTLYENV || {};\n",
              "                    \n",
              "                if (document.getElementById(\"b5f86877-1527-445f-bf33-ac54e5a1c98d\")) {\n",
              "                    Plotly.newPlot(\n",
              "                        'b5f86877-1527-445f-bf33-ac54e5a1c98d',\n",
              "                        [{\"text\": [\"805\", \"42\", \"33\", \"27\", \"24\", \"20\", \"16\", \"10\", \"9\", \"8\", \"7\", \"6\", \"6\", \"6\", \"5\", \"5\", \"4\", \"4\", \"2\", \"2\", \"2\", \"1\", \"1\", \"1\", \"1\", \"1\", \"1\", \"1\", \"1\"], \"textposition\": \"outside\", \"type\": \"bar\", \"x\": [\"asturias\", \"madrid\", \"cantabria\", \"bizkaia\", \"murcia\", \"gerona\", \"gipuzkoa\", \"badajoz\", \"alicante/alacant\", \"leon\", \"zaragoza\", \"barcelona\", \"araba/alava\", \"valencia/valencia\", \"navarra\", \"toledo\", \"sevilla\", \"valladolid\", \"granada\", \"salamanca\", \"baleares\", \"albacete\", \"huelva\", \"guadalajara\", \"rioja la\", \"lerida\", \"palencia\", \"jaen\", \"cordoba\"], \"y\": [805, 42, 33, 27, 24, 20, 16, 10, 9, 8, 7, 6, 6, 6, 5, 5, 4, 4, 2, 2, 2, 1, 1, 1, 1, 1, 1, 1, 1]}],\n",
              "                        {\"template\": {\"data\": {\"bar\": [{\"error_x\": {\"color\": \"#2a3f5f\"}, \"error_y\": {\"color\": \"#2a3f5f\"}, \"marker\": {\"line\": {\"color\": \"#E5ECF6\", \"width\": 0.5}}, \"type\": \"bar\"}], \"barpolar\": [{\"marker\": {\"line\": {\"color\": \"#E5ECF6\", \"width\": 0.5}}, \"type\": \"barpolar\"}], \"carpet\": [{\"aaxis\": {\"endlinecolor\": \"#2a3f5f\", \"gridcolor\": \"white\", \"linecolor\": \"white\", \"minorgridcolor\": \"white\", \"startlinecolor\": \"#2a3f5f\"}, \"baxis\": {\"endlinecolor\": \"#2a3f5f\", \"gridcolor\": \"white\", \"linecolor\": \"white\", \"minorgridcolor\": \"white\", \"startlinecolor\": \"#2a3f5f\"}, \"type\": \"carpet\"}], \"choropleth\": [{\"colorbar\": {\"outlinewidth\": 0, \"ticks\": \"\"}, \"type\": \"choropleth\"}], \"contour\": [{\"colorbar\": {\"outlinewidth\": 0, \"ticks\": \"\"}, \"colorscale\": [[0.0, \"#0d0887\"], [0.1111111111111111, \"#46039f\"], [0.2222222222222222, \"#7201a8\"], [0.3333333333333333, \"#9c179e\"], [0.4444444444444444, \"#bd3786\"], [0.5555555555555556, \"#d8576b\"], [0.6666666666666666, \"#ed7953\"], [0.7777777777777778, \"#fb9f3a\"], [0.8888888888888888, \"#fdca26\"], [1.0, \"#f0f921\"]], \"type\": \"contour\"}], \"contourcarpet\": [{\"colorbar\": {\"outlinewidth\": 0, \"ticks\": \"\"}, \"type\": \"contourcarpet\"}], \"heatmap\": [{\"colorbar\": {\"outlinewidth\": 0, \"ticks\": \"\"}, \"colorscale\": [[0.0, \"#0d0887\"], [0.1111111111111111, \"#46039f\"], [0.2222222222222222, \"#7201a8\"], [0.3333333333333333, \"#9c179e\"], [0.4444444444444444, \"#bd3786\"], [0.5555555555555556, \"#d8576b\"], [0.6666666666666666, \"#ed7953\"], [0.7777777777777778, \"#fb9f3a\"], [0.8888888888888888, \"#fdca26\"], [1.0, \"#f0f921\"]], \"type\": \"heatmap\"}], \"heatmapgl\": [{\"colorbar\": {\"outlinewidth\": 0, \"ticks\": \"\"}, \"colorscale\": [[0.0, \"#0d0887\"], [0.1111111111111111, \"#46039f\"], [0.2222222222222222, \"#7201a8\"], [0.3333333333333333, \"#9c179e\"], [0.4444444444444444, \"#bd3786\"], [0.5555555555555556, \"#d8576b\"], [0.6666666666666666, \"#ed7953\"], [0.7777777777777778, \"#fb9f3a\"], [0.8888888888888888, \"#fdca26\"], [1.0, \"#f0f921\"]], \"type\": \"heatmapgl\"}], \"histogram\": [{\"marker\": {\"colorbar\": {\"outlinewidth\": 0, \"ticks\": \"\"}}, \"type\": \"histogram\"}], \"histogram2d\": [{\"colorbar\": {\"outlinewidth\": 0, \"ticks\": \"\"}, \"colorscale\": [[0.0, \"#0d0887\"], [0.1111111111111111, \"#46039f\"], [0.2222222222222222, \"#7201a8\"], [0.3333333333333333, \"#9c179e\"], [0.4444444444444444, \"#bd3786\"], [0.5555555555555556, \"#d8576b\"], [0.6666666666666666, \"#ed7953\"], [0.7777777777777778, \"#fb9f3a\"], [0.8888888888888888, \"#fdca26\"], [1.0, \"#f0f921\"]], \"type\": \"histogram2d\"}], \"histogram2dcontour\": [{\"colorbar\": {\"outlinewidth\": 0, \"ticks\": \"\"}, \"colorscale\": [[0.0, \"#0d0887\"], [0.1111111111111111, \"#46039f\"], [0.2222222222222222, \"#7201a8\"], [0.3333333333333333, \"#9c179e\"], [0.4444444444444444, \"#bd3786\"], [0.5555555555555556, \"#d8576b\"], [0.6666666666666666, \"#ed7953\"], [0.7777777777777778, \"#fb9f3a\"], [0.8888888888888888, \"#fdca26\"], [1.0, \"#f0f921\"]], \"type\": \"histogram2dcontour\"}], \"mesh3d\": [{\"colorbar\": {\"outlinewidth\": 0, \"ticks\": \"\"}, \"type\": \"mesh3d\"}], \"parcoords\": [{\"line\": {\"colorbar\": {\"outlinewidth\": 0, \"ticks\": \"\"}}, \"type\": \"parcoords\"}], \"pie\": [{\"automargin\": true, \"type\": \"pie\"}], \"scatter\": [{\"marker\": {\"colorbar\": {\"outlinewidth\": 0, \"ticks\": \"\"}}, \"type\": \"scatter\"}], \"scatter3d\": [{\"line\": {\"colorbar\": {\"outlinewidth\": 0, \"ticks\": \"\"}}, \"marker\": {\"colorbar\": {\"outlinewidth\": 0, \"ticks\": \"\"}}, \"type\": \"scatter3d\"}], \"scattercarpet\": [{\"marker\": {\"colorbar\": {\"outlinewidth\": 0, \"ticks\": \"\"}}, \"type\": \"scattercarpet\"}], \"scattergeo\": [{\"marker\": {\"colorbar\": {\"outlinewidth\": 0, \"ticks\": \"\"}}, \"type\": \"scattergeo\"}], \"scattergl\": [{\"marker\": {\"colorbar\": {\"outlinewidth\": 0, \"ticks\": \"\"}}, \"type\": \"scattergl\"}], \"scattermapbox\": [{\"marker\": {\"colorbar\": {\"outlinewidth\": 0, \"ticks\": \"\"}}, \"type\": \"scattermapbox\"}], \"scatterpolar\": [{\"marker\": {\"colorbar\": {\"outlinewidth\": 0, \"ticks\": \"\"}}, \"type\": \"scatterpolar\"}], \"scatterpolargl\": [{\"marker\": {\"colorbar\": {\"outlinewidth\": 0, \"ticks\": \"\"}}, \"type\": \"scatterpolargl\"}], \"scatterternary\": [{\"marker\": {\"colorbar\": {\"outlinewidth\": 0, \"ticks\": \"\"}}, \"type\": \"scatterternary\"}], \"surface\": [{\"colorbar\": {\"outlinewidth\": 0, \"ticks\": \"\"}, \"colorscale\": [[0.0, \"#0d0887\"], [0.1111111111111111, \"#46039f\"], [0.2222222222222222, \"#7201a8\"], [0.3333333333333333, \"#9c179e\"], [0.4444444444444444, \"#bd3786\"], [0.5555555555555556, \"#d8576b\"], [0.6666666666666666, \"#ed7953\"], [0.7777777777777778, \"#fb9f3a\"], [0.8888888888888888, \"#fdca26\"], [1.0, \"#f0f921\"]], \"type\": \"surface\"}], \"table\": [{\"cells\": {\"fill\": {\"color\": \"#EBF0F8\"}, \"line\": {\"color\": \"white\"}}, \"header\": {\"fill\": {\"color\": \"#C8D4E3\"}, \"line\": {\"color\": \"white\"}}, \"type\": \"table\"}]}, \"layout\": {\"annotationdefaults\": {\"arrowcolor\": \"#2a3f5f\", \"arrowhead\": 0, \"arrowwidth\": 1}, \"coloraxis\": {\"colorbar\": {\"outlinewidth\": 0, \"ticks\": \"\"}}, \"colorscale\": {\"diverging\": [[0, \"#8e0152\"], [0.1, \"#c51b7d\"], [0.2, \"#de77ae\"], [0.3, \"#f1b6da\"], [0.4, \"#fde0ef\"], [0.5, \"#f7f7f7\"], [0.6, \"#e6f5d0\"], [0.7, \"#b8e186\"], [0.8, \"#7fbc41\"], [0.9, \"#4d9221\"], [1, \"#276419\"]], \"sequential\": [[0.0, \"#0d0887\"], [0.1111111111111111, \"#46039f\"], [0.2222222222222222, \"#7201a8\"], [0.3333333333333333, \"#9c179e\"], [0.4444444444444444, \"#bd3786\"], [0.5555555555555556, \"#d8576b\"], [0.6666666666666666, \"#ed7953\"], [0.7777777777777778, \"#fb9f3a\"], [0.8888888888888888, \"#fdca26\"], [1.0, \"#f0f921\"]], \"sequentialminus\": [[0.0, \"#0d0887\"], [0.1111111111111111, \"#46039f\"], [0.2222222222222222, \"#7201a8\"], [0.3333333333333333, \"#9c179e\"], [0.4444444444444444, \"#bd3786\"], [0.5555555555555556, \"#d8576b\"], [0.6666666666666666, \"#ed7953\"], [0.7777777777777778, \"#fb9f3a\"], [0.8888888888888888, \"#fdca26\"], [1.0, \"#f0f921\"]]}, \"colorway\": [\"#636efa\", \"#EF553B\", \"#00cc96\", \"#ab63fa\", \"#FFA15A\", \"#19d3f3\", \"#FF6692\", \"#B6E880\", \"#FF97FF\", \"#FECB52\"], \"font\": {\"color\": \"#2a3f5f\"}, \"geo\": {\"bgcolor\": \"white\", \"lakecolor\": \"white\", \"landcolor\": \"#E5ECF6\", \"showlakes\": true, \"showland\": true, \"subunitcolor\": \"white\"}, \"hoverlabel\": {\"align\": \"left\"}, \"hovermode\": \"closest\", \"mapbox\": {\"style\": \"light\"}, \"paper_bgcolor\": \"white\", \"plot_bgcolor\": \"#E5ECF6\", \"polar\": {\"angularaxis\": {\"gridcolor\": \"white\", \"linecolor\": \"white\", \"ticks\": \"\"}, \"bgcolor\": \"#E5ECF6\", \"radialaxis\": {\"gridcolor\": \"white\", \"linecolor\": \"white\", \"ticks\": \"\"}}, \"scene\": {\"xaxis\": {\"backgroundcolor\": \"#E5ECF6\", \"gridcolor\": \"white\", \"gridwidth\": 2, \"linecolor\": \"white\", \"showbackground\": true, \"ticks\": \"\", \"zerolinecolor\": \"white\"}, \"yaxis\": {\"backgroundcolor\": \"#E5ECF6\", \"gridcolor\": \"white\", \"gridwidth\": 2, \"linecolor\": \"white\", \"showbackground\": true, \"ticks\": \"\", \"zerolinecolor\": \"white\"}, \"zaxis\": {\"backgroundcolor\": \"#E5ECF6\", \"gridcolor\": \"white\", \"gridwidth\": 2, \"linecolor\": \"white\", \"showbackground\": true, \"ticks\": \"\", \"zerolinecolor\": \"white\"}}, \"shapedefaults\": {\"line\": {\"color\": \"#2a3f5f\"}}, \"ternary\": {\"aaxis\": {\"gridcolor\": \"white\", \"linecolor\": \"white\", \"ticks\": \"\"}, \"baxis\": {\"gridcolor\": \"white\", \"linecolor\": \"white\", \"ticks\": \"\"}, \"bgcolor\": \"#E5ECF6\", \"caxis\": {\"gridcolor\": \"white\", \"linecolor\": \"white\", \"ticks\": \"\"}}, \"title\": {\"x\": 0.05}, \"xaxis\": {\"automargin\": true, \"gridcolor\": \"white\", \"linecolor\": \"white\", \"ticks\": \"\", \"title\": {\"standoff\": 15}, \"zerolinecolor\": \"white\", \"zerolinewidth\": 2}, \"yaxis\": {\"automargin\": true, \"gridcolor\": \"white\", \"linecolor\": \"white\", \"ticks\": \"\", \"title\": {\"standoff\": 15}, \"zerolinecolor\": \"white\", \"zerolinewidth\": 2}}}, \"title\": {\"text\": \"Number of vehicle per autonomia according impagos file\"}},\n",
              "                        {\"responsive\": true}\n",
              "                    ).then(function(){\n",
              "                            \n",
              "var gd = document.getElementById('b5f86877-1527-445f-bf33-ac54e5a1c98d');\n",
              "var x = new MutationObserver(function (mutations, observer) {{\n",
              "        var display = window.getComputedStyle(gd).display;\n",
              "        if (!display || display === 'none') {{\n",
              "            console.log([gd, 'removed!']);\n",
              "            Plotly.purge(gd);\n",
              "            observer.disconnect();\n",
              "        }}\n",
              "}});\n",
              "\n",
              "// Listen for the removal of the full notebook cells\n",
              "var notebookContainer = gd.closest('#notebook-container');\n",
              "if (notebookContainer) {{\n",
              "    x.observe(notebookContainer, {childList: true});\n",
              "}}\n",
              "\n",
              "// Listen for the clearing of the current output cell\n",
              "var outputEl = gd.closest('.output');\n",
              "if (outputEl) {{\n",
              "    x.observe(outputEl, {childList: true});\n",
              "}}\n",
              "\n",
              "                        })\n",
              "                };\n",
              "                \n",
              "            </script>\n",
              "        </div>\n",
              "</body>\n",
              "</html>"
            ]
          },
          "metadata": {
            "tags": []
          }
        }
      ]
    },
    {
      "cell_type": "markdown",
      "metadata": {
        "id": "NdDKW4Kcp9--",
        "colab_type": "text"
      },
      "source": [
        "This barplot show electric/hybrid car users. Most of the customers are from Asturias, which is expected. <br/>\n",
        "As shown above, Asturias has most of the charging points but in this file, we have more users coming from there. <br/>"
      ]
    },
    {
      "cell_type": "code",
      "metadata": {
        "id": "tEF3ubIaX2QF",
        "colab_type": "code",
        "colab": {}
      },
      "source": [
        "df_impagos = df_impagos[df_impagos['TIPO_CLIENTE'].isin(['ELEC', 'DUAL'])]\n",
        "df_impagos_consumo = df_impagos.groupby('PROVINCIA').agg({'CONSUMO_ELECTRICO_ANUAL': 'sum'}).reset_index()\n",
        "df_impagos = df_impagos.merge(df_provincia, on='PROVINCIA')\n",
        "df_impagos = df_impagos.groupby('Autonomia').agg({'CONSUMO_ELECTRICO_ANUAL': 'sum'}).reset_index()\n",
        "df_impagos.sort_values('CONSUMO_ELECTRICO_ANUAL', inplace=True)"
      ],
      "execution_count": 0,
      "outputs": []
    },
    {
      "cell_type": "code",
      "metadata": {
        "id": "g2Jc2NJGiuF-",
        "colab_type": "code",
        "colab": {}
      },
      "source": [
        "#Plot electrical consumption per autonomia\n",
        "y = df_impagos_consumo['CONSUMO_ELECTRICO_ANUAL'].values.tolist()\n",
        "\n",
        "fig = go.Figure(go.Bar(x=df_impagos_consumo['Autonomia'].values.tolist(),\n",
        "                       y=y,\n",
        "                       text=y,\n",
        "                       textposition='outside',\n",
        "                       texttemplate='%{y:2.2f}'))\n",
        "\n",
        "fig.update_layout(title='Electrical consumption per autonomia')\n",
        "fig.show()"
      ],
      "execution_count": 0,
      "outputs": []
    },
    {
      "cell_type": "code",
      "metadata": {
        "id": "_QivjA0sC_u_",
        "colab_type": "code",
        "colab": {}
      },
      "source": [
        "#labels = df_provincia.Autonomia.drop_duplicates().tolist()\n",
        "labels = df_merged.Autonomia.drop_duplicates().tolist()\n",
        "x = [0] * len(labels) \n",
        "for index_i, row_i in df_merged.iterrows():\n",
        "    if row_i[\"Autonomia\"] in labels:\n",
        "        x[labels.index(row_i[\"Autonomia\"])] == row_i[\"count_point\"]\n",
        "    else: \n",
        "        print(\"Autonomia not found : {}\".format(row_i))"
      ],
      "execution_count": 0,
      "outputs": []
    },
    {
      "cell_type": "code",
      "metadata": {
        "id": "ioh55bo3C7E-",
        "colab_type": "code",
        "outputId": "1cc99956-5e07-4ca6-f18c-abc4a4becd76",
        "colab": {
          "base_uri": "https://localhost:8080/",
          "height": 542
        }
      },
      "source": [
        "import plotly.express as px\n",
        "\n",
        "fig = px.pie(df_merged[[\"Autonomia\", \"count_veh\"]], values='count_veh', names='Autonomia', title='Distribution of cars', hole=.1)\n",
        "fig.update_traces(textposition='inside', textinfo='value+percent+label')\n",
        "\n",
        "fig.show()"
      ],
      "execution_count": 0,
      "outputs": [
        {
          "output_type": "display_data",
          "data": {
            "text/html": [
              "<html>\n",
              "<head><meta charset=\"utf-8\" /></head>\n",
              "<body>\n",
              "    <div>\n",
              "            <script src=\"https://cdnjs.cloudflare.com/ajax/libs/mathjax/2.7.5/MathJax.js?config=TeX-AMS-MML_SVG\"></script><script type=\"text/javascript\">if (window.MathJax) {MathJax.Hub.Config({SVG: {font: \"STIX-Web\"}});}</script>\n",
              "                <script type=\"text/javascript\">window.PlotlyConfig = {MathJaxConfig: 'local'};</script>\n",
              "        <script src=\"https://cdn.plot.ly/plotly-latest.min.js\"></script>    \n",
              "            <div id=\"5f32907d-b388-4958-99f3-0f575329b032\" class=\"plotly-graph-div\" style=\"height:525px; width:100%;\"></div>\n",
              "            <script type=\"text/javascript\">\n",
              "                \n",
              "                    window.PLOTLYENV=window.PLOTLYENV || {};\n",
              "                    \n",
              "                if (document.getElementById(\"5f32907d-b388-4958-99f3-0f575329b032\")) {\n",
              "                    Plotly.newPlot(\n",
              "                        '5f32907d-b388-4958-99f3-0f575329b032',\n",
              "                        [{\"domain\": {\"x\": [0.0, 1.0], \"y\": [0.0, 1.0]}, \"hole\": 0.1, \"hoverlabel\": {\"namelength\": 0}, \"hovertemplate\": \"Autonomia=%{label}<br>count_veh=%{value}\", \"labels\": [\"pais vasco\", \"castilla-la mancha\", \"comunidad valenciana\", \"andalucia\", \"castilla y leon\", \"extremadura\", \"balears illes\", \"cataluna\", \"galicia\", \"aragon\", \"rioja la\", \"madrid comunidad de\", \"region de murcia\", \"navarra comunidad foral de\", \"principado de asturias\", \"canarias\", \"cantabria\", \"ceuta ciudad de\", \"melilla ciudad de\"], \"legendgroup\": \"\", \"name\": \"\", \"showlegend\": true, \"textinfo\": \"value+percent+label\", \"textposition\": \"inside\", \"type\": \"pie\", \"values\": [3.0, 6.0, 10.0, 21.0, 7.0, 1.0, 0.0, 13.0, 8.0, 5.0, 3.0, 11.0, 5.0, 3.0, 5.0, 6.0, 1.0, 0.0, 0.0]}],\n",
              "                        {\"legend\": {\"tracegroupgap\": 0}, \"template\": {\"data\": {\"bar\": [{\"error_x\": {\"color\": \"#2a3f5f\"}, \"error_y\": {\"color\": \"#2a3f5f\"}, \"marker\": {\"line\": {\"color\": \"#E5ECF6\", \"width\": 0.5}}, \"type\": \"bar\"}], \"barpolar\": [{\"marker\": {\"line\": {\"color\": \"#E5ECF6\", \"width\": 0.5}}, \"type\": \"barpolar\"}], \"carpet\": [{\"aaxis\": {\"endlinecolor\": \"#2a3f5f\", \"gridcolor\": \"white\", \"linecolor\": \"white\", \"minorgridcolor\": \"white\", \"startlinecolor\": \"#2a3f5f\"}, \"baxis\": {\"endlinecolor\": \"#2a3f5f\", \"gridcolor\": \"white\", \"linecolor\": \"white\", \"minorgridcolor\": \"white\", \"startlinecolor\": \"#2a3f5f\"}, \"type\": \"carpet\"}], \"choropleth\": [{\"colorbar\": {\"outlinewidth\": 0, \"ticks\": \"\"}, \"type\": \"choropleth\"}], \"contour\": [{\"colorbar\": {\"outlinewidth\": 0, \"ticks\": \"\"}, \"colorscale\": [[0.0, \"#0d0887\"], [0.1111111111111111, \"#46039f\"], [0.2222222222222222, \"#7201a8\"], [0.3333333333333333, \"#9c179e\"], [0.4444444444444444, \"#bd3786\"], [0.5555555555555556, \"#d8576b\"], [0.6666666666666666, \"#ed7953\"], [0.7777777777777778, \"#fb9f3a\"], [0.8888888888888888, \"#fdca26\"], [1.0, \"#f0f921\"]], \"type\": \"contour\"}], \"contourcarpet\": [{\"colorbar\": {\"outlinewidth\": 0, \"ticks\": \"\"}, \"type\": \"contourcarpet\"}], \"heatmap\": [{\"colorbar\": {\"outlinewidth\": 0, \"ticks\": \"\"}, \"colorscale\": [[0.0, \"#0d0887\"], [0.1111111111111111, \"#46039f\"], [0.2222222222222222, \"#7201a8\"], [0.3333333333333333, \"#9c179e\"], [0.4444444444444444, \"#bd3786\"], [0.5555555555555556, \"#d8576b\"], [0.6666666666666666, \"#ed7953\"], [0.7777777777777778, \"#fb9f3a\"], [0.8888888888888888, \"#fdca26\"], [1.0, \"#f0f921\"]], \"type\": \"heatmap\"}], \"heatmapgl\": [{\"colorbar\": {\"outlinewidth\": 0, \"ticks\": \"\"}, \"colorscale\": [[0.0, \"#0d0887\"], [0.1111111111111111, \"#46039f\"], [0.2222222222222222, \"#7201a8\"], [0.3333333333333333, \"#9c179e\"], [0.4444444444444444, \"#bd3786\"], [0.5555555555555556, \"#d8576b\"], [0.6666666666666666, \"#ed7953\"], [0.7777777777777778, \"#fb9f3a\"], [0.8888888888888888, \"#fdca26\"], [1.0, \"#f0f921\"]], \"type\": \"heatmapgl\"}], \"histogram\": [{\"marker\": {\"colorbar\": {\"outlinewidth\": 0, \"ticks\": \"\"}}, \"type\": \"histogram\"}], \"histogram2d\": [{\"colorbar\": {\"outlinewidth\": 0, \"ticks\": \"\"}, \"colorscale\": [[0.0, \"#0d0887\"], [0.1111111111111111, \"#46039f\"], [0.2222222222222222, \"#7201a8\"], [0.3333333333333333, \"#9c179e\"], [0.4444444444444444, \"#bd3786\"], [0.5555555555555556, \"#d8576b\"], [0.6666666666666666, \"#ed7953\"], [0.7777777777777778, \"#fb9f3a\"], [0.8888888888888888, \"#fdca26\"], [1.0, \"#f0f921\"]], \"type\": \"histogram2d\"}], \"histogram2dcontour\": [{\"colorbar\": {\"outlinewidth\": 0, \"ticks\": \"\"}, \"colorscale\": [[0.0, \"#0d0887\"], [0.1111111111111111, \"#46039f\"], [0.2222222222222222, \"#7201a8\"], [0.3333333333333333, \"#9c179e\"], [0.4444444444444444, \"#bd3786\"], [0.5555555555555556, \"#d8576b\"], [0.6666666666666666, \"#ed7953\"], [0.7777777777777778, \"#fb9f3a\"], [0.8888888888888888, \"#fdca26\"], [1.0, \"#f0f921\"]], \"type\": \"histogram2dcontour\"}], \"mesh3d\": [{\"colorbar\": {\"outlinewidth\": 0, \"ticks\": \"\"}, \"type\": \"mesh3d\"}], \"parcoords\": [{\"line\": {\"colorbar\": {\"outlinewidth\": 0, \"ticks\": \"\"}}, \"type\": \"parcoords\"}], \"pie\": [{\"automargin\": true, \"type\": \"pie\"}], \"scatter\": [{\"marker\": {\"colorbar\": {\"outlinewidth\": 0, \"ticks\": \"\"}}, \"type\": \"scatter\"}], \"scatter3d\": [{\"line\": {\"colorbar\": {\"outlinewidth\": 0, \"ticks\": \"\"}}, \"marker\": {\"colorbar\": {\"outlinewidth\": 0, \"ticks\": \"\"}}, \"type\": \"scatter3d\"}], \"scattercarpet\": [{\"marker\": {\"colorbar\": {\"outlinewidth\": 0, \"ticks\": \"\"}}, \"type\": \"scattercarpet\"}], \"scattergeo\": [{\"marker\": {\"colorbar\": {\"outlinewidth\": 0, \"ticks\": \"\"}}, \"type\": \"scattergeo\"}], \"scattergl\": [{\"marker\": {\"colorbar\": {\"outlinewidth\": 0, \"ticks\": \"\"}}, \"type\": \"scattergl\"}], \"scattermapbox\": [{\"marker\": {\"colorbar\": {\"outlinewidth\": 0, \"ticks\": \"\"}}, \"type\": \"scattermapbox\"}], \"scatterpolar\": [{\"marker\": {\"colorbar\": {\"outlinewidth\": 0, \"ticks\": \"\"}}, \"type\": \"scatterpolar\"}], \"scatterpolargl\": [{\"marker\": {\"colorbar\": {\"outlinewidth\": 0, \"ticks\": \"\"}}, \"type\": \"scatterpolargl\"}], \"scatterternary\": [{\"marker\": {\"colorbar\": {\"outlinewidth\": 0, \"ticks\": \"\"}}, \"type\": \"scatterternary\"}], \"surface\": [{\"colorbar\": {\"outlinewidth\": 0, \"ticks\": \"\"}, \"colorscale\": [[0.0, \"#0d0887\"], [0.1111111111111111, \"#46039f\"], [0.2222222222222222, \"#7201a8\"], [0.3333333333333333, \"#9c179e\"], [0.4444444444444444, \"#bd3786\"], [0.5555555555555556, \"#d8576b\"], [0.6666666666666666, \"#ed7953\"], [0.7777777777777778, \"#fb9f3a\"], [0.8888888888888888, \"#fdca26\"], [1.0, \"#f0f921\"]], \"type\": \"surface\"}], \"table\": [{\"cells\": {\"fill\": {\"color\": \"#EBF0F8\"}, \"line\": {\"color\": \"white\"}}, \"header\": {\"fill\": {\"color\": \"#C8D4E3\"}, \"line\": {\"color\": \"white\"}}, \"type\": \"table\"}]}, \"layout\": {\"annotationdefaults\": {\"arrowcolor\": \"#2a3f5f\", \"arrowhead\": 0, \"arrowwidth\": 1}, \"coloraxis\": {\"colorbar\": {\"outlinewidth\": 0, \"ticks\": \"\"}}, \"colorscale\": {\"diverging\": [[0, \"#8e0152\"], [0.1, \"#c51b7d\"], [0.2, \"#de77ae\"], [0.3, \"#f1b6da\"], [0.4, \"#fde0ef\"], [0.5, \"#f7f7f7\"], [0.6, \"#e6f5d0\"], [0.7, \"#b8e186\"], [0.8, \"#7fbc41\"], [0.9, \"#4d9221\"], [1, \"#276419\"]], \"sequential\": [[0.0, \"#0d0887\"], [0.1111111111111111, \"#46039f\"], [0.2222222222222222, \"#7201a8\"], [0.3333333333333333, \"#9c179e\"], [0.4444444444444444, \"#bd3786\"], [0.5555555555555556, \"#d8576b\"], [0.6666666666666666, \"#ed7953\"], [0.7777777777777778, \"#fb9f3a\"], [0.8888888888888888, \"#fdca26\"], [1.0, \"#f0f921\"]], \"sequentialminus\": [[0.0, \"#0d0887\"], [0.1111111111111111, \"#46039f\"], [0.2222222222222222, \"#7201a8\"], [0.3333333333333333, \"#9c179e\"], [0.4444444444444444, \"#bd3786\"], [0.5555555555555556, \"#d8576b\"], [0.6666666666666666, \"#ed7953\"], [0.7777777777777778, \"#fb9f3a\"], [0.8888888888888888, \"#fdca26\"], [1.0, \"#f0f921\"]]}, \"colorway\": [\"#636efa\", \"#EF553B\", \"#00cc96\", \"#ab63fa\", \"#FFA15A\", \"#19d3f3\", \"#FF6692\", \"#B6E880\", \"#FF97FF\", \"#FECB52\"], \"font\": {\"color\": \"#2a3f5f\"}, \"geo\": {\"bgcolor\": \"white\", \"lakecolor\": \"white\", \"landcolor\": \"#E5ECF6\", \"showlakes\": true, \"showland\": true, \"subunitcolor\": \"white\"}, \"hoverlabel\": {\"align\": \"left\"}, \"hovermode\": \"closest\", \"mapbox\": {\"style\": \"light\"}, \"paper_bgcolor\": \"white\", \"plot_bgcolor\": \"#E5ECF6\", \"polar\": {\"angularaxis\": {\"gridcolor\": \"white\", \"linecolor\": \"white\", \"ticks\": \"\"}, \"bgcolor\": \"#E5ECF6\", \"radialaxis\": {\"gridcolor\": \"white\", \"linecolor\": \"white\", \"ticks\": \"\"}}, \"scene\": {\"xaxis\": {\"backgroundcolor\": \"#E5ECF6\", \"gridcolor\": \"white\", \"gridwidth\": 2, \"linecolor\": \"white\", \"showbackground\": true, \"ticks\": \"\", \"zerolinecolor\": \"white\"}, \"yaxis\": {\"backgroundcolor\": \"#E5ECF6\", \"gridcolor\": \"white\", \"gridwidth\": 2, \"linecolor\": \"white\", \"showbackground\": true, \"ticks\": \"\", \"zerolinecolor\": \"white\"}, \"zaxis\": {\"backgroundcolor\": \"#E5ECF6\", \"gridcolor\": \"white\", \"gridwidth\": 2, \"linecolor\": \"white\", \"showbackground\": true, \"ticks\": \"\", \"zerolinecolor\": \"white\"}}, \"shapedefaults\": {\"line\": {\"color\": \"#2a3f5f\"}}, \"ternary\": {\"aaxis\": {\"gridcolor\": \"white\", \"linecolor\": \"white\", \"ticks\": \"\"}, \"baxis\": {\"gridcolor\": \"white\", \"linecolor\": \"white\", \"ticks\": \"\"}, \"bgcolor\": \"#E5ECF6\", \"caxis\": {\"gridcolor\": \"white\", \"linecolor\": \"white\", \"ticks\": \"\"}}, \"title\": {\"x\": 0.05}, \"xaxis\": {\"automargin\": true, \"gridcolor\": \"white\", \"linecolor\": \"white\", \"ticks\": \"\", \"title\": {\"standoff\": 15}, \"zerolinecolor\": \"white\", \"zerolinewidth\": 2}, \"yaxis\": {\"automargin\": true, \"gridcolor\": \"white\", \"linecolor\": \"white\", \"ticks\": \"\", \"title\": {\"standoff\": 15}, \"zerolinecolor\": \"white\", \"zerolinewidth\": 2}}}, \"title\": {\"text\": \"Distribution of cars\"}},\n",
              "                        {\"responsive\": true}\n",
              "                    ).then(function(){\n",
              "                            \n",
              "var gd = document.getElementById('5f32907d-b388-4958-99f3-0f575329b032');\n",
              "var x = new MutationObserver(function (mutations, observer) {{\n",
              "        var display = window.getComputedStyle(gd).display;\n",
              "        if (!display || display === 'none') {{\n",
              "            console.log([gd, 'removed!']);\n",
              "            Plotly.purge(gd);\n",
              "            observer.disconnect();\n",
              "        }}\n",
              "}});\n",
              "\n",
              "// Listen for the removal of the full notebook cells\n",
              "var notebookContainer = gd.closest('#notebook-container');\n",
              "if (notebookContainer) {{\n",
              "    x.observe(notebookContainer, {childList: true});\n",
              "}}\n",
              "\n",
              "// Listen for the clearing of the current output cell\n",
              "var outputEl = gd.closest('.output');\n",
              "if (outputEl) {{\n",
              "    x.observe(outputEl, {childList: true});\n",
              "}}\n",
              "\n",
              "                        })\n",
              "                };\n",
              "                \n",
              "            </script>\n",
              "        </div>\n",
              "</body>\n",
              "</html>"
            ]
          },
          "metadata": {
            "tags": []
          }
        }
      ]
    },
    {
      "cell_type": "code",
      "metadata": {
        "id": "s_mzAQZiJArM",
        "colab_type": "code",
        "outputId": "30cb5bdd-5e7a-462f-b2ff-5766bb267801",
        "colab": {
          "base_uri": "https://localhost:8080/",
          "height": 542
        }
      },
      "source": [
        "import plotly.express as px\n",
        "\n",
        "fig = px.pie(df_merged[[\"Autonomia\", \"count_point\"]], values='count_point', names='Autonomia', title='Distribution of Points', hole=.1)\n",
        "fig.update_traces(textposition='inside', textinfo='value+percent+label')\n",
        "\n",
        "fig.show()"
      ],
      "execution_count": 0,
      "outputs": [
        {
          "output_type": "display_data",
          "data": {
            "text/html": [
              "<html>\n",
              "<head><meta charset=\"utf-8\" /></head>\n",
              "<body>\n",
              "    <div>\n",
              "            <script src=\"https://cdnjs.cloudflare.com/ajax/libs/mathjax/2.7.5/MathJax.js?config=TeX-AMS-MML_SVG\"></script><script type=\"text/javascript\">if (window.MathJax) {MathJax.Hub.Config({SVG: {font: \"STIX-Web\"}});}</script>\n",
              "                <script type=\"text/javascript\">window.PlotlyConfig = {MathJaxConfig: 'local'};</script>\n",
              "        <script src=\"https://cdn.plot.ly/plotly-latest.min.js\"></script>    \n",
              "            <div id=\"462165f2-0384-4ed1-8eb9-1038490477ac\" class=\"plotly-graph-div\" style=\"height:525px; width:100%;\"></div>\n",
              "            <script type=\"text/javascript\">\n",
              "                \n",
              "                    window.PLOTLYENV=window.PLOTLYENV || {};\n",
              "                    \n",
              "                if (document.getElementById(\"462165f2-0384-4ed1-8eb9-1038490477ac\")) {\n",
              "                    Plotly.newPlot(\n",
              "                        '462165f2-0384-4ed1-8eb9-1038490477ac',\n",
              "                        [{\"domain\": {\"x\": [0.0, 1.0], \"y\": [0.0, 1.0]}, \"hole\": 0.1, \"hoverlabel\": {\"namelength\": 0}, \"hovertemplate\": \"Autonomia=%{label}<br>count_point=%{value}\", \"labels\": [\"pais vasco\", \"castilla-la mancha\", \"comunidad valenciana\", \"andalucia\", \"castilla y leon\", \"extremadura\", \"balears illes\", \"cataluna\", \"galicia\", \"aragon\", \"rioja la\", \"madrid comunidad de\", \"region de murcia\", \"navarra comunidad foral de\", \"principado de asturias\", \"canarias\", \"cantabria\", \"ceuta ciudad de\", \"melilla ciudad de\"], \"legendgroup\": \"\", \"name\": \"\", \"showlegend\": true, \"textinfo\": \"value+percent+label\", \"textposition\": \"inside\", \"type\": \"pie\", \"values\": [7.0, 0.0, 10.0, 4.0, 4.0, 0.0, 0.0, 0.0, 0.0, 0.0, 0.0, 0.0, 2.0, 0.0, 124.0, 0.0, 5.0, 0.0, 0.0]}],\n",
              "                        {\"legend\": {\"tracegroupgap\": 0}, \"template\": {\"data\": {\"bar\": [{\"error_x\": {\"color\": \"#2a3f5f\"}, \"error_y\": {\"color\": \"#2a3f5f\"}, \"marker\": {\"line\": {\"color\": \"#E5ECF6\", \"width\": 0.5}}, \"type\": \"bar\"}], \"barpolar\": [{\"marker\": {\"line\": {\"color\": \"#E5ECF6\", \"width\": 0.5}}, \"type\": \"barpolar\"}], \"carpet\": [{\"aaxis\": {\"endlinecolor\": \"#2a3f5f\", \"gridcolor\": \"white\", \"linecolor\": \"white\", \"minorgridcolor\": \"white\", \"startlinecolor\": \"#2a3f5f\"}, \"baxis\": {\"endlinecolor\": \"#2a3f5f\", \"gridcolor\": \"white\", \"linecolor\": \"white\", \"minorgridcolor\": \"white\", \"startlinecolor\": \"#2a3f5f\"}, \"type\": \"carpet\"}], \"choropleth\": [{\"colorbar\": {\"outlinewidth\": 0, \"ticks\": \"\"}, \"type\": \"choropleth\"}], \"contour\": [{\"colorbar\": {\"outlinewidth\": 0, \"ticks\": \"\"}, \"colorscale\": [[0.0, \"#0d0887\"], [0.1111111111111111, \"#46039f\"], [0.2222222222222222, \"#7201a8\"], [0.3333333333333333, \"#9c179e\"], [0.4444444444444444, \"#bd3786\"], [0.5555555555555556, \"#d8576b\"], [0.6666666666666666, \"#ed7953\"], [0.7777777777777778, \"#fb9f3a\"], [0.8888888888888888, \"#fdca26\"], [1.0, \"#f0f921\"]], \"type\": \"contour\"}], \"contourcarpet\": [{\"colorbar\": {\"outlinewidth\": 0, \"ticks\": \"\"}, \"type\": \"contourcarpet\"}], \"heatmap\": [{\"colorbar\": {\"outlinewidth\": 0, \"ticks\": \"\"}, \"colorscale\": [[0.0, \"#0d0887\"], [0.1111111111111111, \"#46039f\"], [0.2222222222222222, \"#7201a8\"], [0.3333333333333333, \"#9c179e\"], [0.4444444444444444, \"#bd3786\"], [0.5555555555555556, \"#d8576b\"], [0.6666666666666666, \"#ed7953\"], [0.7777777777777778, \"#fb9f3a\"], [0.8888888888888888, \"#fdca26\"], [1.0, \"#f0f921\"]], \"type\": \"heatmap\"}], \"heatmapgl\": [{\"colorbar\": {\"outlinewidth\": 0, \"ticks\": \"\"}, \"colorscale\": [[0.0, \"#0d0887\"], [0.1111111111111111, \"#46039f\"], [0.2222222222222222, \"#7201a8\"], [0.3333333333333333, \"#9c179e\"], [0.4444444444444444, \"#bd3786\"], [0.5555555555555556, \"#d8576b\"], [0.6666666666666666, \"#ed7953\"], [0.7777777777777778, \"#fb9f3a\"], [0.8888888888888888, \"#fdca26\"], [1.0, \"#f0f921\"]], \"type\": \"heatmapgl\"}], \"histogram\": [{\"marker\": {\"colorbar\": {\"outlinewidth\": 0, \"ticks\": \"\"}}, \"type\": \"histogram\"}], \"histogram2d\": [{\"colorbar\": {\"outlinewidth\": 0, \"ticks\": \"\"}, \"colorscale\": [[0.0, \"#0d0887\"], [0.1111111111111111, \"#46039f\"], [0.2222222222222222, \"#7201a8\"], [0.3333333333333333, \"#9c179e\"], [0.4444444444444444, \"#bd3786\"], [0.5555555555555556, \"#d8576b\"], [0.6666666666666666, \"#ed7953\"], [0.7777777777777778, \"#fb9f3a\"], [0.8888888888888888, \"#fdca26\"], [1.0, \"#f0f921\"]], \"type\": \"histogram2d\"}], \"histogram2dcontour\": [{\"colorbar\": {\"outlinewidth\": 0, \"ticks\": \"\"}, \"colorscale\": [[0.0, \"#0d0887\"], [0.1111111111111111, \"#46039f\"], [0.2222222222222222, \"#7201a8\"], [0.3333333333333333, \"#9c179e\"], [0.4444444444444444, \"#bd3786\"], [0.5555555555555556, \"#d8576b\"], [0.6666666666666666, \"#ed7953\"], [0.7777777777777778, \"#fb9f3a\"], [0.8888888888888888, \"#fdca26\"], [1.0, \"#f0f921\"]], \"type\": \"histogram2dcontour\"}], \"mesh3d\": [{\"colorbar\": {\"outlinewidth\": 0, \"ticks\": \"\"}, \"type\": \"mesh3d\"}], \"parcoords\": [{\"line\": {\"colorbar\": {\"outlinewidth\": 0, \"ticks\": \"\"}}, \"type\": \"parcoords\"}], \"pie\": [{\"automargin\": true, \"type\": \"pie\"}], \"scatter\": [{\"marker\": {\"colorbar\": {\"outlinewidth\": 0, \"ticks\": \"\"}}, \"type\": \"scatter\"}], \"scatter3d\": [{\"line\": {\"colorbar\": {\"outlinewidth\": 0, \"ticks\": \"\"}}, \"marker\": {\"colorbar\": {\"outlinewidth\": 0, \"ticks\": \"\"}}, \"type\": \"scatter3d\"}], \"scattercarpet\": [{\"marker\": {\"colorbar\": {\"outlinewidth\": 0, \"ticks\": \"\"}}, \"type\": \"scattercarpet\"}], \"scattergeo\": [{\"marker\": {\"colorbar\": {\"outlinewidth\": 0, \"ticks\": \"\"}}, \"type\": \"scattergeo\"}], \"scattergl\": [{\"marker\": {\"colorbar\": {\"outlinewidth\": 0, \"ticks\": \"\"}}, \"type\": \"scattergl\"}], \"scattermapbox\": [{\"marker\": {\"colorbar\": {\"outlinewidth\": 0, \"ticks\": \"\"}}, \"type\": \"scattermapbox\"}], \"scatterpolar\": [{\"marker\": {\"colorbar\": {\"outlinewidth\": 0, \"ticks\": \"\"}}, \"type\": \"scatterpolar\"}], \"scatterpolargl\": [{\"marker\": {\"colorbar\": {\"outlinewidth\": 0, \"ticks\": \"\"}}, \"type\": \"scatterpolargl\"}], \"scatterternary\": [{\"marker\": {\"colorbar\": {\"outlinewidth\": 0, \"ticks\": \"\"}}, \"type\": \"scatterternary\"}], \"surface\": [{\"colorbar\": {\"outlinewidth\": 0, \"ticks\": \"\"}, \"colorscale\": [[0.0, \"#0d0887\"], [0.1111111111111111, \"#46039f\"], [0.2222222222222222, \"#7201a8\"], [0.3333333333333333, \"#9c179e\"], [0.4444444444444444, \"#bd3786\"], [0.5555555555555556, \"#d8576b\"], [0.6666666666666666, \"#ed7953\"], [0.7777777777777778, \"#fb9f3a\"], [0.8888888888888888, \"#fdca26\"], [1.0, \"#f0f921\"]], \"type\": \"surface\"}], \"table\": [{\"cells\": {\"fill\": {\"color\": \"#EBF0F8\"}, \"line\": {\"color\": \"white\"}}, \"header\": {\"fill\": {\"color\": \"#C8D4E3\"}, \"line\": {\"color\": \"white\"}}, \"type\": \"table\"}]}, \"layout\": {\"annotationdefaults\": {\"arrowcolor\": \"#2a3f5f\", \"arrowhead\": 0, \"arrowwidth\": 1}, \"coloraxis\": {\"colorbar\": {\"outlinewidth\": 0, \"ticks\": \"\"}}, \"colorscale\": {\"diverging\": [[0, \"#8e0152\"], [0.1, \"#c51b7d\"], [0.2, \"#de77ae\"], [0.3, \"#f1b6da\"], [0.4, \"#fde0ef\"], [0.5, \"#f7f7f7\"], [0.6, \"#e6f5d0\"], [0.7, \"#b8e186\"], [0.8, \"#7fbc41\"], [0.9, \"#4d9221\"], [1, \"#276419\"]], \"sequential\": [[0.0, \"#0d0887\"], [0.1111111111111111, \"#46039f\"], [0.2222222222222222, \"#7201a8\"], [0.3333333333333333, \"#9c179e\"], [0.4444444444444444, \"#bd3786\"], [0.5555555555555556, \"#d8576b\"], [0.6666666666666666, \"#ed7953\"], [0.7777777777777778, \"#fb9f3a\"], [0.8888888888888888, \"#fdca26\"], [1.0, \"#f0f921\"]], \"sequentialminus\": [[0.0, \"#0d0887\"], [0.1111111111111111, \"#46039f\"], [0.2222222222222222, \"#7201a8\"], [0.3333333333333333, \"#9c179e\"], [0.4444444444444444, \"#bd3786\"], [0.5555555555555556, \"#d8576b\"], [0.6666666666666666, \"#ed7953\"], [0.7777777777777778, \"#fb9f3a\"], [0.8888888888888888, \"#fdca26\"], [1.0, \"#f0f921\"]]}, \"colorway\": [\"#636efa\", \"#EF553B\", \"#00cc96\", \"#ab63fa\", \"#FFA15A\", \"#19d3f3\", \"#FF6692\", \"#B6E880\", \"#FF97FF\", \"#FECB52\"], \"font\": {\"color\": \"#2a3f5f\"}, \"geo\": {\"bgcolor\": \"white\", \"lakecolor\": \"white\", \"landcolor\": \"#E5ECF6\", \"showlakes\": true, \"showland\": true, \"subunitcolor\": \"white\"}, \"hoverlabel\": {\"align\": \"left\"}, \"hovermode\": \"closest\", \"mapbox\": {\"style\": \"light\"}, \"paper_bgcolor\": \"white\", \"plot_bgcolor\": \"#E5ECF6\", \"polar\": {\"angularaxis\": {\"gridcolor\": \"white\", \"linecolor\": \"white\", \"ticks\": \"\"}, \"bgcolor\": \"#E5ECF6\", \"radialaxis\": {\"gridcolor\": \"white\", \"linecolor\": \"white\", \"ticks\": \"\"}}, \"scene\": {\"xaxis\": {\"backgroundcolor\": \"#E5ECF6\", \"gridcolor\": \"white\", \"gridwidth\": 2, \"linecolor\": \"white\", \"showbackground\": true, \"ticks\": \"\", \"zerolinecolor\": \"white\"}, \"yaxis\": {\"backgroundcolor\": \"#E5ECF6\", \"gridcolor\": \"white\", \"gridwidth\": 2, \"linecolor\": \"white\", \"showbackground\": true, \"ticks\": \"\", \"zerolinecolor\": \"white\"}, \"zaxis\": {\"backgroundcolor\": \"#E5ECF6\", \"gridcolor\": \"white\", \"gridwidth\": 2, \"linecolor\": \"white\", \"showbackground\": true, \"ticks\": \"\", \"zerolinecolor\": \"white\"}}, \"shapedefaults\": {\"line\": {\"color\": \"#2a3f5f\"}}, \"ternary\": {\"aaxis\": {\"gridcolor\": \"white\", \"linecolor\": \"white\", \"ticks\": \"\"}, \"baxis\": {\"gridcolor\": \"white\", \"linecolor\": \"white\", \"ticks\": \"\"}, \"bgcolor\": \"#E5ECF6\", \"caxis\": {\"gridcolor\": \"white\", \"linecolor\": \"white\", \"ticks\": \"\"}}, \"title\": {\"x\": 0.05}, \"xaxis\": {\"automargin\": true, \"gridcolor\": \"white\", \"linecolor\": \"white\", \"ticks\": \"\", \"title\": {\"standoff\": 15}, \"zerolinecolor\": \"white\", \"zerolinewidth\": 2}, \"yaxis\": {\"automargin\": true, \"gridcolor\": \"white\", \"linecolor\": \"white\", \"ticks\": \"\", \"title\": {\"standoff\": 15}, \"zerolinecolor\": \"white\", \"zerolinewidth\": 2}}}, \"title\": {\"text\": \"Distribution of Points\"}},\n",
              "                        {\"responsive\": true}\n",
              "                    ).then(function(){\n",
              "                            \n",
              "var gd = document.getElementById('462165f2-0384-4ed1-8eb9-1038490477ac');\n",
              "var x = new MutationObserver(function (mutations, observer) {{\n",
              "        var display = window.getComputedStyle(gd).display;\n",
              "        if (!display || display === 'none') {{\n",
              "            console.log([gd, 'removed!']);\n",
              "            Plotly.purge(gd);\n",
              "            observer.disconnect();\n",
              "        }}\n",
              "}});\n",
              "\n",
              "// Listen for the removal of the full notebook cells\n",
              "var notebookContainer = gd.closest('#notebook-container');\n",
              "if (notebookContainer) {{\n",
              "    x.observe(notebookContainer, {childList: true});\n",
              "}}\n",
              "\n",
              "// Listen for the clearing of the current output cell\n",
              "var outputEl = gd.closest('.output');\n",
              "if (outputEl) {{\n",
              "    x.observe(outputEl, {childList: true});\n",
              "}}\n",
              "\n",
              "                        })\n",
              "                };\n",
              "                \n",
              "            </script>\n",
              "        </div>\n",
              "</body>\n",
              "</html>"
            ]
          },
          "metadata": {
            "tags": []
          }
        }
      ]
    },
    {
      "cell_type": "code",
      "metadata": {
        "id": "-Y_SrlxCvZHC",
        "colab_type": "code",
        "outputId": "682cecbc-2e09-494c-b0f6-914938ae355a",
        "colab": {
          "base_uri": "https://localhost:8080/",
          "height": 489
        }
      },
      "source": [
        "\n",
        "\n",
        "print(labels,x)    \n",
        "# Create subplots: use 'domain' type for Pie subplot\n",
        "fig = make_subplots(rows=1, cols=1)\n",
        "\n",
        "fig = make_subplots(rows=1, cols=1, subplot_titles=['Pie Chart'])\n",
        "fig.add_trace(go.Pie(values=x, labels=labels, name=\"Points Number\"),1, 1)\n",
        "#fig.add_trace(go.Bar(x=x, y=df_merged['count_point'].values.tolist(), text=df_merged['count_point'].values.tolist(), textposition='outside', name='nb_poins'), row=2,col=1)\n",
        "\n",
        "\n",
        "# Use `hole` to create a donut-like pie chart\n",
        "#fig.update_traces(hole=.5, hoverinfo=\"label+percent+name\")\n",
        "\n",
        "fig.update_layout(\n",
        "    title_text=\"Pie Chart\",\n",
        "    # Add annotations in the center of the donut pies.\n",
        "    annotations=[dict(text='Pie Chart', x=0.18, y=0.5, font_size=20, showarrow=False)])\n",
        "\n",
        "#fig.update_layout(height=900, width=1300)\n",
        "fig.show()\n",
        "\n",
        "# pour les différents type de bornes"
      ],
      "execution_count": 0,
      "outputs": [
        {
          "output_type": "stream",
          "text": [
            "['pais vasco', 'castilla-la mancha', 'comunidad valenciana', 'andalucia', 'castilla y leon', 'extremadura', 'balears illes', 'cataluna', 'galicia', 'aragon', 'rioja la', 'madrid comunidad de', 'region de murcia', 'navarra comunidad foral de', 'principado de asturias', 'canarias', 'cantabria', 'ceuta ciudad de', 'melilla ciudad de'] [0, 0, 0, 0, 0, 0, 0, 0, 0, 0, 0, 0, 0, 0, 0, 0, 0, 0, 0]\n"
          ],
          "name": "stdout"
        },
        {
          "output_type": "error",
          "ename": "ValueError",
          "evalue": "ignored",
          "traceback": [
            "\u001b[0;31m---------------------------------------------------------------------------\u001b[0m",
            "\u001b[0;31mValueError\u001b[0m                                Traceback (most recent call last)",
            "\u001b[0;32m<ipython-input-339-3547216699fb>\u001b[0m in \u001b[0;36m<module>\u001b[0;34m()\u001b[0m\n\u001b[1;32m     12\u001b[0m \u001b[0;34m\u001b[0m\u001b[0m\n\u001b[1;32m     13\u001b[0m \u001b[0mfig\u001b[0m \u001b[0;34m=\u001b[0m \u001b[0mmake_subplots\u001b[0m\u001b[0;34m(\u001b[0m\u001b[0mrows\u001b[0m\u001b[0;34m=\u001b[0m\u001b[0;36m1\u001b[0m\u001b[0;34m,\u001b[0m \u001b[0mcols\u001b[0m\u001b[0;34m=\u001b[0m\u001b[0;36m1\u001b[0m\u001b[0;34m,\u001b[0m \u001b[0msubplot_titles\u001b[0m\u001b[0;34m=\u001b[0m\u001b[0;34m[\u001b[0m\u001b[0;34m'Pie Chart'\u001b[0m\u001b[0;34m]\u001b[0m\u001b[0;34m)\u001b[0m\u001b[0;34m\u001b[0m\u001b[0;34m\u001b[0m\u001b[0m\n\u001b[0;32m---> 14\u001b[0;31m \u001b[0mfig\u001b[0m\u001b[0;34m.\u001b[0m\u001b[0madd_trace\u001b[0m\u001b[0;34m(\u001b[0m\u001b[0mgo\u001b[0m\u001b[0;34m.\u001b[0m\u001b[0mPie\u001b[0m\u001b[0;34m(\u001b[0m\u001b[0mvalues\u001b[0m\u001b[0;34m=\u001b[0m\u001b[0mx\u001b[0m\u001b[0;34m,\u001b[0m \u001b[0mlabels\u001b[0m\u001b[0;34m=\u001b[0m\u001b[0mlabels\u001b[0m\u001b[0;34m,\u001b[0m \u001b[0mname\u001b[0m\u001b[0;34m=\u001b[0m\u001b[0;34m\"Points Number\"\u001b[0m\u001b[0;34m)\u001b[0m\u001b[0;34m,\u001b[0m\u001b[0;36m1\u001b[0m\u001b[0;34m,\u001b[0m \u001b[0;36m1\u001b[0m\u001b[0;34m)\u001b[0m\u001b[0;34m\u001b[0m\u001b[0;34m\u001b[0m\u001b[0m\n\u001b[0m\u001b[1;32m     15\u001b[0m \u001b[0;31m#fig.add_trace(go.Bar(x=x, y=df_merged['count_point'].values.tolist(), text=df_merged['count_point'].values.tolist(), textposition='outside', name='nb_poins'), row=2,col=1)\u001b[0m\u001b[0;34m\u001b[0m\u001b[0;34m\u001b[0m\u001b[0;34m\u001b[0m\u001b[0m\n\u001b[1;32m     16\u001b[0m \u001b[0;34m\u001b[0m\u001b[0m\n",
            "\u001b[0;32m/usr/local/lib/python3.6/dist-packages/plotly/basedatatypes.py\u001b[0m in \u001b[0;36madd_trace\u001b[0;34m(self, trace, row, col, secondary_y)\u001b[0m\n\u001b[1;32m   1621\u001b[0m             \u001b[0mrows\u001b[0m\u001b[0;34m=\u001b[0m\u001b[0;34m[\u001b[0m\u001b[0mrow\u001b[0m\u001b[0;34m]\u001b[0m \u001b[0;32mif\u001b[0m \u001b[0mrow\u001b[0m \u001b[0;32mis\u001b[0m \u001b[0;32mnot\u001b[0m \u001b[0;32mNone\u001b[0m \u001b[0;32melse\u001b[0m \u001b[0;32mNone\u001b[0m\u001b[0;34m,\u001b[0m\u001b[0;34m\u001b[0m\u001b[0;34m\u001b[0m\u001b[0m\n\u001b[1;32m   1622\u001b[0m             \u001b[0mcols\u001b[0m\u001b[0;34m=\u001b[0m\u001b[0;34m[\u001b[0m\u001b[0mcol\u001b[0m\u001b[0;34m]\u001b[0m \u001b[0;32mif\u001b[0m \u001b[0mcol\u001b[0m \u001b[0;32mis\u001b[0m \u001b[0;32mnot\u001b[0m \u001b[0;32mNone\u001b[0m \u001b[0;32melse\u001b[0m \u001b[0;32mNone\u001b[0m\u001b[0;34m,\u001b[0m\u001b[0;34m\u001b[0m\u001b[0;34m\u001b[0m\u001b[0m\n\u001b[0;32m-> 1623\u001b[0;31m             \u001b[0msecondary_ys\u001b[0m\u001b[0;34m=\u001b[0m\u001b[0;34m[\u001b[0m\u001b[0msecondary_y\u001b[0m\u001b[0;34m]\u001b[0m \u001b[0;32mif\u001b[0m \u001b[0msecondary_y\u001b[0m \u001b[0;32mis\u001b[0m \u001b[0;32mnot\u001b[0m \u001b[0;32mNone\u001b[0m \u001b[0;32melse\u001b[0m \u001b[0;32mNone\u001b[0m\u001b[0;34m,\u001b[0m\u001b[0;34m\u001b[0m\u001b[0;34m\u001b[0m\u001b[0m\n\u001b[0m\u001b[1;32m   1624\u001b[0m         )\n\u001b[1;32m   1625\u001b[0m \u001b[0;34m\u001b[0m\u001b[0m\n",
            "\u001b[0;32m/usr/local/lib/python3.6/dist-packages/plotly/basedatatypes.py\u001b[0m in \u001b[0;36madd_traces\u001b[0;34m(self, data, rows, cols, secondary_ys)\u001b[0m\n\u001b[1;32m   1721\u001b[0m         \u001b[0;32mif\u001b[0m \u001b[0mrows\u001b[0m \u001b[0;32mis\u001b[0m \u001b[0;32mnot\u001b[0m \u001b[0;32mNone\u001b[0m\u001b[0;34m:\u001b[0m\u001b[0;34m\u001b[0m\u001b[0;34m\u001b[0m\u001b[0m\n\u001b[1;32m   1722\u001b[0m             \u001b[0;32mfor\u001b[0m \u001b[0mtrace\u001b[0m\u001b[0;34m,\u001b[0m \u001b[0mrow\u001b[0m\u001b[0;34m,\u001b[0m \u001b[0mcol\u001b[0m\u001b[0;34m,\u001b[0m \u001b[0msecondary_y\u001b[0m \u001b[0;32min\u001b[0m \u001b[0mzip\u001b[0m\u001b[0;34m(\u001b[0m\u001b[0mdata\u001b[0m\u001b[0;34m,\u001b[0m \u001b[0mrows\u001b[0m\u001b[0;34m,\u001b[0m \u001b[0mcols\u001b[0m\u001b[0;34m,\u001b[0m \u001b[0msecondary_ys\u001b[0m\u001b[0;34m)\u001b[0m\u001b[0;34m:\u001b[0m\u001b[0;34m\u001b[0m\u001b[0;34m\u001b[0m\u001b[0m\n\u001b[0;32m-> 1723\u001b[0;31m                 \u001b[0mself\u001b[0m\u001b[0;34m.\u001b[0m\u001b[0m_set_trace_grid_position\u001b[0m\u001b[0;34m(\u001b[0m\u001b[0mtrace\u001b[0m\u001b[0;34m,\u001b[0m \u001b[0mrow\u001b[0m\u001b[0;34m,\u001b[0m \u001b[0mcol\u001b[0m\u001b[0;34m,\u001b[0m \u001b[0msecondary_y\u001b[0m\u001b[0;34m)\u001b[0m\u001b[0;34m\u001b[0m\u001b[0;34m\u001b[0m\u001b[0m\n\u001b[0m\u001b[1;32m   1724\u001b[0m \u001b[0;34m\u001b[0m\u001b[0m\n\u001b[1;32m   1725\u001b[0m         \u001b[0;31m# Make deep copy of trace data (Optimize later if needed)\u001b[0m\u001b[0;34m\u001b[0m\u001b[0;34m\u001b[0m\u001b[0;34m\u001b[0m\u001b[0m\n",
            "\u001b[0;32m/usr/local/lib/python3.6/dist-packages/plotly/basedatatypes.py\u001b[0m in \u001b[0;36m_set_trace_grid_position\u001b[0;34m(self, trace, row, col, secondary_y)\u001b[0m\n\u001b[1;32m   1802\u001b[0m         \u001b[0mgrid_ref\u001b[0m \u001b[0;34m=\u001b[0m \u001b[0mself\u001b[0m\u001b[0;34m.\u001b[0m\u001b[0m_validate_get_grid_ref\u001b[0m\u001b[0;34m(\u001b[0m\u001b[0;34m)\u001b[0m\u001b[0;34m\u001b[0m\u001b[0;34m\u001b[0m\u001b[0m\n\u001b[1;32m   1803\u001b[0m         return _set_trace_grid_reference(\n\u001b[0;32m-> 1804\u001b[0;31m             \u001b[0mtrace\u001b[0m\u001b[0;34m,\u001b[0m \u001b[0mself\u001b[0m\u001b[0;34m.\u001b[0m\u001b[0mlayout\u001b[0m\u001b[0;34m,\u001b[0m \u001b[0mgrid_ref\u001b[0m\u001b[0;34m,\u001b[0m \u001b[0mrow\u001b[0m\u001b[0;34m,\u001b[0m \u001b[0mcol\u001b[0m\u001b[0;34m,\u001b[0m \u001b[0msecondary_y\u001b[0m\u001b[0;34m\u001b[0m\u001b[0;34m\u001b[0m\u001b[0m\n\u001b[0m\u001b[1;32m   1805\u001b[0m         )\n\u001b[1;32m   1806\u001b[0m \u001b[0;34m\u001b[0m\u001b[0m\n",
            "\u001b[0;32m/usr/local/lib/python3.6/dist-packages/plotly/subplots.py\u001b[0m in \u001b[0;36m_set_trace_grid_reference\u001b[0;34m(trace, layout, grid_ref, row, col, secondary_y)\u001b[0m\n\u001b[1;32m   1358\u001b[0m                     \u001b[0msubplot_type\u001b[0m\u001b[0;34m=\u001b[0m\u001b[0msubplot_refs\u001b[0m\u001b[0;34m[\u001b[0m\u001b[0;36m0\u001b[0m\u001b[0;34m]\u001b[0m\u001b[0;34m.\u001b[0m\u001b[0msubplot_type\u001b[0m\u001b[0;34m,\u001b[0m\u001b[0;34m\u001b[0m\u001b[0;34m\u001b[0m\u001b[0m\n\u001b[1;32m   1359\u001b[0m                     \u001b[0mrow\u001b[0m\u001b[0;34m=\u001b[0m\u001b[0mrow\u001b[0m\u001b[0;34m,\u001b[0m\u001b[0;34m\u001b[0m\u001b[0;34m\u001b[0m\u001b[0m\n\u001b[0;32m-> 1360\u001b[0;31m                     \u001b[0mcol\u001b[0m\u001b[0;34m=\u001b[0m\u001b[0mcol\u001b[0m\u001b[0;34m,\u001b[0m\u001b[0;34m\u001b[0m\u001b[0;34m\u001b[0m\u001b[0m\n\u001b[0m\u001b[1;32m   1361\u001b[0m                 )\n\u001b[1;32m   1362\u001b[0m             )\n",
            "\u001b[0;31mValueError\u001b[0m: Trace type 'pie' is not compatible with subplot type 'xy'\nat grid position (1, 1) \n\nSee the docstring for the specs argument to plotly.subplots.make_subplots \nfor more information on subplot types"
          ]
        }
      ]
    },
    {
      "cell_type": "markdown",
      "metadata": {
        "id": "hJAT8cuT8uEs",
        "colab_type": "text"
      },
      "source": [
        "## Exploring distances between points"
      ]
    },
    {
      "cell_type": "markdown",
      "metadata": {
        "id": "1rSz277G5XX1",
        "colab_type": "text"
      },
      "source": [
        " 1 - Looking the distribution of distance between points"
      ]
    },
    {
      "cell_type": "code",
      "metadata": {
        "id": "72q0Z63k9XO2",
        "colab_type": "code",
        "outputId": "286bf246-331a-4f54-a83c-a9162bdce394",
        "colab": {
          "base_uri": "https://localhost:8080/",
          "height": 208
        }
      },
      "source": [
        "# Plot distances between pooint to see if it's something relevant \n",
        "# for each point compute distance with the closet other point\n",
        "df_points_dist = df_merged_w_points[[\"Autonomia\",\"zona\",\"latitud\", \"longitud\"]]\n",
        "df_points_dist = df_points_dist.dropna().drop_duplicates()\n",
        "df_points_dist.info()"
      ],
      "execution_count": 0,
      "outputs": [
        {
          "output_type": "stream",
          "text": [
            "<class 'pandas.core.frame.DataFrame'>\n",
            "Int64Index: 119 entries, 0 to 306\n",
            "Data columns (total 4 columns):\n",
            " #   Column     Non-Null Count  Dtype  \n",
            "---  ------     --------------  -----  \n",
            " 0   Autonomia  119 non-null    object \n",
            " 1   zona       119 non-null    object \n",
            " 2   latitud    119 non-null    float64\n",
            " 3   longitud   119 non-null    float64\n",
            "dtypes: float64(2), object(2)\n",
            "memory usage: 4.6+ KB\n"
          ],
          "name": "stdout"
        }
      ]
    },
    {
      "cell_type": "code",
      "metadata": {
        "id": "U3aeSET5wMPR",
        "colab_type": "code",
        "colab": {}
      },
      "source": [
        "import geopy.distance\n",
        "distance_list = []\n",
        "for index_i, row_i in df_points_dist.iterrows() :\n",
        "    list_dist = [geopy.distance.vincenty((row_i[\"latitud\"], row_i[\"longitud\"]), (row_j[\"latitud\"], row_j[\"longitud\"])).km \n",
        "                 for index_j, row_j in df_points_dist.iterrows() if index_i != index_j \n",
        "                 ]\n",
        "    distance_list.append(min(list_dist)) \n",
        "df_points_dist[\"distances\"] = distance_list\n"
      ],
      "execution_count": 0,
      "outputs": []
    },
    {
      "cell_type": "code",
      "metadata": {
        "id": "EzZpClffl9pN",
        "colab_type": "code",
        "outputId": "6b7a291f-2849-418e-ceb0-991c54528ecf",
        "colab": {
          "base_uri": "https://localhost:8080/",
          "height": 530
        }
      },
      "source": [
        "fig, axs = plt.subplots(1,2, figsize=(25,8))\n",
        "axs[0].hist(x = df_points_dist.distances, bins=30, rwidth=0.9, color='#636efa')\n",
        "#df_points_dist.distances.plot.hist(grid=True, bins=10, rwidth=0.9, color='#636efa')\n",
        "axs[0].set_title('Distances between the nearest points')\n",
        "axs[0].set_xlabel('distance(km)')\n",
        "axs[0].set_ylabel('Point number')\n",
        "#axs[0].set_grid(axis='y', alpha=0.75)\n",
        "\n",
        "axs[1].boxplot(df_points_dist.distances)\n",
        "axs[1].set_title('Boxplot for nearest distances between points')"
      ],
      "execution_count": 0,
      "outputs": [
        {
          "output_type": "execute_result",
          "data": {
            "text/plain": [
              "Text(0.5, 1.0, 'Boxplot for nearest distances between points')"
            ]
          },
          "metadata": {
            "tags": []
          },
          "execution_count": 84
        },
        {
          "output_type": "display_data",
          "data": {
            "image/png": "[encoded data removed]",
            "text/plain": [
              "<Figure size 1800x576 with 2 Axes>"
            ]
          },
          "metadata": {
            "tags": [],
            "needs_background": "light"
          }
        }
      ]
    },
    {
      "cell_type": "code",
      "metadata": {
        "id": "iG_rdwXWBlki",
        "colab_type": "code",
        "outputId": "6a7476ef-8961-41c7-f596-fd11ada6ceaf",
        "colab": {
          "base_uri": "https://localhost:8080/",
          "height": 52
        }
      },
      "source": [
        "print(\"mean {} km\".format(np.mean(df_points_dist.distances)))\n",
        "print(\"variance {}\".format(np.var(df_points_dist.distances)))"
      ],
      "execution_count": 0,
      "outputs": [
        {
          "output_type": "stream",
          "text": [
            "mean 4.757529808529499 km\n",
            "variance 229.82434493262843\n"
          ],
          "name": "stdout"
        }
      ]
    },
    {
      "cell_type": "code",
      "metadata": {
        "id": "wOpzxw2TDxSp",
        "colab_type": "code",
        "outputId": "bf3df9b4-a158-41c8-94a7-833cbf98b836",
        "colab": {
          "base_uri": "https://localhost:8080/",
          "height": 269
        }
      },
      "source": [
        "import scipy.stats as scp\n",
        "df_points_dist_per_region = df_points_dist['Autonomia'].value_counts().rename_axis('Autonomia').reset_index(name='count_point')\n",
        "#df_points_dist_per_region[\"mean\"] = [df_points_dist[df_points_dist[\"Autonomia\"] == row_i[\"Autonomia\"]].distances.mean for index_i, row_i in df_points_dist_per_region.iterrows()]\n",
        "df_points_dist_per_region[\"mean\"] = [np.mean(df_points_dist[df_points_dist[\"Autonomia\"] == row_i[\"Autonomia\"]].distances.tolist()) \n",
        "                                      for index_i, row_i in df_points_dist_per_region.iterrows()\n",
        "                                    ]\n",
        "df_points_dist_per_region[\"sd_deviation\"] = [scp.sem(df_points_dist[df_points_dist[\"Autonomia\"] == row_i[\"Autonomia\"]].distances.tolist()) \n",
        "                                      for index_i, row_i in df_points_dist_per_region.iterrows()\n",
        "                                    ]\n",
        "\n",
        "#h = se * scp.t.ppf((1 + confidence) / 2., n-1)\n",
        "    #return m, m-h, m+h                         \n",
        "df_points_dist_per_region"
      ],
      "execution_count": 0,
      "outputs": [
        {
          "output_type": "execute_result",
          "data": {
            "text/html": [
              "<div>\n",
              "<style scoped>\n",
              "    .dataframe tbody tr th:only-of-type {\n",
              "        vertical-align: middle;\n",
              "    }\n",
              "\n",
              "    .dataframe tbody tr th {\n",
              "        vertical-align: top;\n",
              "    }\n",
              "\n",
              "    .dataframe thead th {\n",
              "        text-align: right;\n",
              "    }\n",
              "</style>\n",
              "<table border=\"1\" class=\"dataframe\">\n",
              "  <thead>\n",
              "    <tr style=\"text-align: right;\">\n",
              "      <th></th>\n",
              "      <th>Autonomia</th>\n",
              "      <th>count_point</th>\n",
              "      <th>mean</th>\n",
              "      <th>sd_deviation</th>\n",
              "    </tr>\n",
              "  </thead>\n",
              "  <tbody>\n",
              "    <tr>\n",
              "      <th>0</th>\n",
              "      <td>principado de asturias</td>\n",
              "      <td>95</td>\n",
              "      <td>2.783426</td>\n",
              "      <td>4.736549e-01</td>\n",
              "    </tr>\n",
              "    <tr>\n",
              "      <th>1</th>\n",
              "      <td>comunidad valenciana</td>\n",
              "      <td>10</td>\n",
              "      <td>0.001504</td>\n",
              "      <td>2.495209e-04</td>\n",
              "    </tr>\n",
              "    <tr>\n",
              "      <th>2</th>\n",
              "      <td>andalucia</td>\n",
              "      <td>4</td>\n",
              "      <td>0.000753</td>\n",
              "      <td>7.673644e-05</td>\n",
              "    </tr>\n",
              "    <tr>\n",
              "      <th>3</th>\n",
              "      <td>pais vasco</td>\n",
              "      <td>3</td>\n",
              "      <td>22.336990</td>\n",
              "      <td>7.158657e+00</td>\n",
              "    </tr>\n",
              "    <tr>\n",
              "      <th>4</th>\n",
              "      <td>cantabria</td>\n",
              "      <td>3</td>\n",
              "      <td>3.041947</td>\n",
              "      <td>2.362897e+00</td>\n",
              "    </tr>\n",
              "    <tr>\n",
              "      <th>5</th>\n",
              "      <td>castilla y leon</td>\n",
              "      <td>2</td>\n",
              "      <td>112.777540</td>\n",
              "      <td>2.203828e-13</td>\n",
              "    </tr>\n",
              "    <tr>\n",
              "      <th>6</th>\n",
              "      <td>region de murcia</td>\n",
              "      <td>2</td>\n",
              "      <td>0.005298</td>\n",
              "      <td>0.000000e+00</td>\n",
              "    </tr>\n",
              "  </tbody>\n",
              "</table>\n",
              "</div>"
            ],
            "text/plain": [
              "                Autonomia  count_point        mean  sd_deviation\n",
              "0  principado de asturias           95    2.783426  4.736549e-01\n",
              "1    comunidad valenciana           10    0.001504  2.495209e-04\n",
              "2               andalucia            4    0.000753  7.673644e-05\n",
              "3              pais vasco            3   22.336990  7.158657e+00\n",
              "4               cantabria            3    3.041947  2.362897e+00\n",
              "5         castilla y leon            2  112.777540  2.203828e-13\n",
              "6        region de murcia            2    0.005298  0.000000e+00"
            ]
          },
          "metadata": {
            "tags": []
          },
          "execution_count": 86
        }
      ]
    },
    {
      "cell_type": "code",
      "metadata": {
        "id": "iF-Xxtfr0JBz",
        "colab_type": "code",
        "outputId": "69f5fac7-6af3-47a3-efa8-8d9f170c3c86",
        "colab": {
          "base_uri": "https://localhost:8080/",
          "height": 1000
        }
      },
      "source": [
        "nb_autonomia=0\n",
        "for index_i, row_i in df_points_dist_per_region.iterrows():\n",
        "  if row_i.count_point > 2:\n",
        "    nb_autonomia+=1\n",
        "nb_autonomia\n",
        "#plt.subplots(nb_autonomia, sharey = True)\n",
        "ncols = 2\n",
        "nrows = nb_autonomia//2 + nb_autonomia%2\n",
        "fig = plt.figure(figsize=(25,20))\n",
        "plt.gcf().subplots_adjust( wspace = 0.2, hspace = 0.2)\n",
        "#plt.rc_context({'xtick.color':'red', 'ytick.color':'green', 'figure.facecolor':'white'})\n",
        "plt.rc_context({'figure.facecolor':'white'})\n",
        "i = 1\n",
        "for index_i, row_i in df_points_dist_per_region.iterrows():\n",
        "  if row_i.count_point > 2:\n",
        "    axs = fig.add_subplot(nrows, ncols, i )\n",
        "    \n",
        "    axs.hist(x = df_points_dist[df_points_dist[\"Autonomia\"] == row_i[\"Autonomia\"]].distances.tolist(), bins=5, rwidth=0.9)\n",
        "    axs.set_title('Nearest distances in : {} ({} points mean = {:.4f})'.format(row_i[\"Autonomia\"], row_i[\"count_point\"], row_i[\"mean\"]))\n",
        "    axs.set_xlabel('distance(km)')\n",
        "    axs.set_ylabel('Points number')\n",
        "    i+= 1"
      ],
      "execution_count": 0,
      "outputs": [
        {
          "output_type": "display_data",
          "data": {
            "image/png": "[encoded data removed]",
            "text/plain": [
              "<Figure size 1800x1440 with 5 Axes>"
            ]
          },
          "metadata": {
            "tags": []
          }
        }
      ]
    },
    {
      "cell_type": "code",
      "metadata": {
        "id": "z2EQ7etb6I5D",
        "colab_type": "code",
        "outputId": "77aed8ad-79d4-48b3-c8cc-37b9180e0009",
        "colab": {
          "base_uri": "https://localhost:8080/",
          "height": 269
        }
      },
      "source": [
        "df_points_dist_per_region"
      ],
      "execution_count": 0,
      "outputs": [
        {
          "output_type": "execute_result",
          "data": {
            "text/html": [
              "<div>\n",
              "<style scoped>\n",
              "    .dataframe tbody tr th:only-of-type {\n",
              "        vertical-align: middle;\n",
              "    }\n",
              "\n",
              "    .dataframe tbody tr th {\n",
              "        vertical-align: top;\n",
              "    }\n",
              "\n",
              "    .dataframe thead th {\n",
              "        text-align: right;\n",
              "    }\n",
              "</style>\n",
              "<table border=\"1\" class=\"dataframe\">\n",
              "  <thead>\n",
              "    <tr style=\"text-align: right;\">\n",
              "      <th></th>\n",
              "      <th>Autonomia</th>\n",
              "      <th>count_point</th>\n",
              "      <th>mean</th>\n",
              "      <th>sd_deviation</th>\n",
              "    </tr>\n",
              "  </thead>\n",
              "  <tbody>\n",
              "    <tr>\n",
              "      <th>0</th>\n",
              "      <td>principado de asturias</td>\n",
              "      <td>95</td>\n",
              "      <td>2.783426</td>\n",
              "      <td>4.736549e-01</td>\n",
              "    </tr>\n",
              "    <tr>\n",
              "      <th>1</th>\n",
              "      <td>comunidad valenciana</td>\n",
              "      <td>10</td>\n",
              "      <td>0.001504</td>\n",
              "      <td>2.495209e-04</td>\n",
              "    </tr>\n",
              "    <tr>\n",
              "      <th>2</th>\n",
              "      <td>andalucia</td>\n",
              "      <td>4</td>\n",
              "      <td>0.000753</td>\n",
              "      <td>7.673644e-05</td>\n",
              "    </tr>\n",
              "    <tr>\n",
              "      <th>3</th>\n",
              "      <td>pais vasco</td>\n",
              "      <td>3</td>\n",
              "      <td>22.336990</td>\n",
              "      <td>7.158657e+00</td>\n",
              "    </tr>\n",
              "    <tr>\n",
              "      <th>4</th>\n",
              "      <td>cantabria</td>\n",
              "      <td>3</td>\n",
              "      <td>3.041947</td>\n",
              "      <td>2.362897e+00</td>\n",
              "    </tr>\n",
              "    <tr>\n",
              "      <th>5</th>\n",
              "      <td>castilla y leon</td>\n",
              "      <td>2</td>\n",
              "      <td>112.777540</td>\n",
              "      <td>2.203828e-13</td>\n",
              "    </tr>\n",
              "    <tr>\n",
              "      <th>6</th>\n",
              "      <td>region de murcia</td>\n",
              "      <td>2</td>\n",
              "      <td>0.005298</td>\n",
              "      <td>0.000000e+00</td>\n",
              "    </tr>\n",
              "  </tbody>\n",
              "</table>\n",
              "</div>"
            ],
            "text/plain": [
              "                Autonomia  count_point        mean  sd_deviation\n",
              "0  principado de asturias           95    2.783426  4.736549e-01\n",
              "1    comunidad valenciana           10    0.001504  2.495209e-04\n",
              "2               andalucia            4    0.000753  7.673644e-05\n",
              "3              pais vasco            3   22.336990  7.158657e+00\n",
              "4               cantabria            3    3.041947  2.362897e+00\n",
              "5         castilla y leon            2  112.777540  2.203828e-13\n",
              "6        region de murcia            2    0.005298  0.000000e+00"
            ]
          },
          "metadata": {
            "tags": []
          },
          "execution_count": 89
        }
      ]
    },
    {
      "cell_type": "markdown",
      "metadata": {
        "id": "QCEiLAjV4psf",
        "colab_type": "text"
      },
      "source": [
        "It appears that in the autonomia:\n",
        "* Asturia: the ~100 points are ~3 km around each other\n",
        "* Valancia: the 10 points are almost at the same location \n",
        "* Adalucia: the 4 poitns\n",
        "* Cantabria: the 3 points\n",
        "* Pais Vasco: the 3 points\n",
        "* Castilla y leon: not enough points to talk\n",
        "* Murcia: not enough points to talk\n",
        "\n",
        "2 strategies could be relevant:\n",
        "* Put the new points in the biggets traffic are, like in Asturia, especially if we consider that the electric cars are used to commuting for short distances.\n",
        "* Put the new points to allow to travel throughout Spain."
      ]
    },
    {
      "cell_type": "markdown",
      "metadata": {
        "id": "HYcQMiav84L3",
        "colab_type": "text"
      },
      "source": [
        "2 - explore the areas containing most of the points"
      ]
    },
    {
      "cell_type": "code",
      "metadata": {
        "id": "vXED9DUmCWQx",
        "colab_type": "code",
        "colab": {}
      },
      "source": [
        "df_points.info()"
      ],
      "execution_count": 0,
      "outputs": []
    },
    {
      "cell_type": "code",
      "metadata": {
        "id": "3ZM_5hZc81ke",
        "colab_type": "code",
        "colab": {}
      },
      "source": [
        "list_coord_points = np.array( [[row_i[\"latitud\"], row_i[\"longitud\"]] for index_i, row_i in df_points.iterrows()])"
      ],
      "execution_count": 0,
      "outputs": []
    },
    {
      "cell_type": "code",
      "metadata": {
        "id": "uF8DwcwtDSVK",
        "colab_type": "code",
        "colab": {}
      },
      "source": [
        "import copy\n",
        "import matplotlib\n",
        "\n",
        "from matplotlib.colors import LogNorm\n",
        "%matplotlib inline\n",
        "#cmap = copy.copy(matplotlib.cm.jet)\n",
        "#cmap.set_bad((0,0,0)) \n",
        "center = [40.4165001, -3.7025599]  #  Madrid location\n",
        "radius=0.1\n",
        "hist_range = [\n",
        "    [center[1] - radius, center[1] + radius],\n",
        "    [center[0] - radius, center[0] + radius]\n",
        "]\n",
        "print(\"center : {}\".format(hist_range))\n",
        "plt.hist2d(list(list_coord_points[:,0]), list(list_coord_points[:,1]), \n",
        "                bins=200, \n",
        "                norm=LogNorm(),\n",
        "                cmap=cmap, \n",
        "                #range = hist_range\n",
        "           )\n",
        "plt.grid('off')\n",
        "plt.axis('off')\n",
        "#fig.axes[0].get_xaxis().set_visible(False)\n",
        "#fig.axes[0].get_yaxis().set_visible(False)\n",
        "plt.tight_layout()\n",
        "plt.show()\n",
        "# c'est tout pourris"
      ],
      "execution_count": 0,
      "outputs": []
    },
    {
      "cell_type": "markdown",
      "metadata": {
        "id": "j4T4qvDIZn7J",
        "colab_type": "text"
      },
      "source": [
        "Plot point on a map"
      ]
    },
    {
      "cell_type": "code",
      "metadata": {
        "id": "lOdYjkeplBbV",
        "colab_type": "code",
        "colab": {}
      },
      "source": [
        "!pip install geopandas"
      ],
      "execution_count": 0,
      "outputs": []
    },
    {
      "cell_type": "code",
      "metadata": {
        "id": "LMDCBjRQCT33",
        "colab_type": "code",
        "colab": {}
      },
      "source": [
        "!pip install topojson"
      ],
      "execution_count": 0,
      "outputs": []
    },
    {
      "cell_type": "code",
      "metadata": {
        "id": "hGj1R4u5bGE8",
        "colab_type": "code",
        "outputId": "3954c3f2-82d3-422c-da77-73c601240559",
        "colab": {
          "base_uri": "https://localhost:8080/",
          "height": 52
        }
      },
      "source": [
        "# https://github.com/deldersveld/topojson/tree/master/countries/spain\n",
        "import geopandas as gpd\n",
        "import json\n",
        "\n",
        "plt.rcParams['figure.figsize'] = (20, 10)\n",
        "plt.rc_context({'figure.facecolor':'white'})\n",
        "df = gpd.read_file('spain-provinces.json')\n",
        "df.plot(color='grey', ax=ax,  alpha = 0.8)\n",
        "\n"
      ],
      "execution_count": 0,
      "outputs": [
        {
          "output_type": "execute_result",
          "data": {
            "text/plain": [
              "<matplotlib.axes._subplots.AxesSubplot at 0x7f88be1f9d68>"
            ]
          },
          "metadata": {
            "tags": []
          },
          "execution_count": 180
        },
        {
          "output_type": "display_data",
          "data": {
            "text/plain": [
              "<Figure size 1440x720 with 0 Axes>"
            ]
          },
          "metadata": {
            "tags": []
          }
        }
      ]
    },
    {
      "cell_type": "code",
      "metadata": {
        "id": "sOLvfh_ptiZu",
        "colab_type": "code",
        "colab": {}
      },
      "source": [
        "#with open('spain-comunidad.json',\"r\") as json_file:\n",
        "    #   with json.load(json_file) as json_file_load:\n",
        "#df = pd.read_json('spain-comunidad.json')\n",
        "crs = {'init': 'epsg:4326'}\n",
        "geo_df_com = gpd.read_file('spain-comunidad.json', crs = crs)\n",
        "geo_df_com.info()\n",
        "#geo_df_com.scale(xfact = 0.00038734388431869277, yfact = 0.00027674749512036695)\n",
        "#geo_df_com.affine_transform([0, 0, 0, 0, -9.298193999999967,35.280422000000044])\n",
        "# Remove Island\n",
        "geo_df_com = geo_df_com[geo_df_com[\"NAME_1\"] != \"Islas Baleares\"]\n",
        "geo_df_com = geo_df_com[geo_df_com[\"NAME_1\"] != \"Ceuta y Melilla\"]\n",
        "\n",
        "geo_df_com['coord_label'] = geo_df_com['geometry'].apply(lambda x: x.representative_point().coords[:])\n",
        "geo_df_com['coord_label'] = [coords[0] for coords in geo_df_com['coord_label']]\n",
        "\n",
        "\n",
        "#geo_df_com.head()\n",
        "fig, ax = plt.subplots(1,1)\n",
        "# plot background map\n",
        "geo_df_com.plot(color='grey', ax = ax, alpha = 0.8)"
      ],
      "execution_count": 0,
      "outputs": []
    },
    {
      "cell_type": "code",
      "metadata": {
        "id": "ey2ecxZ86ASs",
        "colab_type": "code",
        "outputId": "508495cd-ac1c-42c7-cb5c-87062f83d7b3",
        "colab": {
          "base_uri": "https://localhost:8080/",
          "height": 106
        }
      },
      "source": [
        "# https://github.com/rylativity/identifying_wnv_locations-raw_repo-/blob/master/03-Geo_modeling.ipynb\n",
        "from shapely.geometry import Point, Polygon\n",
        "df_points_dist = pd.DataFrame()\n",
        "geometry = [Point(row_i[\"longitud\"], row_i[\"latitud\"]) for index_i, row_i in df_merged_w_points.drop_duplicates().dropna().iterrows()\n",
        "                                ]\n",
        "geo_points = gpd.GeoDataFrame(geometry = geometry, crs = crs)"
      ],
      "execution_count": 0,
      "outputs": [
        {
          "output_type": "stream",
          "text": [
            "/usr/local/lib/python3.6/dist-packages/pyproj/crs/crs.py:53: FutureWarning:\n",
            "\n",
            "'+init=<authority>:<code>' syntax is deprecated. '<authority>:<code>' is the preferred initialization method. When making the change, be mindful of axis order changes: https://pyproj4.github.io/pyproj/stable/gotchas.html#axis-order-changes-in-proj-6\n",
            "\n"
          ],
          "name": "stderr"
        }
      ]
    },
    {
      "cell_type": "code",
      "metadata": {
        "id": "trjKzJIAQHn1",
        "colab_type": "code",
        "outputId": "fdb35d64-4ed5-4fc2-fdb8-2e5afd920074",
        "colab": {
          "base_uri": "https://localhost:8080/",
          "height": 912
        }
      },
      "source": [
        "fig, ax = plt.subplots(1,1,figsize = (25, 25))\n",
        "# plot background map\n",
        "geo_df_com.plot(color='grey', ax = ax, alpha = 0.5, edgecolor='yellow', legend=True)\n",
        "ax.set_title(\"Autonomia regions\", fontsize=20)\n",
        "# plot autonomia region name\n",
        "for idx, row in geo_df_com.iterrows():\n",
        "    plt.annotate(s=row['NAME_1'], xy=row['coord_label'],\n",
        "                 horizontalalignment='center',color='blue')\n",
        "# plot point\n",
        "geo_points.plot(marker = '+', color='red', ax=ax, label = \"Charging points\", markersize = 40, legend = True)\n",
        "ax.legend(title=\"legend\")\n",
        "ax.set_axis_off()\n",
        "ax.set_axis_off()\n",
        "# TODO : ajouter route et principales villes"
      ],
      "execution_count": 0,
      "outputs": [
        {
          "output_type": "display_data",
          "data": {
            "image/png": "[encoded data removed]",
            "text/plain": [
              "<Figure size 1800x1800 with 1 Axes>"
            ]
          },
          "metadata": {
            "tags": []
          }
        }
      ]
    },
    {
      "cell_type": "code",
      "metadata": {
        "id": "gUfyNFScmAqD",
        "colab_type": "code",
        "colab": {}
      },
      "source": [
        "# test if Madrid is in the map \n",
        "p_test = Point(40.4167754, -3.7037902)  # Madrid coords\n",
        "test = [ p_test.within(poly[\"geometry\"]) for key, poly in geo_df_com.iterrows()]\n",
        "bool_test = True\n",
        "for i in test : bool_test &= i\n",
        "print(\"Madrid is inside ? : {}\".format(bool_test))"
      ],
      "execution_count": 0,
      "outputs": []
    },
    {
      "cell_type": "markdown",
      "metadata": {
        "id": "1-k-S9_QwRC9",
        "colab_type": "text"
      },
      "source": [
        "## Dashboard"
      ]
    },
    {
      "cell_type": "code",
      "metadata": {
        "id": "yfi2Rx5lxa-G",
        "colab_type": "code",
        "colab": {}
      },
      "source": [
        "!pip install chart_studio\n",
        "!pip install dash"
      ],
      "execution_count": 0,
      "outputs": []
    },
    {
      "cell_type": "code",
      "metadata": {
        "id": "PFH7XA2e9vx6",
        "colab_type": "code",
        "outputId": "cdc93831-665f-4045-b368-9ef2795255ba",
        "colab": {
          "base_uri": "https://localhost:8080/",
          "height": 34
        }
      },
      "source": [
        "import dash_core_components\n",
        "print(dash_core_components.__version__)"
      ],
      "execution_count": 0,
      "outputs": [
        {
          "output_type": "stream",
          "text": [
            "1.10.0\n"
          ],
          "name": "stdout"
        }
      ]
    },
    {
      "cell_type": "code",
      "metadata": {
        "id": "cUzRZm3lxV1E",
        "colab_type": "code",
        "outputId": "c02e888b-11ca-44d7-d03e-bfddd39c7aaf",
        "colab": {
          "base_uri": "https://localhost:8080/",
          "height": 365
        }
      },
      "source": [
        "import chart_studio.dashboard_objs as dashboard\n",
        "import plotly.graph_objs as go\n",
        "import chart_studio.plotly as py\n",
        "import numpy as np\n",
        "\n",
        "colorscale = [[0, '#FAEE1C'], [0.33, '#F3558E'], [0.66, '#9C1DE7'], [1, '#581B98']]\n",
        "trace1 = go.Scatter(\n",
        "    y = np.random.randn(500),\n",
        "    mode='markers',\n",
        "    marker=dict(\n",
        "        size=16,\n",
        "        color = np.random.randn(500),\n",
        "        colorscale=colorscale,\n",
        "        showscale=True\n",
        "    )\n",
        ")\n",
        "data = [trace1]\n",
        "url_1 = py.plot(data, filename='scatter-for-dashboard', auto_open=False)\n",
        "py.iplot(data, filename='scatter-for-dashboard')"
      ],
      "execution_count": 0,
      "outputs": [
        {
          "output_type": "error",
          "ename": "PlotlyRequestError",
          "evalue": "ignored",
          "traceback": [
            "\u001b[0;31m---------------------------------------------------------------------------\u001b[0m",
            "\u001b[0;31mPlotlyRequestError\u001b[0m                        Traceback (most recent call last)",
            "\u001b[0;32m<ipython-input-17-6daa3043fa96>\u001b[0m in \u001b[0;36m<module>\u001b[0;34m()\u001b[0m\n\u001b[1;32m     16\u001b[0m )\n\u001b[1;32m     17\u001b[0m \u001b[0mdata\u001b[0m \u001b[0;34m=\u001b[0m \u001b[0;34m[\u001b[0m\u001b[0mtrace1\u001b[0m\u001b[0;34m]\u001b[0m\u001b[0;34m\u001b[0m\u001b[0;34m\u001b[0m\u001b[0m\n\u001b[0;32m---> 18\u001b[0;31m \u001b[0murl_1\u001b[0m \u001b[0;34m=\u001b[0m \u001b[0mpy\u001b[0m\u001b[0;34m.\u001b[0m\u001b[0mplot\u001b[0m\u001b[0;34m(\u001b[0m\u001b[0mdata\u001b[0m\u001b[0;34m,\u001b[0m \u001b[0mfilename\u001b[0m\u001b[0;34m=\u001b[0m\u001b[0;34m'scatter-for-dashboard'\u001b[0m\u001b[0;34m,\u001b[0m \u001b[0mauto_open\u001b[0m\u001b[0;34m=\u001b[0m\u001b[0;32mFalse\u001b[0m\u001b[0;34m)\u001b[0m\u001b[0;34m\u001b[0m\u001b[0;34m\u001b[0m\u001b[0m\n\u001b[0m\u001b[1;32m     19\u001b[0m \u001b[0mpy\u001b[0m\u001b[0;34m.\u001b[0m\u001b[0miplot\u001b[0m\u001b[0;34m(\u001b[0m\u001b[0mdata\u001b[0m\u001b[0;34m,\u001b[0m \u001b[0mfilename\u001b[0m\u001b[0;34m=\u001b[0m\u001b[0;34m'scatter-for-dashboard'\u001b[0m\u001b[0;34m)\u001b[0m\u001b[0;34m\u001b[0m\u001b[0;34m\u001b[0m\u001b[0m\n",
            "\u001b[0;32m/usr/local/lib/python3.6/dist-packages/chart_studio/plotly/plotly.py\u001b[0m in \u001b[0;36mplot\u001b[0;34m(figure_or_data, validate, **plot_options)\u001b[0m\n\u001b[1;32m    278\u001b[0m             \u001b[0mfilename\u001b[0m\u001b[0;34m=\u001b[0m\u001b[0mgrid_filename\u001b[0m\u001b[0;34m,\u001b[0m\u001b[0;34m\u001b[0m\u001b[0;34m\u001b[0m\u001b[0m\n\u001b[1;32m    279\u001b[0m             \u001b[0mworld_readable\u001b[0m\u001b[0;34m=\u001b[0m\u001b[0mpayload\u001b[0m\u001b[0;34m[\u001b[0m\u001b[0;34m\"world_readable\"\u001b[0m\u001b[0;34m]\u001b[0m\u001b[0;34m,\u001b[0m\u001b[0;34m\u001b[0m\u001b[0;34m\u001b[0m\u001b[0m\n\u001b[0;32m--> 280\u001b[0;31m             \u001b[0mauto_open\u001b[0m\u001b[0;34m=\u001b[0m\u001b[0;32mFalse\u001b[0m\u001b[0;34m,\u001b[0m\u001b[0;34m\u001b[0m\u001b[0;34m\u001b[0m\u001b[0m\n\u001b[0m\u001b[1;32m    281\u001b[0m         )\n\u001b[1;32m    282\u001b[0m \u001b[0;34m\u001b[0m\u001b[0m\n",
            "\u001b[0;32m/usr/local/lib/python3.6/dist-packages/chart_studio/plotly/plotly.py\u001b[0m in \u001b[0;36mupload\u001b[0;34m(cls, grid, filename, world_readable, auto_open, meta)\u001b[0m\n\u001b[1;32m   1085\u001b[0m                 \u001b[0mpayload\u001b[0m\u001b[0;34m[\u001b[0m\u001b[0;34m\"parent_path\"\u001b[0m\u001b[0;34m]\u001b[0m \u001b[0;34m=\u001b[0m \u001b[0mparent_path\u001b[0m\u001b[0;34m\u001b[0m\u001b[0;34m\u001b[0m\u001b[0m\n\u001b[1;32m   1086\u001b[0m \u001b[0;34m\u001b[0m\u001b[0m\n\u001b[0;32m-> 1087\u001b[0;31m         \u001b[0mfile_info\u001b[0m \u001b[0;34m=\u001b[0m \u001b[0m_create_or_overwrite_grid\u001b[0m\u001b[0;34m(\u001b[0m\u001b[0mpayload\u001b[0m\u001b[0;34m)\u001b[0m\u001b[0;34m\u001b[0m\u001b[0;34m\u001b[0m\u001b[0m\n\u001b[0m\u001b[1;32m   1088\u001b[0m \u001b[0;34m\u001b[0m\u001b[0m\n\u001b[1;32m   1089\u001b[0m         \u001b[0mcols\u001b[0m \u001b[0;34m=\u001b[0m \u001b[0mfile_info\u001b[0m\u001b[0;34m[\u001b[0m\u001b[0;34m\"cols\"\u001b[0m\u001b[0;34m]\u001b[0m\u001b[0;34m\u001b[0m\u001b[0;34m\u001b[0m\u001b[0m\n",
            "\u001b[0;32m/usr/local/lib/python3.6/dist-packages/chart_studio/plotly/plotly.py\u001b[0m in \u001b[0;36m_create_or_overwrite_grid\u001b[0;34m(data, max_retries)\u001b[0m\n\u001b[1;32m   1548\u001b[0m     \u001b[0;31m# Create file\u001b[0m\u001b[0;34m\u001b[0m\u001b[0;34m\u001b[0m\u001b[0;34m\u001b[0m\u001b[0m\n\u001b[1;32m   1549\u001b[0m     \u001b[0;32mtry\u001b[0m\u001b[0;34m:\u001b[0m\u001b[0;34m\u001b[0m\u001b[0;34m\u001b[0m\u001b[0m\n\u001b[0;32m-> 1550\u001b[0;31m         \u001b[0mres\u001b[0m \u001b[0;34m=\u001b[0m \u001b[0mapi_module\u001b[0m\u001b[0;34m.\u001b[0m\u001b[0mcreate\u001b[0m\u001b[0;34m(\u001b[0m\u001b[0mdata\u001b[0m\u001b[0;34m)\u001b[0m\u001b[0;34m\u001b[0m\u001b[0;34m\u001b[0m\u001b[0m\n\u001b[0m\u001b[1;32m   1551\u001b[0m     \u001b[0;32mexcept\u001b[0m \u001b[0mexceptions\u001b[0m\u001b[0;34m.\u001b[0m\u001b[0mPlotlyRequestError\u001b[0m \u001b[0;32mas\u001b[0m \u001b[0me\u001b[0m\u001b[0;34m:\u001b[0m\u001b[0;34m\u001b[0m\u001b[0;34m\u001b[0m\u001b[0m\n\u001b[1;32m   1552\u001b[0m         \u001b[0;32mif\u001b[0m \u001b[0mmax_retries\u001b[0m \u001b[0;34m>\u001b[0m \u001b[0;36m0\u001b[0m \u001b[0;32mand\u001b[0m \u001b[0;34m\"already exists\"\u001b[0m \u001b[0;32min\u001b[0m \u001b[0me\u001b[0m\u001b[0;34m.\u001b[0m\u001b[0mmessage\u001b[0m\u001b[0;34m:\u001b[0m\u001b[0;34m\u001b[0m\u001b[0;34m\u001b[0m\u001b[0m\n",
            "\u001b[0;32m/usr/local/lib/python3.6/dist-packages/chart_studio/api/v2/grids.py\u001b[0m in \u001b[0;36mcreate\u001b[0;34m(body)\u001b[0m\n\u001b[1;32m     16\u001b[0m     \"\"\"\n\u001b[1;32m     17\u001b[0m     \u001b[0murl\u001b[0m \u001b[0;34m=\u001b[0m \u001b[0mbuild_url\u001b[0m\u001b[0;34m(\u001b[0m\u001b[0mRESOURCE\u001b[0m\u001b[0;34m)\u001b[0m\u001b[0;34m\u001b[0m\u001b[0;34m\u001b[0m\u001b[0m\n\u001b[0;32m---> 18\u001b[0;31m     \u001b[0;32mreturn\u001b[0m \u001b[0mrequest\u001b[0m\u001b[0;34m(\u001b[0m\u001b[0;34m\"post\"\u001b[0m\u001b[0;34m,\u001b[0m \u001b[0murl\u001b[0m\u001b[0;34m,\u001b[0m \u001b[0mjson\u001b[0m\u001b[0;34m=\u001b[0m\u001b[0mbody\u001b[0m\u001b[0;34m)\u001b[0m\u001b[0;34m\u001b[0m\u001b[0;34m\u001b[0m\u001b[0m\n\u001b[0m\u001b[1;32m     19\u001b[0m \u001b[0;34m\u001b[0m\u001b[0m\n\u001b[1;32m     20\u001b[0m \u001b[0;34m\u001b[0m\u001b[0m\n",
            "\u001b[0;32m/usr/local/lib/python3.6/dist-packages/retrying.py\u001b[0m in \u001b[0;36mwrapped_f\u001b[0;34m(*args, **kw)\u001b[0m\n\u001b[1;32m     47\u001b[0m             \u001b[0;34m@\u001b[0m\u001b[0msix\u001b[0m\u001b[0;34m.\u001b[0m\u001b[0mwraps\u001b[0m\u001b[0;34m(\u001b[0m\u001b[0mf\u001b[0m\u001b[0;34m)\u001b[0m\u001b[0;34m\u001b[0m\u001b[0;34m\u001b[0m\u001b[0m\n\u001b[1;32m     48\u001b[0m             \u001b[0;32mdef\u001b[0m \u001b[0mwrapped_f\u001b[0m\u001b[0;34m(\u001b[0m\u001b[0;34m*\u001b[0m\u001b[0margs\u001b[0m\u001b[0;34m,\u001b[0m \u001b[0;34m**\u001b[0m\u001b[0mkw\u001b[0m\u001b[0;34m)\u001b[0m\u001b[0;34m:\u001b[0m\u001b[0;34m\u001b[0m\u001b[0;34m\u001b[0m\u001b[0m\n\u001b[0;32m---> 49\u001b[0;31m                 \u001b[0;32mreturn\u001b[0m \u001b[0mRetrying\u001b[0m\u001b[0;34m(\u001b[0m\u001b[0;34m*\u001b[0m\u001b[0mdargs\u001b[0m\u001b[0;34m,\u001b[0m \u001b[0;34m**\u001b[0m\u001b[0mdkw\u001b[0m\u001b[0;34m)\u001b[0m\u001b[0;34m.\u001b[0m\u001b[0mcall\u001b[0m\u001b[0;34m(\u001b[0m\u001b[0mf\u001b[0m\u001b[0;34m,\u001b[0m \u001b[0;34m*\u001b[0m\u001b[0margs\u001b[0m\u001b[0;34m,\u001b[0m \u001b[0;34m**\u001b[0m\u001b[0mkw\u001b[0m\u001b[0;34m)\u001b[0m\u001b[0;34m\u001b[0m\u001b[0;34m\u001b[0m\u001b[0m\n\u001b[0m\u001b[1;32m     50\u001b[0m \u001b[0;34m\u001b[0m\u001b[0m\n\u001b[1;32m     51\u001b[0m             \u001b[0;32mreturn\u001b[0m \u001b[0mwrapped_f\u001b[0m\u001b[0;34m\u001b[0m\u001b[0;34m\u001b[0m\u001b[0m\n",
            "\u001b[0;32m/usr/local/lib/python3.6/dist-packages/retrying.py\u001b[0m in \u001b[0;36mcall\u001b[0;34m(self, fn, *args, **kwargs)\u001b[0m\n\u001b[1;32m    204\u001b[0m \u001b[0;34m\u001b[0m\u001b[0m\n\u001b[1;32m    205\u001b[0m             \u001b[0;32mif\u001b[0m \u001b[0;32mnot\u001b[0m \u001b[0mself\u001b[0m\u001b[0;34m.\u001b[0m\u001b[0mshould_reject\u001b[0m\u001b[0;34m(\u001b[0m\u001b[0mattempt\u001b[0m\u001b[0;34m)\u001b[0m\u001b[0;34m:\u001b[0m\u001b[0;34m\u001b[0m\u001b[0;34m\u001b[0m\u001b[0m\n\u001b[0;32m--> 206\u001b[0;31m                 \u001b[0;32mreturn\u001b[0m \u001b[0mattempt\u001b[0m\u001b[0;34m.\u001b[0m\u001b[0mget\u001b[0m\u001b[0;34m(\u001b[0m\u001b[0mself\u001b[0m\u001b[0;34m.\u001b[0m\u001b[0m_wrap_exception\u001b[0m\u001b[0;34m)\u001b[0m\u001b[0;34m\u001b[0m\u001b[0;34m\u001b[0m\u001b[0m\n\u001b[0m\u001b[1;32m    207\u001b[0m \u001b[0;34m\u001b[0m\u001b[0m\n\u001b[1;32m    208\u001b[0m             \u001b[0mdelay_since_first_attempt_ms\u001b[0m \u001b[0;34m=\u001b[0m \u001b[0mint\u001b[0m\u001b[0;34m(\u001b[0m\u001b[0mround\u001b[0m\u001b[0;34m(\u001b[0m\u001b[0mtime\u001b[0m\u001b[0;34m.\u001b[0m\u001b[0mtime\u001b[0m\u001b[0;34m(\u001b[0m\u001b[0;34m)\u001b[0m \u001b[0;34m*\u001b[0m \u001b[0;36m1000\u001b[0m\u001b[0;34m)\u001b[0m\u001b[0;34m)\u001b[0m \u001b[0;34m-\u001b[0m \u001b[0mstart_time\u001b[0m\u001b[0;34m\u001b[0m\u001b[0;34m\u001b[0m\u001b[0m\n",
            "\u001b[0;32m/usr/local/lib/python3.6/dist-packages/retrying.py\u001b[0m in \u001b[0;36mget\u001b[0;34m(self, wrap_exception)\u001b[0m\n\u001b[1;32m    245\u001b[0m                 \u001b[0;32mraise\u001b[0m \u001b[0mRetryError\u001b[0m\u001b[0;34m(\u001b[0m\u001b[0mself\u001b[0m\u001b[0;34m)\u001b[0m\u001b[0;34m\u001b[0m\u001b[0;34m\u001b[0m\u001b[0m\n\u001b[1;32m    246\u001b[0m             \u001b[0;32melse\u001b[0m\u001b[0;34m:\u001b[0m\u001b[0;34m\u001b[0m\u001b[0;34m\u001b[0m\u001b[0m\n\u001b[0;32m--> 247\u001b[0;31m                 \u001b[0msix\u001b[0m\u001b[0;34m.\u001b[0m\u001b[0mreraise\u001b[0m\u001b[0;34m(\u001b[0m\u001b[0mself\u001b[0m\u001b[0;34m.\u001b[0m\u001b[0mvalue\u001b[0m\u001b[0;34m[\u001b[0m\u001b[0;36m0\u001b[0m\u001b[0;34m]\u001b[0m\u001b[0;34m,\u001b[0m \u001b[0mself\u001b[0m\u001b[0;34m.\u001b[0m\u001b[0mvalue\u001b[0m\u001b[0;34m[\u001b[0m\u001b[0;36m1\u001b[0m\u001b[0;34m]\u001b[0m\u001b[0;34m,\u001b[0m \u001b[0mself\u001b[0m\u001b[0;34m.\u001b[0m\u001b[0mvalue\u001b[0m\u001b[0;34m[\u001b[0m\u001b[0;36m2\u001b[0m\u001b[0;34m]\u001b[0m\u001b[0;34m)\u001b[0m\u001b[0;34m\u001b[0m\u001b[0;34m\u001b[0m\u001b[0m\n\u001b[0m\u001b[1;32m    248\u001b[0m         \u001b[0;32melse\u001b[0m\u001b[0;34m:\u001b[0m\u001b[0;34m\u001b[0m\u001b[0;34m\u001b[0m\u001b[0m\n\u001b[1;32m    249\u001b[0m             \u001b[0;32mreturn\u001b[0m \u001b[0mself\u001b[0m\u001b[0;34m.\u001b[0m\u001b[0mvalue\u001b[0m\u001b[0;34m\u001b[0m\u001b[0;34m\u001b[0m\u001b[0m\n",
            "\u001b[0;32m/usr/local/lib/python3.6/dist-packages/six.py\u001b[0m in \u001b[0;36mreraise\u001b[0;34m(tp, value, tb)\u001b[0m\n\u001b[1;32m    691\u001b[0m             \u001b[0;32mif\u001b[0m \u001b[0mvalue\u001b[0m\u001b[0;34m.\u001b[0m\u001b[0m__traceback__\u001b[0m \u001b[0;32mis\u001b[0m \u001b[0;32mnot\u001b[0m \u001b[0mtb\u001b[0m\u001b[0;34m:\u001b[0m\u001b[0;34m\u001b[0m\u001b[0;34m\u001b[0m\u001b[0m\n\u001b[1;32m    692\u001b[0m                 \u001b[0;32mraise\u001b[0m \u001b[0mvalue\u001b[0m\u001b[0;34m.\u001b[0m\u001b[0mwith_traceback\u001b[0m\u001b[0;34m(\u001b[0m\u001b[0mtb\u001b[0m\u001b[0;34m)\u001b[0m\u001b[0;34m\u001b[0m\u001b[0;34m\u001b[0m\u001b[0m\n\u001b[0;32m--> 693\u001b[0;31m             \u001b[0;32mraise\u001b[0m \u001b[0mvalue\u001b[0m\u001b[0;34m\u001b[0m\u001b[0;34m\u001b[0m\u001b[0m\n\u001b[0m\u001b[1;32m    694\u001b[0m         \u001b[0;32mfinally\u001b[0m\u001b[0;34m:\u001b[0m\u001b[0;34m\u001b[0m\u001b[0;34m\u001b[0m\u001b[0m\n\u001b[1;32m    695\u001b[0m             \u001b[0mvalue\u001b[0m \u001b[0;34m=\u001b[0m \u001b[0;32mNone\u001b[0m\u001b[0;34m\u001b[0m\u001b[0;34m\u001b[0m\u001b[0m\n",
            "\u001b[0;32m/usr/local/lib/python3.6/dist-packages/retrying.py\u001b[0m in \u001b[0;36mcall\u001b[0;34m(self, fn, *args, **kwargs)\u001b[0m\n\u001b[1;32m    198\u001b[0m         \u001b[0;32mwhile\u001b[0m \u001b[0;32mTrue\u001b[0m\u001b[0;34m:\u001b[0m\u001b[0;34m\u001b[0m\u001b[0;34m\u001b[0m\u001b[0m\n\u001b[1;32m    199\u001b[0m             \u001b[0;32mtry\u001b[0m\u001b[0;34m:\u001b[0m\u001b[0;34m\u001b[0m\u001b[0;34m\u001b[0m\u001b[0m\n\u001b[0;32m--> 200\u001b[0;31m                 \u001b[0mattempt\u001b[0m \u001b[0;34m=\u001b[0m \u001b[0mAttempt\u001b[0m\u001b[0;34m(\u001b[0m\u001b[0mfn\u001b[0m\u001b[0;34m(\u001b[0m\u001b[0;34m*\u001b[0m\u001b[0margs\u001b[0m\u001b[0;34m,\u001b[0m \u001b[0;34m**\u001b[0m\u001b[0mkwargs\u001b[0m\u001b[0;34m)\u001b[0m\u001b[0;34m,\u001b[0m \u001b[0mattempt_number\u001b[0m\u001b[0;34m,\u001b[0m \u001b[0;32mFalse\u001b[0m\u001b[0;34m)\u001b[0m\u001b[0;34m\u001b[0m\u001b[0;34m\u001b[0m\u001b[0m\n\u001b[0m\u001b[1;32m    201\u001b[0m             \u001b[0;32mexcept\u001b[0m\u001b[0;34m:\u001b[0m\u001b[0;34m\u001b[0m\u001b[0;34m\u001b[0m\u001b[0m\n\u001b[1;32m    202\u001b[0m                 \u001b[0mtb\u001b[0m \u001b[0;34m=\u001b[0m \u001b[0msys\u001b[0m\u001b[0;34m.\u001b[0m\u001b[0mexc_info\u001b[0m\u001b[0;34m(\u001b[0m\u001b[0;34m)\u001b[0m\u001b[0;34m\u001b[0m\u001b[0;34m\u001b[0m\u001b[0m\n",
            "\u001b[0;32m/usr/local/lib/python3.6/dist-packages/chart_studio/api/v2/utils.py\u001b[0m in \u001b[0;36mrequest\u001b[0;34m(method, url, **kwargs)\u001b[0m\n\u001b[1;32m    178\u001b[0m         \u001b[0mcontent\u001b[0m \u001b[0;34m=\u001b[0m \u001b[0mresponse\u001b[0m\u001b[0;34m.\u001b[0m\u001b[0mcontent\u001b[0m \u001b[0;32mif\u001b[0m \u001b[0mresponse\u001b[0m \u001b[0;32melse\u001b[0m \u001b[0;34m\"No content\"\u001b[0m\u001b[0;34m\u001b[0m\u001b[0;34m\u001b[0m\u001b[0m\n\u001b[1;32m    179\u001b[0m         \u001b[0;32mraise\u001b[0m \u001b[0mexceptions\u001b[0m\u001b[0;34m.\u001b[0m\u001b[0mPlotlyRequestError\u001b[0m\u001b[0;34m(\u001b[0m\u001b[0mmessage\u001b[0m\u001b[0;34m,\u001b[0m \u001b[0mstatus_code\u001b[0m\u001b[0;34m,\u001b[0m \u001b[0mcontent\u001b[0m\u001b[0;34m)\u001b[0m\u001b[0;34m\u001b[0m\u001b[0;34m\u001b[0m\u001b[0m\n\u001b[0;32m--> 180\u001b[0;31m     \u001b[0mvalidate_response\u001b[0m\u001b[0;34m(\u001b[0m\u001b[0mresponse\u001b[0m\u001b[0;34m)\u001b[0m\u001b[0;34m\u001b[0m\u001b[0;34m\u001b[0m\u001b[0m\n\u001b[0m\u001b[1;32m    181\u001b[0m     \u001b[0;32mreturn\u001b[0m \u001b[0mresponse\u001b[0m\u001b[0;34m\u001b[0m\u001b[0;34m\u001b[0m\u001b[0m\n",
            "\u001b[0;32m/usr/local/lib/python3.6/dist-packages/chart_studio/api/v2/utils.py\u001b[0m in \u001b[0;36mvalidate_response\u001b[0;34m(response)\u001b[0m\n\u001b[1;32m     80\u001b[0m         \u001b[0mmessage\u001b[0m \u001b[0;34m=\u001b[0m \u001b[0mcontent\u001b[0m \u001b[0;32mif\u001b[0m \u001b[0mcontent\u001b[0m \u001b[0;32melse\u001b[0m \u001b[0;34m\"No Content\"\u001b[0m\u001b[0;34m\u001b[0m\u001b[0;34m\u001b[0m\u001b[0m\n\u001b[1;32m     81\u001b[0m \u001b[0;34m\u001b[0m\u001b[0m\n\u001b[0;32m---> 82\u001b[0;31m     \u001b[0;32mraise\u001b[0m \u001b[0mexceptions\u001b[0m\u001b[0;34m.\u001b[0m\u001b[0mPlotlyRequestError\u001b[0m\u001b[0;34m(\u001b[0m\u001b[0mmessage\u001b[0m\u001b[0;34m,\u001b[0m \u001b[0mstatus_code\u001b[0m\u001b[0;34m,\u001b[0m \u001b[0mcontent\u001b[0m\u001b[0;34m)\u001b[0m\u001b[0;34m\u001b[0m\u001b[0;34m\u001b[0m\u001b[0m\n\u001b[0m\u001b[1;32m     83\u001b[0m \u001b[0;34m\u001b[0m\u001b[0m\n\u001b[1;32m     84\u001b[0m \u001b[0;34m\u001b[0m\u001b[0m\n",
            "\u001b[0;31mPlotlyRequestError\u001b[0m: Authentication credentials were not provided."
          ]
        }
      ]
    },
    {
      "cell_type": "code",
      "metadata": {
        "id": "SdO2n5NX9Oso",
        "colab_type": "code",
        "outputId": "81c52841-5d46-40e4-ee69-e144599ba241",
        "colab": {
          "base_uri": "https://localhost:8080/",
          "height": 139
        }
      },
      "source": [
        "import plotly.graph_objects as go # or plotly.express as px\n",
        "fig = go.Figure() # or any Plotly Express function e.g. px.bar(...)\n",
        "# fig.add_trace( ... )\n",
        "# fig.update_layout( ... )\n",
        "\n",
        "import dash\n",
        "import dash_core_components as dcc\n",
        "import dash_html_components as html\n",
        "\n",
        "app = dash.Dash()\n",
        "app.layout = html.Div([\n",
        "    dcc.Graph(figure=fig)\n",
        "])\n",
        "\n",
        "app.run_server(debug=True, use_reloader=False)  # Turn off reloader if inside Jupyter"
      ],
      "execution_count": 0,
      "outputs": [
        {
          "output_type": "stream",
          "text": [
            "Running on http://127.0.0.1:8050/\n",
            "Debugger PIN: 382-971-768\n",
            " * Serving Flask app \"__main__\" (lazy loading)\n",
            " * Environment: production\n",
            "\u001b[31m   WARNING: This is a development server. Do not use it in a production deployment.\u001b[0m\n",
            "\u001b[2m   Use a production WSGI server instead.\u001b[0m\n",
            " * Debug mode: on\n"
          ],
          "name": "stdout"
        }
      ]
    },
    {
      "cell_type": "code",
      "metadata": {
        "id": "joVNxJIh_pnk",
        "colab_type": "code",
        "outputId": "bddf8fec-ebad-4f84-b2c2-1d0e20715485",
        "colab": {
          "base_uri": "https://localhost:8080/",
          "height": 173
        }
      },
      "source": [
        "!python app.py"
      ],
      "execution_count": 0,
      "outputs": [
        {
          "output_type": "stream",
          "text": [
            "Running on http://127.0.0.1:8050/\n",
            "Debugger PIN: 266-612-150\n",
            " * Serving Flask app \"app\" (lazy loading)\n",
            " * Environment: production\n",
            "\u001b[31m   WARNING: This is a development server. Do not use it in a production deployment.\u001b[0m\n",
            "\u001b[2m   Use a production WSGI server instead.\u001b[0m\n",
            " * Debug mode: on\n",
            "Running on http://127.0.0.1:8050/\n",
            "Debugger PIN: 040-068-791\n"
          ],
          "name": "stdout"
        }
      ]
    },
    {
      "cell_type": "markdown",
      "metadata": {
        "id": "49yqm1to8ZSx",
        "colab_type": "text"
      },
      "source": [
        "# Premier jet"
      ]
    },
    {
      "cell_type": "code",
      "metadata": {
        "id": "9bFjAsjwIqAe",
        "colab_type": "code",
        "colab": {}
      },
      "source": [
        "#One-Hot Encoding\n",
        "df_merged_dummy = pd.concat([pd.get_dummies(df_merged['Autonomia']), df_merged[['count_point', 'count_veh']]], axis=1)\n",
        "df_merged_dummy"
      ],
      "execution_count": 0,
      "outputs": []
    },
    {
      "cell_type": "code",
      "metadata": {
        "id": "N-ylZdzNKA5j",
        "colab_type": "code",
        "colab": {}
      },
      "source": [
        "#Entrainement d'un modele KMeans\n",
        "from sklearn.cluster import KMeans\n",
        "\n",
        "n_clusters = 3\n",
        "X = df_merged_dummy.values\n",
        "kmeans = KMeans(n_clusters=n_clusters)\n",
        "kmeans.fit(X)"
      ],
      "execution_count": 0,
      "outputs": []
    },
    {
      "cell_type": "code",
      "metadata": {
        "id": "qIABgDg3KtwW",
        "colab_type": "code",
        "colab": {}
      },
      "source": [
        "#Check des corrdonées des centroides\n",
        "kmeans.cluster_centers_"
      ],
      "execution_count": 0,
      "outputs": []
    },
    {
      "cell_type": "code",
      "metadata": {
        "id": "6AnsAa2dLK5o",
        "colab_type": "code",
        "colab": {}
      },
      "source": [
        "#Dimensionality reduction\n",
        "from sklearn.decomposition import PCA\n",
        "# Check we can stop at Dim 2\n",
        "n_components = 4\n",
        "pca = PCA(n_components=n_components)\n",
        "pca.fit(X)\n",
        "print(\"\\n -----explained_variance_ratio_---\")\n",
        "print(pca.explained_variance_ratio_)\n",
        "\n",
        "n_components = 2\n",
        "pca = PCA(n_components=n_components)\n",
        "pca.fit(X)\n",
        "X_reduced = pca.fit_transform(X)"
      ],
      "execution_count": 0,
      "outputs": []
    },
    {
      "cell_type": "code",
      "metadata": {
        "id": "_krkAOgRMJLG",
        "colab_type": "code",
        "colab": {}
      },
      "source": [
        "#Points en \n",
        "import matplotlib.pyplot as plt\n",
        "\n",
        "plt.scatter(X_reduced[:, 0], X_reduced[:, 1])"
      ],
      "execution_count": 0,
      "outputs": []
    },
    {
      "cell_type": "code",
      "metadata": {
        "id": "6S7nMlk3M5Xv",
        "colab_type": "code",
        "colab": {}
      },
      "source": [
        "n_components = 2\n",
        "pca_center = PCA(n_components=n_components)\n",
        "center_reduced = pca_center.fit_transform(kmeans.cluster_centers_)\n",
        "plt.scatter(center_reduced[:, 0], center_reduced[:, 1])"
      ],
      "execution_count": 0,
      "outputs": []
    },
    {
      "cell_type": "code",
      "metadata": {
        "id": "7wT7vD_kfW_G",
        "colab_type": "code",
        "colab": {}
      },
      "source": [
        "#It will be really helpful if we can present all the result we find in a dashbord\n",
        "#using this link we have all the tools\n",
        "#https://dash-gallery.plotly.host/dash-manufacture-spc-dashboard/\n",
        "#this exemple of dahboard is really interesting !!"
      ],
      "execution_count": 0,
      "outputs": []
    }
  ]
}