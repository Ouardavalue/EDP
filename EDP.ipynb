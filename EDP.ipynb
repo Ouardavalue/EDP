{
  "nbformat": 4,
  "nbformat_minor": 0,
  "metadata": {
    "colab": {
      "name": "EDP.ipynb",
      "provenance": [],
      "collapsed_sections": [],
      "include_colab_link": true
    },
    "kernelspec": {
      "name": "python3",
      "display_name": "Python 3"
    }
  },
  "cells": [
    {
      "cell_type": "markdown",
      "metadata": {
        "id": "view-in-github",
        "colab_type": "text"
      },
      "source": [
        "<a href=\"https://colab.research.google.com/github/Ouardavalue/ERD/blob/master/EDP.ipynb\" target=\"_parent\"><img src=\"https://colab.research.google.com/assets/colab-badge.svg\" alt=\"Open In Colab\"/></a>"
      ]
    },
    {
      "cell_type": "code",
      "metadata": {
        "id": "HqxrQiO9CaFe",
        "colab_type": "code",
        "outputId": "9c806680-011b-4472-b0b8-74e03c6a80d2",
        "colab": {
          "base_uri": "https://localhost:8080/",
          "height": 51
        }
      },
      "source": [
        "import pandas as pd\n",
        "import numpy as np\n",
        "import seaborn as sns"
      ],
      "execution_count": 0,
      "outputs": [
        {
          "output_type": "stream",
          "text": [
            "/usr/local/lib/python3.6/dist-packages/statsmodels/tools/_testing.py:19: FutureWarning: pandas.util.testing is deprecated. Use the functions in the public API at pandas.testing instead.\n",
            "  import pandas.util.testing as tm\n"
          ],
          "name": "stderr"
        }
      ]
    },
    {
      "cell_type": "code",
      "metadata": {
        "id": "wKB32h6REFm6",
        "colab_type": "code",
        "colab": {}
      },
      "source": [
        "# code qui permet en cas de changement de chemin du repertoire root, pour eviter de retaper tout le chemin\n",
        "#fonction utilisée: concatenantion\n",
        "# code which allows when changing the path of the root directory, to avoid retyping all the way \ n",
        "data_dir = './edp_data/'\n",
        "mat_file = data_dir + 'matricules.xlsx'\n",
        "points_file = data_dir + 'PuntosRecarga.xlsx'\n",
        "provincia_file = data_dir + 'provincia_listado.xls'"
      ],
      "execution_count": 0,
      "outputs": []
    },
    {
      "cell_type": "code",
      "metadata": {
        "id": "9WVJmmoNDbfx",
        "colab_type": "code",
        "colab": {}
      },
      "source": [
        "mat_cols = ['Categoria_veh_elect', 'Año', 'Mercado', 'Marca', 'Modelo', 'Provincia', 'Canal']\n",
        "prov_cols = ['Autonomia', 'Superficie', 'PROVINCIA']\n",
        "\n",
        "df_matricules = pd.read_excel(mat_file,\n",
        "                              usecols=mat_cols)\n",
        "\n",
        "df_points = pd.read_excel(points_file)\n",
        "df_provincia = pd.read_excel(provincia_file,\n",
        "                             usecols=prov_cols)"
      ],
      "execution_count": 0,
      "outputs": []
    },
    {
      "cell_type": "code",
      "metadata": {
        "id": "-gbutmO1ENzU",
        "colab_type": "code",
        "outputId": "ad51440d-2f74-4fc5-99fa-5ded7ad691c8",
        "colab": {
          "base_uri": "https://localhost:8080/",
          "height": 731
        }
      },
      "source": [
        "df_matricules.info()"
      ],
      "execution_count": 0,
      "outputs": [
        {
          "output_type": "stream",
          "text": [
            "<class 'pandas.core.frame.DataFrame'>\n",
            "RangeIndex: 130 entries, 0 to 129\n",
            "Data columns (total 35 columns):\n",
            " #   Column               Non-Null Count  Dtype \n",
            "---  ------               --------------  ----- \n",
            " 0   Categoria_veh_elect  130 non-null    object\n",
            " 1   Año                  130 non-null    int64 \n",
            " 2   Mercado              130 non-null    object\n",
            " 3   Marca                130 non-null    object\n",
            " 4   Modelo               130 non-null    object\n",
            " 5   Provincia            130 non-null    object\n",
            " 6   Canal                130 non-null    object\n",
            " 7   EneroLY              130 non-null    int64 \n",
            " 8   FebreroLY            130 non-null    int64 \n",
            " 9   MarzoLY              130 non-null    int64 \n",
            " 10  AbrilLY              130 non-null    int64 \n",
            " 11  MayoLY               130 non-null    int64 \n",
            " 12  JunioLY              130 non-null    int64 \n",
            " 13  JulioLY              130 non-null    int64 \n",
            " 14  AgostoLY             130 non-null    int64 \n",
            " 15  SeptiembreLY         130 non-null    int64 \n",
            " 16  OctubreLY            130 non-null    int64 \n",
            " 17  NoviembreLY          130 non-null    int64 \n",
            " 18  DiciembreLY          130 non-null    int64 \n",
            " 19  Enero                130 non-null    int64 \n",
            " 20  Febrero              130 non-null    int64 \n",
            " 21  Marzo                130 non-null    int64 \n",
            " 22  Abril                130 non-null    int64 \n",
            " 23  Mayo                 130 non-null    int64 \n",
            " 24  Junio                130 non-null    int64 \n",
            " 25  Julio                130 non-null    int64 \n",
            " 26  Agosto               130 non-null    int64 \n",
            " 27  Septiembre           130 non-null    int64 \n",
            " 28  Octubre              130 non-null    int64 \n",
            " 29  Noviembre            130 non-null    int64 \n",
            " 30  Diciembre            130 non-null    int64 \n",
            " 31  Acum                 130 non-null    int64 \n",
            " 32  AcumLY               130 non-null    int64 \n",
            " 33  Mes                  130 non-null    int64 \n",
            " 34  MesLY                130 non-null    int64 \n",
            "dtypes: int64(29), object(6)\n",
            "memory usage: 35.7+ KB\n"
          ],
          "name": "stdout"
        }
      ]
    },
    {
      "cell_type": "code",
      "metadata": {
        "id": "tV4BM8P0NAvI",
        "colab_type": "code",
        "outputId": "02cc35b5-b049-4529-87f5-27bb395821ac",
        "colab": {
          "base_uri": "https://localhost:8080/",
          "height": 187
        }
      },
      "source": [
        "df_provincia.info()"
      ],
      "execution_count": 0,
      "outputs": [
        {
          "output_type": "stream",
          "text": [
            "<class 'pandas.core.frame.DataFrame'>\n",
            "RangeIndex: 52 entries, 0 to 51\n",
            "Data columns (total 3 columns):\n",
            " #   Column      Non-Null Count  Dtype  \n",
            "---  ------      --------------  -----  \n",
            " 0   PROVINCIA   52 non-null     object \n",
            " 1   Superficie  52 non-null     float64\n",
            " 2   Autonomia   52 non-null     object \n",
            "dtypes: float64(1), object(2)\n",
            "memory usage: 1.3+ KB\n"
          ],
          "name": "stdout"
        }
      ]
    },
    {
      "cell_type": "code",
      "metadata": {
        "id": "c0RP56wNZw6c",
        "colab_type": "code",
        "outputId": "cd63b5a8-86f7-4c2c-f450-803478a08773",
        "colab": {
          "base_uri": "https://localhost:8080/",
          "height": 323
        }
      },
      "source": [
        "df_points.info()"
      ],
      "execution_count": 0,
      "outputs": [
        {
          "output_type": "stream",
          "text": [
            "<class 'pandas.core.frame.DataFrame'>\n",
            "RangeIndex: 156 entries, 0 to 155\n",
            "Data columns (total 11 columns):\n",
            " #   Column              Non-Null Count  Dtype  \n",
            "---  ------              --------------  -----  \n",
            " 0   grupo               153 non-null    object \n",
            " 1   organizacion        153 non-null    object \n",
            " 2   SuperCPO            156 non-null    object \n",
            " 3   GrupoCargadoresCPO  156 non-null    object \n",
            " 4   region              156 non-null    object \n",
            " 5   zona                156 non-null    object \n",
            " 6   ubicacion           156 non-null    object \n",
            " 7   latitud             156 non-null    float64\n",
            " 8   longitud            156 non-null    float64\n",
            " 9   posteRecarga        156 non-null    object \n",
            " 10  toma                154 non-null    object \n",
            "dtypes: float64(2), object(9)\n",
            "memory usage: 13.5+ KB\n"
          ],
          "name": "stdout"
        }
      ]
    },
    {
      "cell_type": "code",
      "metadata": {
        "id": "A-PcCiNowWC3",
        "colab_type": "code",
        "outputId": "25e8f97e-19ea-47cd-df66-ffde6f94673e",
        "colab": {
          "base_uri": "https://localhost:8080/",
          "height": 68
        }
      },
      "source": [
        "df_matricules['Modelo'].unique()"
      ],
      "execution_count": 0,
      "outputs": [
        {
          "output_type": "execute_result",
          "data": {
            "text/plain": [
              "array(['E-GOLF 3P/5P', 'E-UP! 3P', 'NEO 5P', 'GOLF 1.4 GTE',\n",
              "       'PASSAT 1.4 GTE 4P (B6)', 'PASSAT VARIANT 1.4 GTE (B6)'],\n",
              "      dtype=object)"
            ]
          },
          "metadata": {
            "tags": []
          },
          "execution_count": 120
        }
      ]
    },
    {
      "cell_type": "code",
      "metadata": {
        "id": "XLk1-tmVZ6mV",
        "colab_type": "code",
        "outputId": "c5070647-2765-477d-9d1c-5c9174cbce25",
        "colab": {
          "base_uri": "https://localhost:8080/",
          "height": 68
        }
      },
      "source": [
        "#Normalisation des regions du fichier points\n",
        "df_points['region'] = df_points['region'].str.lower()\n",
        "df_points['region'] = df_points['region'].str.normalize('NFKD').str.encode('ascii', errors='ignore').str.decode('utf-8')\n",
        "df_points['region'].unique()"
      ],
      "execution_count": 0,
      "outputs": [
        {
          "output_type": "execute_result",
          "data": {
            "text/plain": [
              "array(['principado de asturias', 'pais vasco', 'comunidad valenciana',\n",
              "       'cantabria', 'castilla y leon', 'region de murcia', 'andalucia'],\n",
              "      dtype=object)"
            ]
          },
          "metadata": {
            "tags": []
          },
          "execution_count": 4
        }
      ]
    },
    {
      "cell_type": "code",
      "metadata": {
        "id": "VgURYJPbNhRJ",
        "colab_type": "code",
        "outputId": "e8263c7d-9046-458d-926b-0efaf1e6c9fa",
        "colab": {
          "base_uri": "https://localhost:8080/",
          "height": 119
        }
      },
      "source": [
        "#Normalisation des noms de provinces du fichier provincia_listado\n",
        "df_provincia['PROVINCIA'] = df_provincia['PROVINCIA'].str.lower()\n",
        "df_provincia['PROVINCIA'] = df_provincia['PROVINCIA'].str.normalize('NFKD').str.encode('ascii', errors='ignore').str.decode('utf-8')\n",
        "\n",
        "df_provincia['Autonomia'] = df_provincia['Autonomia'].str.lower()\n",
        "df_provincia['Autonomia'] = df_provincia['Autonomia'].str.normalize('NFKD').str.encode('ascii', errors='ignore').str.decode('utf-8')\n",
        "\n",
        "def match_region_name(reg_src, list_reg):\n",
        "  l_src = reg_src.split()\n",
        "\n",
        "  if len(l_src) == 1:\n",
        "    return reg_src\n",
        "\n",
        "  l = list(map(str.split, list_reg))\n",
        "  l = [i for i in l if len(i) > 1]\n",
        "  return ' '.join(next((s for s in l if set(l_src) == set(s)), reg_src.split()))\n",
        "\n",
        "df_provincia['Autonomia'] = df_provincia['Autonomia'].str.replace('\\(|\\)', '', regex=True)\n",
        "df_provincia['Autonomia'] = df_provincia['Autonomia'].apply(lambda x : match_region_name(x, df_points['region'].unique()))\n",
        "df_provincia['Autonomia'].unique()"
      ],
      "execution_count": 0,
      "outputs": [
        {
          "output_type": "execute_result",
          "data": {
            "text/plain": [
              "array(['pais vasco', 'castilla-la mancha', 'comunidad valenciana',\n",
              "       'andalucia', 'castilla y leon', 'extremadura', 'balears illes',\n",
              "       'cataluna', 'galicia', 'aragon', 'rioja la', 'madrid comunidad de',\n",
              "       'region de murcia', 'navarra comunidad foral de',\n",
              "       'principado de asturias', 'canarias', 'cantabria',\n",
              "       'ceuta ciudad de', 'melilla ciudad de'], dtype=object)"
            ]
          },
          "metadata": {
            "tags": []
          },
          "execution_count": 5
        }
      ]
    },
    {
      "cell_type": "code",
      "metadata": {
        "id": "tzyF0viNEPvT",
        "colab_type": "code",
        "outputId": "e018aa00-33b9-4abd-e1e8-ea20255b77a2",
        "colab": {
          "base_uri": "https://localhost:8080/",
          "height": 170
        }
      },
      "source": [
        "#Normalisation des noms des provinces du fichier matricules\n",
        "def replace_whole_str(sub, l):\n",
        "  return next((s for s in l if sub in s), sub)\n",
        "\n",
        "df_matricules['Provincia'] = df_matricules['Provincia'].apply(lambda x : x.strip().lower())\n",
        "df_matricules['Provincia'] = df_matricules['Provincia'].str.normalize('NFKD').str.encode('ascii', errors='ignore').str.decode('utf-8')\n",
        "df_matricules['Provincia'] = df_matricules['Provincia'].apply(lambda x : replace_whole_str(x, df_provincia['PROVINCIA'].unique()))\n",
        "df_matricules['Provincia'].unique()"
      ],
      "execution_count": 0,
      "outputs": [
        {
          "output_type": "execute_result",
          "data": {
            "text/plain": [
              "array(['araba/alava', 'sta. cruz tenerife', 'murcia', 'valladolid',\n",
              "       'huelva', 'alicante/alacant', 'castellon/castello', 'ciudad real',\n",
              "       'coruna (la)', 'gerona', 'guadalajara', 'huesca', 'madrid',\n",
              "       'navarra', 'palmas (las)', 'pontevedra', 'tarragona', 'zaragoza',\n",
              "       'albacete', 'almeria', 'badajoz', 'burgos', 'cantabria', 'cordoba',\n",
              "       'guipuzcoa', 'sevilla', 'barcelona', 'asturias', 'baleares',\n",
              "       'leon', 'salamanca', 'toledo', 'valencia/valencia', 'rioja (la)',\n",
              "       'malaga', 'vizcaya', 'granada', 'cadiz', 'lugo', 'jaen', 'lerida',\n",
              "       'orense'], dtype=object)"
            ]
          },
          "metadata": {
            "tags": []
          },
          "execution_count": 6
        }
      ]
    },
    {
      "cell_type": "code",
      "metadata": {
        "id": "PA5F9H2dqD1L",
        "colab_type": "code",
        "outputId": "9197070b-2fd7-46e5-8d4e-e51f4d958c28",
        "colab": {
          "base_uri": "https://localhost:8080/",
          "height": 204
        }
      },
      "source": [
        "df_provincia['PROVINCIA'].unique()"
      ],
      "execution_count": 0,
      "outputs": [
        {
          "output_type": "execute_result",
          "data": {
            "text/plain": [
              "array(['araba/alava', 'albacete', 'alicante/alacant', 'almeria', 'avila',\n",
              "       'badajoz', 'balears (illes)', 'barcelona', 'burgos', 'caceres',\n",
              "       'cadiz', 'castellon/castello', 'ciudad real', 'cordoba',\n",
              "       'coruna (a)', 'cuenca', 'girona', 'granada', 'guadalajara',\n",
              "       'gipuzkoa', 'huelva', 'huesca', 'jaen', 'leon', 'lleida',\n",
              "       'rioja (la)', 'lugo', 'madrid', 'malaga', 'murcia', 'navarra',\n",
              "       'ourense', 'asturias', 'palencia', 'palmas (las)', 'pontevedra',\n",
              "       'salamanca', 'santa cruz de tenerife', 'cantabria', 'segovia',\n",
              "       'sevilla', 'soria', 'tarragona', 'teruel', 'toledo',\n",
              "       'valencia/valencia', 'valladolid', 'bizkaia', 'zamora', 'zaragoza',\n",
              "       'ceuta', 'melilla'], dtype=object)"
            ]
          },
          "metadata": {
            "tags": []
          },
          "execution_count": 109
        }
      ]
    },
    {
      "cell_type": "code",
      "metadata": {
        "id": "HZOGrskXX0Ka",
        "colab_type": "code",
        "colab": {}
      },
      "source": [
        "#Jointure matricules et provinces\n",
        "df_merged_w_provincia= df_matricules.merge(df_provincia,\n",
        "                                left_on='Provincia',\n",
        "                                right_on='PROVINCIA')"
      ],
      "execution_count": 0,
      "outputs": []
    },
    {
      "cell_type": "code",
      "metadata": {
        "id": "iB4Csn9SYE1R",
        "colab_type": "code",
        "outputId": "926cbce9-1fe7-40db-ca5e-fbff52a09c90",
        "colab": {
          "base_uri": "https://localhost:8080/",
          "height": 204
        }
      },
      "source": [
        "df_merged_w_provincia.head()"
      ],
      "execution_count": 0,
      "outputs": [
        {
          "output_type": "execute_result",
          "data": {
            "text/html": [
              "<div>\n",
              "<style scoped>\n",
              "    .dataframe tbody tr th:only-of-type {\n",
              "        vertical-align: middle;\n",
              "    }\n",
              "\n",
              "    .dataframe tbody tr th {\n",
              "        vertical-align: top;\n",
              "    }\n",
              "\n",
              "    .dataframe thead th {\n",
              "        text-align: right;\n",
              "    }\n",
              "</style>\n",
              "<table border=\"1\" class=\"dataframe\">\n",
              "  <thead>\n",
              "    <tr style=\"text-align: right;\">\n",
              "      <th></th>\n",
              "      <th>Categoria_veh_elect</th>\n",
              "      <th>Año</th>\n",
              "      <th>Mercado</th>\n",
              "      <th>Marca</th>\n",
              "      <th>Modelo</th>\n",
              "      <th>Provincia</th>\n",
              "      <th>Canal</th>\n",
              "      <th>PROVINCIA</th>\n",
              "      <th>Superficie</th>\n",
              "      <th>Autonomia</th>\n",
              "    </tr>\n",
              "  </thead>\n",
              "  <tbody>\n",
              "    <tr>\n",
              "      <th>0</th>\n",
              "      <td>BEV</td>\n",
              "      <td>2018</td>\n",
              "      <td>Automoviles</td>\n",
              "      <td>VOLKSWAGEN</td>\n",
              "      <td>E-GOLF 3P/5P</td>\n",
              "      <td>araba/alava</td>\n",
              "      <td>Particular</td>\n",
              "      <td>araba/alava</td>\n",
              "      <td>3042.44</td>\n",
              "      <td>pais vasco</td>\n",
              "    </tr>\n",
              "    <tr>\n",
              "      <th>1</th>\n",
              "      <td>BEV</td>\n",
              "      <td>2019</td>\n",
              "      <td>Automoviles</td>\n",
              "      <td>VOLKSWAGEN</td>\n",
              "      <td>E-GOLF 3P/5P</td>\n",
              "      <td>araba/alava</td>\n",
              "      <td>Empresa</td>\n",
              "      <td>araba/alava</td>\n",
              "      <td>3042.44</td>\n",
              "      <td>pais vasco</td>\n",
              "    </tr>\n",
              "    <tr>\n",
              "      <th>2</th>\n",
              "      <td>PHEV</td>\n",
              "      <td>2019</td>\n",
              "      <td>Automoviles</td>\n",
              "      <td>VOLKSWAGEN</td>\n",
              "      <td>GOLF 1.4 GTE</td>\n",
              "      <td>araba/alava</td>\n",
              "      <td>Empresa</td>\n",
              "      <td>araba/alava</td>\n",
              "      <td>3042.44</td>\n",
              "      <td>pais vasco</td>\n",
              "    </tr>\n",
              "    <tr>\n",
              "      <th>3</th>\n",
              "      <td>BEV</td>\n",
              "      <td>2018</td>\n",
              "      <td>Automoviles</td>\n",
              "      <td>VOLKSWAGEN</td>\n",
              "      <td>E-UP! 3P</td>\n",
              "      <td>murcia</td>\n",
              "      <td>Particular</td>\n",
              "      <td>murcia</td>\n",
              "      <td>11313.88</td>\n",
              "      <td>region de murcia</td>\n",
              "    </tr>\n",
              "    <tr>\n",
              "      <th>4</th>\n",
              "      <td>BEV</td>\n",
              "      <td>2019</td>\n",
              "      <td>Automoviles</td>\n",
              "      <td>VOLKSWAGEN</td>\n",
              "      <td>E-GOLF 3P/5P</td>\n",
              "      <td>murcia</td>\n",
              "      <td>Empresa</td>\n",
              "      <td>murcia</td>\n",
              "      <td>11313.88</td>\n",
              "      <td>region de murcia</td>\n",
              "    </tr>\n",
              "  </tbody>\n",
              "</table>\n",
              "</div>"
            ],
            "text/plain": [
              "  Categoria_veh_elect   Año  ... Superficie         Autonomia\n",
              "0                 BEV  2018  ...    3042.44        pais vasco\n",
              "1                 BEV  2019  ...    3042.44        pais vasco\n",
              "2                PHEV  2019  ...    3042.44        pais vasco\n",
              "3                 BEV  2018  ...   11313.88  region de murcia\n",
              "4                 BEV  2019  ...   11313.88  region de murcia\n",
              "\n",
              "[5 rows x 10 columns]"
            ]
          },
          "metadata": {
            "tags": []
          },
          "execution_count": 112
        }
      ]
    },
    {
      "cell_type": "code",
      "metadata": {
        "id": "-iDGAonyZacm",
        "colab_type": "code",
        "colab": {}
      },
      "source": [
        "#Jointure avec les bornes EDP\n",
        "df_merged_w_points = df_merged_w_provincia.merge(df_points,\n",
        "                                                 how='left',\n",
        "                                                 left_on='Autonomia',\n",
        "                                                 right_on='region')"
      ],
      "execution_count": 0,
      "outputs": []
    },
    {
      "cell_type": "code",
      "metadata": {
        "id": "g9105lFoo7Ie",
        "colab_type": "code",
        "outputId": "0fd1001f-68b2-4627-d766-c105ef0ed6c5",
        "colab": {
          "base_uri": "https://localhost:8080/",
          "height": 360
        }
      },
      "source": [
        "#Df n'ayant pas de bornes dans la même regions que les voitures\n",
        "df_merged_w_points[df_merged_w_points['zona'].isnull()].head()"
      ],
      "execution_count": 0,
      "outputs": [
        {
          "output_type": "execute_result",
          "data": {
            "text/html": [
              "<div>\n",
              "<style scoped>\n",
              "    .dataframe tbody tr th:only-of-type {\n",
              "        vertical-align: middle;\n",
              "    }\n",
              "\n",
              "    .dataframe tbody tr th {\n",
              "        vertical-align: top;\n",
              "    }\n",
              "\n",
              "    .dataframe thead th {\n",
              "        text-align: right;\n",
              "    }\n",
              "</style>\n",
              "<table border=\"1\" class=\"dataframe\">\n",
              "  <thead>\n",
              "    <tr style=\"text-align: right;\">\n",
              "      <th></th>\n",
              "      <th>Categoria_veh_elect</th>\n",
              "      <th>Año</th>\n",
              "      <th>Mercado</th>\n",
              "      <th>Marca</th>\n",
              "      <th>Modelo</th>\n",
              "      <th>Provincia</th>\n",
              "      <th>Canal</th>\n",
              "      <th>PROVINCIA</th>\n",
              "      <th>Superficie</th>\n",
              "      <th>Autonomia</th>\n",
              "      <th>grupo</th>\n",
              "      <th>organizacion</th>\n",
              "      <th>SuperCPO</th>\n",
              "      <th>GrupoCargadoresCPO</th>\n",
              "      <th>region</th>\n",
              "      <th>zona</th>\n",
              "      <th>ubicacion</th>\n",
              "      <th>latitud</th>\n",
              "      <th>longitud</th>\n",
              "      <th>posteRecarga</th>\n",
              "      <th>toma</th>\n",
              "    </tr>\n",
              "  </thead>\n",
              "  <tbody>\n",
              "    <tr>\n",
              "      <th>87</th>\n",
              "      <td>BEV</td>\n",
              "      <td>2019</td>\n",
              "      <td>Automoviles</td>\n",
              "      <td>VOLKSWAGEN</td>\n",
              "      <td>E-GOLF 3P/5P</td>\n",
              "      <td>ciudad real</td>\n",
              "      <td>Empresa</td>\n",
              "      <td>ciudad real</td>\n",
              "      <td>19662.78</td>\n",
              "      <td>castilla-la mancha</td>\n",
              "      <td>NaN</td>\n",
              "      <td>NaN</td>\n",
              "      <td>NaN</td>\n",
              "      <td>NaN</td>\n",
              "      <td>NaN</td>\n",
              "      <td>NaN</td>\n",
              "      <td>NaN</td>\n",
              "      <td>NaN</td>\n",
              "      <td>NaN</td>\n",
              "      <td>NaN</td>\n",
              "      <td>NaN</td>\n",
              "    </tr>\n",
              "    <tr>\n",
              "      <th>88</th>\n",
              "      <td>BEV</td>\n",
              "      <td>2019</td>\n",
              "      <td>Automoviles</td>\n",
              "      <td>VOLKSWAGEN</td>\n",
              "      <td>E-GOLF 3P/5P</td>\n",
              "      <td>guadalajara</td>\n",
              "      <td>Particular</td>\n",
              "      <td>guadalajara</td>\n",
              "      <td>12208.62</td>\n",
              "      <td>castilla-la mancha</td>\n",
              "      <td>NaN</td>\n",
              "      <td>NaN</td>\n",
              "      <td>NaN</td>\n",
              "      <td>NaN</td>\n",
              "      <td>NaN</td>\n",
              "      <td>NaN</td>\n",
              "      <td>NaN</td>\n",
              "      <td>NaN</td>\n",
              "      <td>NaN</td>\n",
              "      <td>NaN</td>\n",
              "      <td>NaN</td>\n",
              "    </tr>\n",
              "    <tr>\n",
              "      <th>89</th>\n",
              "      <td>PHEV</td>\n",
              "      <td>2018</td>\n",
              "      <td>Automoviles</td>\n",
              "      <td>VOLKSWAGEN</td>\n",
              "      <td>PASSAT VARIANT 1.4 GTE (B6)</td>\n",
              "      <td>guadalajara</td>\n",
              "      <td>Particular</td>\n",
              "      <td>guadalajara</td>\n",
              "      <td>12208.62</td>\n",
              "      <td>castilla-la mancha</td>\n",
              "      <td>NaN</td>\n",
              "      <td>NaN</td>\n",
              "      <td>NaN</td>\n",
              "      <td>NaN</td>\n",
              "      <td>NaN</td>\n",
              "      <td>NaN</td>\n",
              "      <td>NaN</td>\n",
              "      <td>NaN</td>\n",
              "      <td>NaN</td>\n",
              "      <td>NaN</td>\n",
              "      <td>NaN</td>\n",
              "    </tr>\n",
              "    <tr>\n",
              "      <th>90</th>\n",
              "      <td>PHEV</td>\n",
              "      <td>2018</td>\n",
              "      <td>Automoviles</td>\n",
              "      <td>VOLKSWAGEN</td>\n",
              "      <td>PASSAT 1.4 GTE 4P (B6)</td>\n",
              "      <td>guadalajara</td>\n",
              "      <td>Empresa</td>\n",
              "      <td>guadalajara</td>\n",
              "      <td>12208.62</td>\n",
              "      <td>castilla-la mancha</td>\n",
              "      <td>NaN</td>\n",
              "      <td>NaN</td>\n",
              "      <td>NaN</td>\n",
              "      <td>NaN</td>\n",
              "      <td>NaN</td>\n",
              "      <td>NaN</td>\n",
              "      <td>NaN</td>\n",
              "      <td>NaN</td>\n",
              "      <td>NaN</td>\n",
              "      <td>NaN</td>\n",
              "      <td>NaN</td>\n",
              "    </tr>\n",
              "    <tr>\n",
              "      <th>91</th>\n",
              "      <td>BEV</td>\n",
              "      <td>2019</td>\n",
              "      <td>Automoviles</td>\n",
              "      <td>VOLKSWAGEN</td>\n",
              "      <td>E-GOLF 3P/5P</td>\n",
              "      <td>huesca</td>\n",
              "      <td>Empresa</td>\n",
              "      <td>huesca</td>\n",
              "      <td>15636.50</td>\n",
              "      <td>aragon</td>\n",
              "      <td>NaN</td>\n",
              "      <td>NaN</td>\n",
              "      <td>NaN</td>\n",
              "      <td>NaN</td>\n",
              "      <td>NaN</td>\n",
              "      <td>NaN</td>\n",
              "      <td>NaN</td>\n",
              "      <td>NaN</td>\n",
              "      <td>NaN</td>\n",
              "      <td>NaN</td>\n",
              "      <td>NaN</td>\n",
              "    </tr>\n",
              "  </tbody>\n",
              "</table>\n",
              "</div>"
            ],
            "text/plain": [
              "   Categoria_veh_elect   Año      Mercado  ... longitud posteRecarga toma\n",
              "87                 BEV  2019  Automoviles  ...      NaN          NaN  NaN\n",
              "88                 BEV  2019  Automoviles  ...      NaN          NaN  NaN\n",
              "89                PHEV  2018  Automoviles  ...      NaN          NaN  NaN\n",
              "90                PHEV  2018  Automoviles  ...      NaN          NaN  NaN\n",
              "91                 BEV  2019  Automoviles  ...      NaN          NaN  NaN\n",
              "\n",
              "[5 rows x 21 columns]"
            ]
          },
          "metadata": {
            "tags": []
          },
          "execution_count": 118
        }
      ]
    },
    {
      "cell_type": "code",
      "metadata": {
        "id": "5i--E2ApsaJk",
        "colab_type": "code",
        "outputId": "54d9f571-d0e5-48ff-e37c-bdba924bc324",
        "colab": {
          "base_uri": "https://localhost:8080/",
          "height": 445
        }
      },
      "source": [
        "#Df bornes présentes dans la même région que les voitures\n",
        "df_merged_w_points[df_merged_w_points['zona'].notnull()].head()"
      ],
      "execution_count": 0,
      "outputs": [
        {
          "output_type": "execute_result",
          "data": {
            "text/html": [
              "<div>\n",
              "<style scoped>\n",
              "    .dataframe tbody tr th:only-of-type {\n",
              "        vertical-align: middle;\n",
              "    }\n",
              "\n",
              "    .dataframe tbody tr th {\n",
              "        vertical-align: top;\n",
              "    }\n",
              "\n",
              "    .dataframe thead th {\n",
              "        text-align: right;\n",
              "    }\n",
              "</style>\n",
              "<table border=\"1\" class=\"dataframe\">\n",
              "  <thead>\n",
              "    <tr style=\"text-align: right;\">\n",
              "      <th></th>\n",
              "      <th>Categoria_veh_elect</th>\n",
              "      <th>Año</th>\n",
              "      <th>Mercado</th>\n",
              "      <th>Marca</th>\n",
              "      <th>Modelo</th>\n",
              "      <th>Provincia</th>\n",
              "      <th>Canal</th>\n",
              "      <th>PROVINCIA</th>\n",
              "      <th>Superficie</th>\n",
              "      <th>Autonomia</th>\n",
              "      <th>grupo</th>\n",
              "      <th>organizacion</th>\n",
              "      <th>SuperCPO</th>\n",
              "      <th>GrupoCargadoresCPO</th>\n",
              "      <th>region</th>\n",
              "      <th>zona</th>\n",
              "      <th>ubicacion</th>\n",
              "      <th>latitud</th>\n",
              "      <th>longitud</th>\n",
              "      <th>posteRecarga</th>\n",
              "      <th>toma</th>\n",
              "    </tr>\n",
              "  </thead>\n",
              "  <tbody>\n",
              "    <tr>\n",
              "      <th>0</th>\n",
              "      <td>BEV</td>\n",
              "      <td>2018</td>\n",
              "      <td>Automoviles</td>\n",
              "      <td>VOLKSWAGEN</td>\n",
              "      <td>E-GOLF 3P/5P</td>\n",
              "      <td>araba/alava</td>\n",
              "      <td>Particular</td>\n",
              "      <td>araba/alava</td>\n",
              "      <td>3042.44</td>\n",
              "      <td>pais vasco</td>\n",
              "      <td>Edp Moveon</td>\n",
              "      <td>EDP</td>\n",
              "      <td>EDP moveon</td>\n",
              "      <td>EDP Moveon</td>\n",
              "      <td>pais vasco</td>\n",
              "      <td>Vitoria</td>\n",
              "      <td>País Vasco</td>\n",
              "      <td>42.860120</td>\n",
              "      <td>-2.703290</td>\n",
              "      <td>Vitorialanda</td>\n",
              "      <td>CCS Combo 2 Plug (Cable Attached)</td>\n",
              "    </tr>\n",
              "    <tr>\n",
              "      <th>1</th>\n",
              "      <td>BEV</td>\n",
              "      <td>2018</td>\n",
              "      <td>Automoviles</td>\n",
              "      <td>VOLKSWAGEN</td>\n",
              "      <td>E-GOLF 3P/5P</td>\n",
              "      <td>araba/alava</td>\n",
              "      <td>Particular</td>\n",
              "      <td>araba/alava</td>\n",
              "      <td>3042.44</td>\n",
              "      <td>pais vasco</td>\n",
              "      <td>Edp Moveon</td>\n",
              "      <td>EDP</td>\n",
              "      <td>EDP moveon</td>\n",
              "      <td>EDP Moveon</td>\n",
              "      <td>pais vasco</td>\n",
              "      <td>Vitoria</td>\n",
              "      <td>País Vasco</td>\n",
              "      <td>42.860120</td>\n",
              "      <td>-2.703290</td>\n",
              "      <td>Vitorialanda</td>\n",
              "      <td>CHAdeMO</td>\n",
              "    </tr>\n",
              "    <tr>\n",
              "      <th>2</th>\n",
              "      <td>BEV</td>\n",
              "      <td>2018</td>\n",
              "      <td>Automoviles</td>\n",
              "      <td>VOLKSWAGEN</td>\n",
              "      <td>E-GOLF 3P/5P</td>\n",
              "      <td>araba/alava</td>\n",
              "      <td>Particular</td>\n",
              "      <td>araba/alava</td>\n",
              "      <td>3042.44</td>\n",
              "      <td>pais vasco</td>\n",
              "      <td>Edp Moveon</td>\n",
              "      <td>EDP</td>\n",
              "      <td>EDP moveon</td>\n",
              "      <td>EDP Moveon</td>\n",
              "      <td>pais vasco</td>\n",
              "      <td>Vitoria</td>\n",
              "      <td>País Vasco</td>\n",
              "      <td>42.860120</td>\n",
              "      <td>-2.703290</td>\n",
              "      <td>Vitorialanda</td>\n",
              "      <td>Type 2 Connector (Cable Attached)</td>\n",
              "    </tr>\n",
              "    <tr>\n",
              "      <th>3</th>\n",
              "      <td>BEV</td>\n",
              "      <td>2018</td>\n",
              "      <td>Automoviles</td>\n",
              "      <td>VOLKSWAGEN</td>\n",
              "      <td>E-GOLF 3P/5P</td>\n",
              "      <td>araba/alava</td>\n",
              "      <td>Particular</td>\n",
              "      <td>araba/alava</td>\n",
              "      <td>3042.44</td>\n",
              "      <td>pais vasco</td>\n",
              "      <td>EDP Mantenimiento</td>\n",
              "      <td>Mantenimiento</td>\n",
              "      <td>EDP moveon</td>\n",
              "      <td>EDP Moveon</td>\n",
              "      <td>pais vasco</td>\n",
              "      <td>Bergara</td>\n",
              "      <td>País Vasco</td>\n",
              "      <td>43.107969</td>\n",
              "      <td>-2.406641</td>\n",
              "      <td>Avia - Bergara</td>\n",
              "      <td>CHAdeMO</td>\n",
              "    </tr>\n",
              "    <tr>\n",
              "      <th>4</th>\n",
              "      <td>BEV</td>\n",
              "      <td>2018</td>\n",
              "      <td>Automoviles</td>\n",
              "      <td>VOLKSWAGEN</td>\n",
              "      <td>E-GOLF 3P/5P</td>\n",
              "      <td>araba/alava</td>\n",
              "      <td>Particular</td>\n",
              "      <td>araba/alava</td>\n",
              "      <td>3042.44</td>\n",
              "      <td>pais vasco</td>\n",
              "      <td>ISASTUR</td>\n",
              "      <td>Mantenimiento</td>\n",
              "      <td>EDP moveon</td>\n",
              "      <td>EDP Moveon</td>\n",
              "      <td>pais vasco</td>\n",
              "      <td>Murguía</td>\n",
              "      <td>País Vasco</td>\n",
              "      <td>42.961774</td>\n",
              "      <td>-2.827486</td>\n",
              "      <td>Murguía</td>\n",
              "      <td>CHAdeMO</td>\n",
              "    </tr>\n",
              "  </tbody>\n",
              "</table>\n",
              "</div>"
            ],
            "text/plain": [
              "  Categoria_veh_elect   Año  ...    posteRecarga                               toma\n",
              "0                 BEV  2018  ...    Vitorialanda  CCS Combo 2 Plug (Cable Attached)\n",
              "1                 BEV  2018  ...    Vitorialanda                            CHAdeMO\n",
              "2                 BEV  2018  ...    Vitorialanda  Type 2 Connector (Cable Attached)\n",
              "3                 BEV  2018  ...  Avia - Bergara                            CHAdeMO\n",
              "4                 BEV  2018  ...         Murguía                            CHAdeMO\n",
              "\n",
              "[5 rows x 21 columns]"
            ]
          },
          "metadata": {
            "tags": []
          },
          "execution_count": 119
        }
      ]
    },
    {
      "cell_type": "markdown",
      "metadata": {
        "id": "49yqm1to8ZSx",
        "colab_type": "text"
      },
      "source": [
        "# Premier jet"
      ]
    },
    {
      "cell_type": "code",
      "metadata": {
        "id": "b1c7PJCk0pkv",
        "colab_type": "code",
        "outputId": "961ea07a-9fde-4e8e-e8fa-77b56236ab9c",
        "colab": {
          "base_uri": "https://localhost:8080/",
          "height": 266
        }
      },
      "source": [
        "#Nombre de bornes par region\n",
        "df_point_per_region = df_points['region'].value_counts().rename_axis('region').reset_index(name='count_point')\n",
        "df_point_per_region"
      ],
      "execution_count": 0,
      "outputs": [
        {
          "output_type": "execute_result",
          "data": {
            "text/html": [
              "<div>\n",
              "<style scoped>\n",
              "    .dataframe tbody tr th:only-of-type {\n",
              "        vertical-align: middle;\n",
              "    }\n",
              "\n",
              "    .dataframe tbody tr th {\n",
              "        vertical-align: top;\n",
              "    }\n",
              "\n",
              "    .dataframe thead th {\n",
              "        text-align: right;\n",
              "    }\n",
              "</style>\n",
              "<table border=\"1\" class=\"dataframe\">\n",
              "  <thead>\n",
              "    <tr style=\"text-align: right;\">\n",
              "      <th></th>\n",
              "      <th>region</th>\n",
              "      <th>count_point</th>\n",
              "    </tr>\n",
              "  </thead>\n",
              "  <tbody>\n",
              "    <tr>\n",
              "      <th>0</th>\n",
              "      <td>principado de asturias</td>\n",
              "      <td>124</td>\n",
              "    </tr>\n",
              "    <tr>\n",
              "      <th>1</th>\n",
              "      <td>comunidad valenciana</td>\n",
              "      <td>10</td>\n",
              "    </tr>\n",
              "    <tr>\n",
              "      <th>2</th>\n",
              "      <td>pais vasco</td>\n",
              "      <td>7</td>\n",
              "    </tr>\n",
              "    <tr>\n",
              "      <th>3</th>\n",
              "      <td>cantabria</td>\n",
              "      <td>5</td>\n",
              "    </tr>\n",
              "    <tr>\n",
              "      <th>4</th>\n",
              "      <td>andalucia</td>\n",
              "      <td>4</td>\n",
              "    </tr>\n",
              "    <tr>\n",
              "      <th>5</th>\n",
              "      <td>castilla y leon</td>\n",
              "      <td>4</td>\n",
              "    </tr>\n",
              "    <tr>\n",
              "      <th>6</th>\n",
              "      <td>region de murcia</td>\n",
              "      <td>2</td>\n",
              "    </tr>\n",
              "  </tbody>\n",
              "</table>\n",
              "</div>"
            ],
            "text/plain": [
              "                   region  count_point\n",
              "0  principado de asturias          124\n",
              "1    comunidad valenciana           10\n",
              "2              pais vasco            7\n",
              "3               cantabria            5\n",
              "4               andalucia            4\n",
              "5         castilla y leon            4\n",
              "6        region de murcia            2"
            ]
          },
          "metadata": {
            "tags": []
          },
          "execution_count": 9
        }
      ]
    },
    {
      "cell_type": "code",
      "metadata": {
        "id": "BcAx-n2R1rIY",
        "colab_type": "code",
        "outputId": "1ba720c8-ab12-45b1-9b19-8eefa5cae7bb",
        "colab": {
          "base_uri": "https://localhost:8080/",
          "height": 545
        }
      },
      "source": [
        "#Nb matricule par region\n",
        "df_veh_per_region = df_merged_w_provincia.groupby('Autonomia').agg({'Categoria_veh_elect': 'count'}).reset_index()\n",
        "df_veh_per_region"
      ],
      "execution_count": 0,
      "outputs": [
        {
          "output_type": "execute_result",
          "data": {
            "text/html": [
              "<div>\n",
              "<style scoped>\n",
              "    .dataframe tbody tr th:only-of-type {\n",
              "        vertical-align: middle;\n",
              "    }\n",
              "\n",
              "    .dataframe tbody tr th {\n",
              "        vertical-align: top;\n",
              "    }\n",
              "\n",
              "    .dataframe thead th {\n",
              "        text-align: right;\n",
              "    }\n",
              "</style>\n",
              "<table border=\"1\" class=\"dataframe\">\n",
              "  <thead>\n",
              "    <tr style=\"text-align: right;\">\n",
              "      <th></th>\n",
              "      <th>Autonomia</th>\n",
              "      <th>Categoria_veh_elect</th>\n",
              "    </tr>\n",
              "  </thead>\n",
              "  <tbody>\n",
              "    <tr>\n",
              "      <th>0</th>\n",
              "      <td>andalucia</td>\n",
              "      <td>21</td>\n",
              "    </tr>\n",
              "    <tr>\n",
              "      <th>1</th>\n",
              "      <td>aragon</td>\n",
              "      <td>5</td>\n",
              "    </tr>\n",
              "    <tr>\n",
              "      <th>2</th>\n",
              "      <td>canarias</td>\n",
              "      <td>6</td>\n",
              "    </tr>\n",
              "    <tr>\n",
              "      <th>3</th>\n",
              "      <td>cantabria</td>\n",
              "      <td>1</td>\n",
              "    </tr>\n",
              "    <tr>\n",
              "      <th>4</th>\n",
              "      <td>castilla y leon</td>\n",
              "      <td>7</td>\n",
              "    </tr>\n",
              "    <tr>\n",
              "      <th>5</th>\n",
              "      <td>castilla-la mancha</td>\n",
              "      <td>6</td>\n",
              "    </tr>\n",
              "    <tr>\n",
              "      <th>6</th>\n",
              "      <td>cataluna</td>\n",
              "      <td>13</td>\n",
              "    </tr>\n",
              "    <tr>\n",
              "      <th>7</th>\n",
              "      <td>comunidad valenciana</td>\n",
              "      <td>10</td>\n",
              "    </tr>\n",
              "    <tr>\n",
              "      <th>8</th>\n",
              "      <td>extremadura</td>\n",
              "      <td>1</td>\n",
              "    </tr>\n",
              "    <tr>\n",
              "      <th>9</th>\n",
              "      <td>galicia</td>\n",
              "      <td>4</td>\n",
              "    </tr>\n",
              "    <tr>\n",
              "      <th>10</th>\n",
              "      <td>madrid comunidad de</td>\n",
              "      <td>11</td>\n",
              "    </tr>\n",
              "    <tr>\n",
              "      <th>11</th>\n",
              "      <td>navarra comunidad foral de</td>\n",
              "      <td>3</td>\n",
              "    </tr>\n",
              "    <tr>\n",
              "      <th>12</th>\n",
              "      <td>pais vasco</td>\n",
              "      <td>3</td>\n",
              "    </tr>\n",
              "    <tr>\n",
              "      <th>13</th>\n",
              "      <td>principado de asturias</td>\n",
              "      <td>5</td>\n",
              "    </tr>\n",
              "    <tr>\n",
              "      <th>14</th>\n",
              "      <td>region de murcia</td>\n",
              "      <td>5</td>\n",
              "    </tr>\n",
              "    <tr>\n",
              "      <th>15</th>\n",
              "      <td>rioja la</td>\n",
              "      <td>3</td>\n",
              "    </tr>\n",
              "  </tbody>\n",
              "</table>\n",
              "</div>"
            ],
            "text/plain": [
              "                     Autonomia  Categoria_veh_elect\n",
              "0                    andalucia                   21\n",
              "1                       aragon                    5\n",
              "2                     canarias                    6\n",
              "3                    cantabria                    1\n",
              "4              castilla y leon                    7\n",
              "5           castilla-la mancha                    6\n",
              "6                     cataluna                   13\n",
              "7         comunidad valenciana                   10\n",
              "8                  extremadura                    1\n",
              "9                      galicia                    4\n",
              "10         madrid comunidad de                   11\n",
              "11  navarra comunidad foral de                    3\n",
              "12                  pais vasco                    3\n",
              "13      principado de asturias                    5\n",
              "14            region de murcia                    5\n",
              "15                    rioja la                    3"
            ]
          },
          "metadata": {
            "tags": []
          },
          "execution_count": 10
        }
      ]
    },
    {
      "cell_type": "code",
      "metadata": {
        "id": "99aro8nw9Pia",
        "colab_type": "code",
        "outputId": "895269c0-76c8-4279-fdf2-fa59ea38e361",
        "colab": {
          "base_uri": "https://localhost:8080/",
          "height": 638
        }
      },
      "source": [
        "#Par region, nombre de bornes et voiture (Left Join)\n",
        "df_merged = df_provincia.merge(df_point_per_region, how='left', left_on='Autonomia', right_on='region')\\\n",
        "                        .merge(df_veh_per_region, how='left', on='Autonomia')\n",
        "df_merged = df_merged[['Autonomia', 'count_point', 'Categoria_veh_elect']].drop_duplicates().fillna(0)\n",
        "df_merged.rename(columns={'Categoria_veh_elect': 'count_veh'}, inplace=True)\n",
        "df_merged"
      ],
      "execution_count": 0,
      "outputs": [
        {
          "output_type": "execute_result",
          "data": {
            "text/html": [
              "<div>\n",
              "<style scoped>\n",
              "    .dataframe tbody tr th:only-of-type {\n",
              "        vertical-align: middle;\n",
              "    }\n",
              "\n",
              "    .dataframe tbody tr th {\n",
              "        vertical-align: top;\n",
              "    }\n",
              "\n",
              "    .dataframe thead th {\n",
              "        text-align: right;\n",
              "    }\n",
              "</style>\n",
              "<table border=\"1\" class=\"dataframe\">\n",
              "  <thead>\n",
              "    <tr style=\"text-align: right;\">\n",
              "      <th></th>\n",
              "      <th>Autonomia</th>\n",
              "      <th>count_point</th>\n",
              "      <th>count_veh</th>\n",
              "    </tr>\n",
              "  </thead>\n",
              "  <tbody>\n",
              "    <tr>\n",
              "      <th>0</th>\n",
              "      <td>pais vasco</td>\n",
              "      <td>7.0</td>\n",
              "      <td>3.0</td>\n",
              "    </tr>\n",
              "    <tr>\n",
              "      <th>1</th>\n",
              "      <td>castilla-la mancha</td>\n",
              "      <td>0.0</td>\n",
              "      <td>6.0</td>\n",
              "    </tr>\n",
              "    <tr>\n",
              "      <th>2</th>\n",
              "      <td>comunidad valenciana</td>\n",
              "      <td>10.0</td>\n",
              "      <td>10.0</td>\n",
              "    </tr>\n",
              "    <tr>\n",
              "      <th>3</th>\n",
              "      <td>andalucia</td>\n",
              "      <td>4.0</td>\n",
              "      <td>21.0</td>\n",
              "    </tr>\n",
              "    <tr>\n",
              "      <th>4</th>\n",
              "      <td>castilla y leon</td>\n",
              "      <td>4.0</td>\n",
              "      <td>7.0</td>\n",
              "    </tr>\n",
              "    <tr>\n",
              "      <th>5</th>\n",
              "      <td>extremadura</td>\n",
              "      <td>0.0</td>\n",
              "      <td>1.0</td>\n",
              "    </tr>\n",
              "    <tr>\n",
              "      <th>6</th>\n",
              "      <td>balears illes</td>\n",
              "      <td>0.0</td>\n",
              "      <td>0.0</td>\n",
              "    </tr>\n",
              "    <tr>\n",
              "      <th>7</th>\n",
              "      <td>cataluna</td>\n",
              "      <td>0.0</td>\n",
              "      <td>13.0</td>\n",
              "    </tr>\n",
              "    <tr>\n",
              "      <th>14</th>\n",
              "      <td>galicia</td>\n",
              "      <td>0.0</td>\n",
              "      <td>4.0</td>\n",
              "    </tr>\n",
              "    <tr>\n",
              "      <th>21</th>\n",
              "      <td>aragon</td>\n",
              "      <td>0.0</td>\n",
              "      <td>5.0</td>\n",
              "    </tr>\n",
              "    <tr>\n",
              "      <th>25</th>\n",
              "      <td>rioja la</td>\n",
              "      <td>0.0</td>\n",
              "      <td>3.0</td>\n",
              "    </tr>\n",
              "    <tr>\n",
              "      <th>27</th>\n",
              "      <td>madrid comunidad de</td>\n",
              "      <td>0.0</td>\n",
              "      <td>11.0</td>\n",
              "    </tr>\n",
              "    <tr>\n",
              "      <th>29</th>\n",
              "      <td>region de murcia</td>\n",
              "      <td>2.0</td>\n",
              "      <td>5.0</td>\n",
              "    </tr>\n",
              "    <tr>\n",
              "      <th>30</th>\n",
              "      <td>navarra comunidad foral de</td>\n",
              "      <td>0.0</td>\n",
              "      <td>3.0</td>\n",
              "    </tr>\n",
              "    <tr>\n",
              "      <th>32</th>\n",
              "      <td>principado de asturias</td>\n",
              "      <td>124.0</td>\n",
              "      <td>5.0</td>\n",
              "    </tr>\n",
              "    <tr>\n",
              "      <th>34</th>\n",
              "      <td>canarias</td>\n",
              "      <td>0.0</td>\n",
              "      <td>6.0</td>\n",
              "    </tr>\n",
              "    <tr>\n",
              "      <th>38</th>\n",
              "      <td>cantabria</td>\n",
              "      <td>5.0</td>\n",
              "      <td>1.0</td>\n",
              "    </tr>\n",
              "    <tr>\n",
              "      <th>50</th>\n",
              "      <td>ceuta ciudad de</td>\n",
              "      <td>0.0</td>\n",
              "      <td>0.0</td>\n",
              "    </tr>\n",
              "    <tr>\n",
              "      <th>51</th>\n",
              "      <td>melilla ciudad de</td>\n",
              "      <td>0.0</td>\n",
              "      <td>0.0</td>\n",
              "    </tr>\n",
              "  </tbody>\n",
              "</table>\n",
              "</div>"
            ],
            "text/plain": [
              "                     Autonomia  count_point  count_veh\n",
              "0                   pais vasco          7.0        3.0\n",
              "1           castilla-la mancha          0.0        6.0\n",
              "2         comunidad valenciana         10.0       10.0\n",
              "3                    andalucia          4.0       21.0\n",
              "4              castilla y leon          4.0        7.0\n",
              "5                  extremadura          0.0        1.0\n",
              "6                balears illes          0.0        0.0\n",
              "7                     cataluna          0.0       13.0\n",
              "14                     galicia          0.0        4.0\n",
              "21                      aragon          0.0        5.0\n",
              "25                    rioja la          0.0        3.0\n",
              "27         madrid comunidad de          0.0       11.0\n",
              "29            region de murcia          2.0        5.0\n",
              "30  navarra comunidad foral de          0.0        3.0\n",
              "32      principado de asturias        124.0        5.0\n",
              "34                    canarias          0.0        6.0\n",
              "38                   cantabria          5.0        1.0\n",
              "50             ceuta ciudad de          0.0        0.0\n",
              "51           melilla ciudad de          0.0        0.0"
            ]
          },
          "metadata": {
            "tags": []
          },
          "execution_count": 38
        }
      ]
    },
    {
      "cell_type": "code",
      "metadata": {
        "id": "W1M8duDx5xNC",
        "colab_type": "code",
        "outputId": "c8a5a85d-eb30-40d6-dc64-f77527fb8a54",
        "colab": {
          "base_uri": "https://localhost:8080/",
          "height": 802
        }
      },
      "source": [
        "import matplotlib.pyplot as plt\n",
        "\n",
        "#Plot du nombre de bornes par region\n",
        "fig, ax = plt.subplots(figsize=(20, 10))\n",
        "sns.barplot(x='Autonomia', y='count_point', data=df_merged.sort_values(by='count_point'))\n",
        "plt.xticks(rotation=75, fontsize=15)\n",
        "plt.yticks(fontsize=15)\n",
        "plt.ylabel('Nombre de bornes')\n",
        "plt.xlabel('Autonomie')\n",
        "\n",
        "for text in fig.texts:\n",
        "  text.set_visible(False)"
      ],
      "execution_count": 0,
      "outputs": [
        {
          "output_type": "display_data",
          "data": {
            "image/png": "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\n",
            "text/plain": [
              "<Figure size 1440x720 with 1 Axes>"
            ]
          },
          "metadata": {
            "tags": [],
            "needs_background": "light"
          }
        }
      ]
    },
    {
      "cell_type": "code",
      "metadata": {
        "id": "mJV3uKD3Zk7M",
        "colab_type": "code",
        "outputId": "2a04549e-7910-49f1-8421-f9eead61ed83",
        "colab": {
          "base_uri": "https://localhost:8080/",
          "height": 802
        }
      },
      "source": [
        "#Plot du nombre de vehicules par region\n",
        "\n",
        "fig, ax = plt.subplots(figsize=(20, 10))\n",
        "sns.barplot(x='Autonomia', y='count_veh', data=df_merged.sort_values(by='count_veh'))\n",
        "plt.xticks(rotation=75, fontsize=15)\n",
        "plt.yticks(fontsize=15)\n",
        "plt.ylabel('Nombre de vehicule')\n",
        "plt.xlabel('Autonomie')\n",
        "\n",
        "for text in fig.texts:\n",
        "  text.set_visible(False)"
      ],
      "execution_count": 0,
      "outputs": [
        {
          "output_type": "display_data",
          "data": {
            "image/png": "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\n",
            "text/plain": [
              "<Figure size 1440x720 with 1 Axes>"
            ]
          },
          "metadata": {
            "tags": [],
            "needs_background": "light"
          }
        }
      ]
    },
    {
      "cell_type": "code",
      "metadata": {
        "id": "9bFjAsjwIqAe",
        "colab_type": "code",
        "outputId": "168ba01e-f954-493f-d55f-dbb6f601fbd0",
        "colab": {
          "base_uri": "https://localhost:8080/",
          "height": 692
        }
      },
      "source": [
        "#One-Hot Encoding\n",
        "df_merged_dummy = pd.concat([pd.get_dummies(df_merged['Autonomia']), df_merged[['count_point', 'Categoria_veh_elect']]], axis=1)\n",
        "df_merged_dummy"
      ],
      "execution_count": 0,
      "outputs": [
        {
          "output_type": "execute_result",
          "data": {
            "text/html": [
              "<div>\n",
              "<style scoped>\n",
              "    .dataframe tbody tr th:only-of-type {\n",
              "        vertical-align: middle;\n",
              "    }\n",
              "\n",
              "    .dataframe tbody tr th {\n",
              "        vertical-align: top;\n",
              "    }\n",
              "\n",
              "    .dataframe thead th {\n",
              "        text-align: right;\n",
              "    }\n",
              "</style>\n",
              "<table border=\"1\" class=\"dataframe\">\n",
              "  <thead>\n",
              "    <tr style=\"text-align: right;\">\n",
              "      <th></th>\n",
              "      <th>andalucia</th>\n",
              "      <th>aragon</th>\n",
              "      <th>balears illes</th>\n",
              "      <th>canarias</th>\n",
              "      <th>cantabria</th>\n",
              "      <th>castilla y leon</th>\n",
              "      <th>castilla-la mancha</th>\n",
              "      <th>cataluna</th>\n",
              "      <th>ceuta ciudad de</th>\n",
              "      <th>comunidad valenciana</th>\n",
              "      <th>extremadura</th>\n",
              "      <th>galicia</th>\n",
              "      <th>madrid comunidad de</th>\n",
              "      <th>melilla ciudad de</th>\n",
              "      <th>navarra comunidad foral de</th>\n",
              "      <th>pais vasco</th>\n",
              "      <th>principado de asturias</th>\n",
              "      <th>region de murcia</th>\n",
              "      <th>rioja la</th>\n",
              "      <th>count_point</th>\n",
              "      <th>Categoria_veh_elect</th>\n",
              "    </tr>\n",
              "  </thead>\n",
              "  <tbody>\n",
              "    <tr>\n",
              "      <th>0</th>\n",
              "      <td>0</td>\n",
              "      <td>0</td>\n",
              "      <td>0</td>\n",
              "      <td>0</td>\n",
              "      <td>0</td>\n",
              "      <td>0</td>\n",
              "      <td>0</td>\n",
              "      <td>0</td>\n",
              "      <td>0</td>\n",
              "      <td>0</td>\n",
              "      <td>0</td>\n",
              "      <td>0</td>\n",
              "      <td>0</td>\n",
              "      <td>0</td>\n",
              "      <td>0</td>\n",
              "      <td>1</td>\n",
              "      <td>0</td>\n",
              "      <td>0</td>\n",
              "      <td>0</td>\n",
              "      <td>7.0</td>\n",
              "      <td>3.0</td>\n",
              "    </tr>\n",
              "    <tr>\n",
              "      <th>1</th>\n",
              "      <td>0</td>\n",
              "      <td>0</td>\n",
              "      <td>0</td>\n",
              "      <td>0</td>\n",
              "      <td>0</td>\n",
              "      <td>0</td>\n",
              "      <td>1</td>\n",
              "      <td>0</td>\n",
              "      <td>0</td>\n",
              "      <td>0</td>\n",
              "      <td>0</td>\n",
              "      <td>0</td>\n",
              "      <td>0</td>\n",
              "      <td>0</td>\n",
              "      <td>0</td>\n",
              "      <td>0</td>\n",
              "      <td>0</td>\n",
              "      <td>0</td>\n",
              "      <td>0</td>\n",
              "      <td>0.0</td>\n",
              "      <td>6.0</td>\n",
              "    </tr>\n",
              "    <tr>\n",
              "      <th>2</th>\n",
              "      <td>0</td>\n",
              "      <td>0</td>\n",
              "      <td>0</td>\n",
              "      <td>0</td>\n",
              "      <td>0</td>\n",
              "      <td>0</td>\n",
              "      <td>0</td>\n",
              "      <td>0</td>\n",
              "      <td>0</td>\n",
              "      <td>1</td>\n",
              "      <td>0</td>\n",
              "      <td>0</td>\n",
              "      <td>0</td>\n",
              "      <td>0</td>\n",
              "      <td>0</td>\n",
              "      <td>0</td>\n",
              "      <td>0</td>\n",
              "      <td>0</td>\n",
              "      <td>0</td>\n",
              "      <td>10.0</td>\n",
              "      <td>10.0</td>\n",
              "    </tr>\n",
              "    <tr>\n",
              "      <th>3</th>\n",
              "      <td>1</td>\n",
              "      <td>0</td>\n",
              "      <td>0</td>\n",
              "      <td>0</td>\n",
              "      <td>0</td>\n",
              "      <td>0</td>\n",
              "      <td>0</td>\n",
              "      <td>0</td>\n",
              "      <td>0</td>\n",
              "      <td>0</td>\n",
              "      <td>0</td>\n",
              "      <td>0</td>\n",
              "      <td>0</td>\n",
              "      <td>0</td>\n",
              "      <td>0</td>\n",
              "      <td>0</td>\n",
              "      <td>0</td>\n",
              "      <td>0</td>\n",
              "      <td>0</td>\n",
              "      <td>4.0</td>\n",
              "      <td>21.0</td>\n",
              "    </tr>\n",
              "    <tr>\n",
              "      <th>4</th>\n",
              "      <td>0</td>\n",
              "      <td>0</td>\n",
              "      <td>0</td>\n",
              "      <td>0</td>\n",
              "      <td>0</td>\n",
              "      <td>1</td>\n",
              "      <td>0</td>\n",
              "      <td>0</td>\n",
              "      <td>0</td>\n",
              "      <td>0</td>\n",
              "      <td>0</td>\n",
              "      <td>0</td>\n",
              "      <td>0</td>\n",
              "      <td>0</td>\n",
              "      <td>0</td>\n",
              "      <td>0</td>\n",
              "      <td>0</td>\n",
              "      <td>0</td>\n",
              "      <td>0</td>\n",
              "      <td>4.0</td>\n",
              "      <td>7.0</td>\n",
              "    </tr>\n",
              "    <tr>\n",
              "      <th>5</th>\n",
              "      <td>0</td>\n",
              "      <td>0</td>\n",
              "      <td>0</td>\n",
              "      <td>0</td>\n",
              "      <td>0</td>\n",
              "      <td>0</td>\n",
              "      <td>0</td>\n",
              "      <td>0</td>\n",
              "      <td>0</td>\n",
              "      <td>0</td>\n",
              "      <td>1</td>\n",
              "      <td>0</td>\n",
              "      <td>0</td>\n",
              "      <td>0</td>\n",
              "      <td>0</td>\n",
              "      <td>0</td>\n",
              "      <td>0</td>\n",
              "      <td>0</td>\n",
              "      <td>0</td>\n",
              "      <td>0.0</td>\n",
              "      <td>1.0</td>\n",
              "    </tr>\n",
              "    <tr>\n",
              "      <th>6</th>\n",
              "      <td>0</td>\n",
              "      <td>0</td>\n",
              "      <td>1</td>\n",
              "      <td>0</td>\n",
              "      <td>0</td>\n",
              "      <td>0</td>\n",
              "      <td>0</td>\n",
              "      <td>0</td>\n",
              "      <td>0</td>\n",
              "      <td>0</td>\n",
              "      <td>0</td>\n",
              "      <td>0</td>\n",
              "      <td>0</td>\n",
              "      <td>0</td>\n",
              "      <td>0</td>\n",
              "      <td>0</td>\n",
              "      <td>0</td>\n",
              "      <td>0</td>\n",
              "      <td>0</td>\n",
              "      <td>0.0</td>\n",
              "      <td>0.0</td>\n",
              "    </tr>\n",
              "    <tr>\n",
              "      <th>7</th>\n",
              "      <td>0</td>\n",
              "      <td>0</td>\n",
              "      <td>0</td>\n",
              "      <td>0</td>\n",
              "      <td>0</td>\n",
              "      <td>0</td>\n",
              "      <td>0</td>\n",
              "      <td>1</td>\n",
              "      <td>0</td>\n",
              "      <td>0</td>\n",
              "      <td>0</td>\n",
              "      <td>0</td>\n",
              "      <td>0</td>\n",
              "      <td>0</td>\n",
              "      <td>0</td>\n",
              "      <td>0</td>\n",
              "      <td>0</td>\n",
              "      <td>0</td>\n",
              "      <td>0</td>\n",
              "      <td>0.0</td>\n",
              "      <td>13.0</td>\n",
              "    </tr>\n",
              "    <tr>\n",
              "      <th>14</th>\n",
              "      <td>0</td>\n",
              "      <td>0</td>\n",
              "      <td>0</td>\n",
              "      <td>0</td>\n",
              "      <td>0</td>\n",
              "      <td>0</td>\n",
              "      <td>0</td>\n",
              "      <td>0</td>\n",
              "      <td>0</td>\n",
              "      <td>0</td>\n",
              "      <td>0</td>\n",
              "      <td>1</td>\n",
              "      <td>0</td>\n",
              "      <td>0</td>\n",
              "      <td>0</td>\n",
              "      <td>0</td>\n",
              "      <td>0</td>\n",
              "      <td>0</td>\n",
              "      <td>0</td>\n",
              "      <td>0.0</td>\n",
              "      <td>4.0</td>\n",
              "    </tr>\n",
              "    <tr>\n",
              "      <th>21</th>\n",
              "      <td>0</td>\n",
              "      <td>1</td>\n",
              "      <td>0</td>\n",
              "      <td>0</td>\n",
              "      <td>0</td>\n",
              "      <td>0</td>\n",
              "      <td>0</td>\n",
              "      <td>0</td>\n",
              "      <td>0</td>\n",
              "      <td>0</td>\n",
              "      <td>0</td>\n",
              "      <td>0</td>\n",
              "      <td>0</td>\n",
              "      <td>0</td>\n",
              "      <td>0</td>\n",
              "      <td>0</td>\n",
              "      <td>0</td>\n",
              "      <td>0</td>\n",
              "      <td>0</td>\n",
              "      <td>0.0</td>\n",
              "      <td>5.0</td>\n",
              "    </tr>\n",
              "    <tr>\n",
              "      <th>25</th>\n",
              "      <td>0</td>\n",
              "      <td>0</td>\n",
              "      <td>0</td>\n",
              "      <td>0</td>\n",
              "      <td>0</td>\n",
              "      <td>0</td>\n",
              "      <td>0</td>\n",
              "      <td>0</td>\n",
              "      <td>0</td>\n",
              "      <td>0</td>\n",
              "      <td>0</td>\n",
              "      <td>0</td>\n",
              "      <td>0</td>\n",
              "      <td>0</td>\n",
              "      <td>0</td>\n",
              "      <td>0</td>\n",
              "      <td>0</td>\n",
              "      <td>0</td>\n",
              "      <td>1</td>\n",
              "      <td>0.0</td>\n",
              "      <td>3.0</td>\n",
              "    </tr>\n",
              "    <tr>\n",
              "      <th>27</th>\n",
              "      <td>0</td>\n",
              "      <td>0</td>\n",
              "      <td>0</td>\n",
              "      <td>0</td>\n",
              "      <td>0</td>\n",
              "      <td>0</td>\n",
              "      <td>0</td>\n",
              "      <td>0</td>\n",
              "      <td>0</td>\n",
              "      <td>0</td>\n",
              "      <td>0</td>\n",
              "      <td>0</td>\n",
              "      <td>1</td>\n",
              "      <td>0</td>\n",
              "      <td>0</td>\n",
              "      <td>0</td>\n",
              "      <td>0</td>\n",
              "      <td>0</td>\n",
              "      <td>0</td>\n",
              "      <td>0.0</td>\n",
              "      <td>11.0</td>\n",
              "    </tr>\n",
              "    <tr>\n",
              "      <th>29</th>\n",
              "      <td>0</td>\n",
              "      <td>0</td>\n",
              "      <td>0</td>\n",
              "      <td>0</td>\n",
              "      <td>0</td>\n",
              "      <td>0</td>\n",
              "      <td>0</td>\n",
              "      <td>0</td>\n",
              "      <td>0</td>\n",
              "      <td>0</td>\n",
              "      <td>0</td>\n",
              "      <td>0</td>\n",
              "      <td>0</td>\n",
              "      <td>0</td>\n",
              "      <td>0</td>\n",
              "      <td>0</td>\n",
              "      <td>0</td>\n",
              "      <td>1</td>\n",
              "      <td>0</td>\n",
              "      <td>2.0</td>\n",
              "      <td>5.0</td>\n",
              "    </tr>\n",
              "    <tr>\n",
              "      <th>30</th>\n",
              "      <td>0</td>\n",
              "      <td>0</td>\n",
              "      <td>0</td>\n",
              "      <td>0</td>\n",
              "      <td>0</td>\n",
              "      <td>0</td>\n",
              "      <td>0</td>\n",
              "      <td>0</td>\n",
              "      <td>0</td>\n",
              "      <td>0</td>\n",
              "      <td>0</td>\n",
              "      <td>0</td>\n",
              "      <td>0</td>\n",
              "      <td>0</td>\n",
              "      <td>1</td>\n",
              "      <td>0</td>\n",
              "      <td>0</td>\n",
              "      <td>0</td>\n",
              "      <td>0</td>\n",
              "      <td>0.0</td>\n",
              "      <td>3.0</td>\n",
              "    </tr>\n",
              "    <tr>\n",
              "      <th>32</th>\n",
              "      <td>0</td>\n",
              "      <td>0</td>\n",
              "      <td>0</td>\n",
              "      <td>0</td>\n",
              "      <td>0</td>\n",
              "      <td>0</td>\n",
              "      <td>0</td>\n",
              "      <td>0</td>\n",
              "      <td>0</td>\n",
              "      <td>0</td>\n",
              "      <td>0</td>\n",
              "      <td>0</td>\n",
              "      <td>0</td>\n",
              "      <td>0</td>\n",
              "      <td>0</td>\n",
              "      <td>0</td>\n",
              "      <td>1</td>\n",
              "      <td>0</td>\n",
              "      <td>0</td>\n",
              "      <td>124.0</td>\n",
              "      <td>5.0</td>\n",
              "    </tr>\n",
              "    <tr>\n",
              "      <th>34</th>\n",
              "      <td>0</td>\n",
              "      <td>0</td>\n",
              "      <td>0</td>\n",
              "      <td>1</td>\n",
              "      <td>0</td>\n",
              "      <td>0</td>\n",
              "      <td>0</td>\n",
              "      <td>0</td>\n",
              "      <td>0</td>\n",
              "      <td>0</td>\n",
              "      <td>0</td>\n",
              "      <td>0</td>\n",
              "      <td>0</td>\n",
              "      <td>0</td>\n",
              "      <td>0</td>\n",
              "      <td>0</td>\n",
              "      <td>0</td>\n",
              "      <td>0</td>\n",
              "      <td>0</td>\n",
              "      <td>0.0</td>\n",
              "      <td>6.0</td>\n",
              "    </tr>\n",
              "    <tr>\n",
              "      <th>38</th>\n",
              "      <td>0</td>\n",
              "      <td>0</td>\n",
              "      <td>0</td>\n",
              "      <td>0</td>\n",
              "      <td>1</td>\n",
              "      <td>0</td>\n",
              "      <td>0</td>\n",
              "      <td>0</td>\n",
              "      <td>0</td>\n",
              "      <td>0</td>\n",
              "      <td>0</td>\n",
              "      <td>0</td>\n",
              "      <td>0</td>\n",
              "      <td>0</td>\n",
              "      <td>0</td>\n",
              "      <td>0</td>\n",
              "      <td>0</td>\n",
              "      <td>0</td>\n",
              "      <td>0</td>\n",
              "      <td>5.0</td>\n",
              "      <td>1.0</td>\n",
              "    </tr>\n",
              "    <tr>\n",
              "      <th>50</th>\n",
              "      <td>0</td>\n",
              "      <td>0</td>\n",
              "      <td>0</td>\n",
              "      <td>0</td>\n",
              "      <td>0</td>\n",
              "      <td>0</td>\n",
              "      <td>0</td>\n",
              "      <td>0</td>\n",
              "      <td>1</td>\n",
              "      <td>0</td>\n",
              "      <td>0</td>\n",
              "      <td>0</td>\n",
              "      <td>0</td>\n",
              "      <td>0</td>\n",
              "      <td>0</td>\n",
              "      <td>0</td>\n",
              "      <td>0</td>\n",
              "      <td>0</td>\n",
              "      <td>0</td>\n",
              "      <td>0.0</td>\n",
              "      <td>0.0</td>\n",
              "    </tr>\n",
              "    <tr>\n",
              "      <th>51</th>\n",
              "      <td>0</td>\n",
              "      <td>0</td>\n",
              "      <td>0</td>\n",
              "      <td>0</td>\n",
              "      <td>0</td>\n",
              "      <td>0</td>\n",
              "      <td>0</td>\n",
              "      <td>0</td>\n",
              "      <td>0</td>\n",
              "      <td>0</td>\n",
              "      <td>0</td>\n",
              "      <td>0</td>\n",
              "      <td>0</td>\n",
              "      <td>1</td>\n",
              "      <td>0</td>\n",
              "      <td>0</td>\n",
              "      <td>0</td>\n",
              "      <td>0</td>\n",
              "      <td>0</td>\n",
              "      <td>0.0</td>\n",
              "      <td>0.0</td>\n",
              "    </tr>\n",
              "  </tbody>\n",
              "</table>\n",
              "</div>"
            ],
            "text/plain": [
              "    andalucia  aragon  ...  count_point  Categoria_veh_elect\n",
              "0           0       0  ...          7.0                  3.0\n",
              "1           0       0  ...          0.0                  6.0\n",
              "2           0       0  ...         10.0                 10.0\n",
              "3           1       0  ...          4.0                 21.0\n",
              "4           0       0  ...          4.0                  7.0\n",
              "5           0       0  ...          0.0                  1.0\n",
              "6           0       0  ...          0.0                  0.0\n",
              "7           0       0  ...          0.0                 13.0\n",
              "14          0       0  ...          0.0                  4.0\n",
              "21          0       1  ...          0.0                  5.0\n",
              "25          0       0  ...          0.0                  3.0\n",
              "27          0       0  ...          0.0                 11.0\n",
              "29          0       0  ...          2.0                  5.0\n",
              "30          0       0  ...          0.0                  3.0\n",
              "32          0       0  ...        124.0                  5.0\n",
              "34          0       0  ...          0.0                  6.0\n",
              "38          0       0  ...          5.0                  1.0\n",
              "50          0       0  ...          0.0                  0.0\n",
              "51          0       0  ...          0.0                  0.0\n",
              "\n",
              "[19 rows x 21 columns]"
            ]
          },
          "metadata": {
            "tags": []
          },
          "execution_count": 191
        }
      ]
    },
    {
      "cell_type": "code",
      "metadata": {
        "id": "N-ylZdzNKA5j",
        "colab_type": "code",
        "outputId": "a7fe2776-774e-4a55-b0b9-52feb732d9cb",
        "colab": {
          "base_uri": "https://localhost:8080/",
          "height": 68
        }
      },
      "source": [
        "#Entrainement d'un modele KMeans\n",
        "from sklearn.cluster import KMeans\n",
        "\n",
        "n_clusters = 3\n",
        "X = df_merged_dummy.values\n",
        "\n",
        "kmeans = KMeans(n_clusters=n_clusters)\n",
        "kmeans.fit(X)"
      ],
      "execution_count": 0,
      "outputs": [
        {
          "output_type": "execute_result",
          "data": {
            "text/plain": [
              "KMeans(algorithm='auto', copy_x=True, init='k-means++', max_iter=300,\n",
              "       n_clusters=3, n_init=10, n_jobs=None, precompute_distances='auto',\n",
              "       random_state=None, tol=0.0001, verbose=0)"
            ]
          },
          "metadata": {
            "tags": []
          },
          "execution_count": 192
        }
      ]
    },
    {
      "cell_type": "code",
      "metadata": {
        "id": "qIABgDg3KtwW",
        "colab_type": "code",
        "outputId": "30e02de5-21ed-4aba-fb41-203ad217755b",
        "colab": {
          "base_uri": "https://localhost:8080/",
          "height": 323
        }
      },
      "source": [
        "#Check des corrdonées des centroides\n",
        "kmeans.cluster_centers_"
      ],
      "execution_count": 0,
      "outputs": [
        {
          "output_type": "execute_result",
          "data": {
            "text/plain": [
              "array([[6.93889390e-18, 7.14285714e-02, 7.14285714e-02, 7.14285714e-02,\n",
              "        7.14285714e-02, 7.14285714e-02, 7.14285714e-02, 6.93889390e-18,\n",
              "        7.14285714e-02, 6.93889390e-18, 7.14285714e-02, 7.14285714e-02,\n",
              "        6.93889390e-18, 7.14285714e-02, 7.14285714e-02, 7.14285714e-02,\n",
              "        6.93889390e-18, 7.14285714e-02, 7.14285714e-02, 1.28571429e+00,\n",
              "        3.14285714e+00],\n",
              "       [0.00000000e+00, 0.00000000e+00, 0.00000000e+00, 0.00000000e+00,\n",
              "        0.00000000e+00, 0.00000000e+00, 0.00000000e+00, 0.00000000e+00,\n",
              "        0.00000000e+00, 0.00000000e+00, 0.00000000e+00, 0.00000000e+00,\n",
              "        0.00000000e+00, 0.00000000e+00, 0.00000000e+00, 0.00000000e+00,\n",
              "        1.00000000e+00, 0.00000000e+00, 0.00000000e+00, 1.24000000e+02,\n",
              "        5.00000000e+00],\n",
              "       [2.50000000e-01, 0.00000000e+00, 0.00000000e+00, 0.00000000e+00,\n",
              "        0.00000000e+00, 0.00000000e+00, 0.00000000e+00, 2.50000000e-01,\n",
              "        0.00000000e+00, 2.50000000e-01, 0.00000000e+00, 0.00000000e+00,\n",
              "        2.50000000e-01, 0.00000000e+00, 0.00000000e+00, 0.00000000e+00,\n",
              "        0.00000000e+00, 0.00000000e+00, 0.00000000e+00, 3.50000000e+00,\n",
              "        1.37500000e+01]])"
            ]
          },
          "metadata": {
            "tags": []
          },
          "execution_count": 193
        }
      ]
    },
    {
      "cell_type": "code",
      "metadata": {
        "id": "6AnsAa2dLK5o",
        "colab_type": "code",
        "colab": {}
      },
      "source": [
        "#Dimensionality reduction\n",
        "from sklearn.decomposition import PCA\n",
        "\n",
        "n_components = 2\n",
        "pca = PCA(n_components=n_components)\n",
        "X_reduced = pca.fit_transform(X)"
      ],
      "execution_count": 0,
      "outputs": []
    },
    {
      "cell_type": "code",
      "metadata": {
        "id": "_krkAOgRMJLG",
        "colab_type": "code",
        "outputId": "074b1627-e1ed-46e4-9c02-0f8169b5117a",
        "colab": {
          "base_uri": "https://localhost:8080/",
          "height": 282
        }
      },
      "source": [
        "#Points en \n",
        "import matplotlib.pyplot as plt\n",
        "\n",
        "plt.scatter(X_reduced[:, 0], X_reduced[:, 1])"
      ],
      "execution_count": 0,
      "outputs": [
        {
          "output_type": "execute_result",
          "data": {
            "text/plain": [
              "<matplotlib.collections.PathCollection at 0x7fd8d5f0a0f0>"
            ]
          },
          "metadata": {
            "tags": []
          },
          "execution_count": 200
        },
        {
          "output_type": "display_data",
          "data": {
            "image/png": "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\n",
            "text/plain": [
              "<Figure size 432x288 with 1 Axes>"
            ]
          },
          "metadata": {
            "tags": [],
            "needs_background": "light"
          }
        }
      ]
    },
    {
      "cell_type": "code",
      "metadata": {
        "id": "6S7nMlk3M5Xv",
        "colab_type": "code",
        "outputId": "3c4b9bd0-0189-4e93-ac37-233b616e5311",
        "colab": {
          "base_uri": "https://localhost:8080/",
          "height": 282
        }
      },
      "source": [
        "n_components = 2\n",
        "pca_center = PCA(n_components=n_components)\n",
        "center_reduced = pca_center.fit_transform(kmeans.cluster_centers_)\n",
        "plt.scatter(center_reduced[:, 0], center_reduced[:, 1])"
      ],
      "execution_count": 0,
      "outputs": [
        {
          "output_type": "execute_result",
          "data": {
            "text/plain": [
              "<matplotlib.collections.PathCollection at 0x7fd8d5f8db38>"
            ]
          },
          "metadata": {
            "tags": []
          },
          "execution_count": 201
        },
        {
          "output_type": "display_data",
          "data": {
            "image/png": "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\n",
            "text/plain": [
              "<Figure size 432x288 with 1 Axes>"
            ]
          },
          "metadata": {
            "tags": [],
            "needs_background": "light"
          }
        }
      ]
    },
    {
      "cell_type": "code",
      "metadata": {
        "id": "DT4n1EQ6C7k1",
        "colab_type": "code",
        "outputId": "53a2d165-ade7-47b8-d231-56be4b871811",
        "colab": {
          "base_uri": "https://localhost:8080/",
          "height": 68
        }
      },
      "source": [
        "df_points['region'].unique()"
      ],
      "execution_count": 0,
      "outputs": [
        {
          "output_type": "execute_result",
          "data": {
            "text/plain": [
              "array(['principado de asturias', 'pais vasco', 'comunidad valenciana',\n",
              "       'cantabria', 'castilla y leon', 'region de murcia', 'andalucia'],\n",
              "      dtype=object)"
            ]
          },
          "metadata": {
            "tags": []
          },
          "execution_count": 152
        }
      ]
    },
    {
      "cell_type": "code",
      "metadata": {
        "id": "eiIzmf3UNlUI",
        "colab_type": "code",
        "outputId": "b041a7ad-251b-4fbc-93b2-ef7fa43ef632",
        "colab": {
          "base_uri": "https://localhost:8080/",
          "height": 540
        }
      },
      "source": [
        "import matplotlib.pyplot as plt\n",
        "\n",
        "fig, ax = plt.subplots(figsize= (30, 10)) \n",
        "sns.barplot(x='Provincia', y='Modelo', data=df_grouped_by_provincia)"
      ],
      "execution_count": 0,
      "outputs": [
        {
          "output_type": "error",
          "ename": "NameError",
          "evalue": "ignored",
          "traceback": [
            "\u001b[0;31m---------------------------------------------------------------------------\u001b[0m",
            "\u001b[0;31mNameError\u001b[0m                                 Traceback (most recent call last)",
            "\u001b[0;32m<ipython-input-45-c9fd42590aa6>\u001b[0m in \u001b[0;36m<module>\u001b[0;34m()\u001b[0m\n\u001b[1;32m      2\u001b[0m \u001b[0;34m\u001b[0m\u001b[0m\n\u001b[1;32m      3\u001b[0m \u001b[0mfig\u001b[0m\u001b[0;34m,\u001b[0m \u001b[0max\u001b[0m \u001b[0;34m=\u001b[0m \u001b[0mplt\u001b[0m\u001b[0;34m.\u001b[0m\u001b[0msubplots\u001b[0m\u001b[0;34m(\u001b[0m\u001b[0mfigsize\u001b[0m\u001b[0;34m=\u001b[0m \u001b[0;34m(\u001b[0m\u001b[0;36m30\u001b[0m\u001b[0;34m,\u001b[0m \u001b[0;36m10\u001b[0m\u001b[0;34m)\u001b[0m\u001b[0;34m)\u001b[0m\u001b[0;34m\u001b[0m\u001b[0;34m\u001b[0m\u001b[0m\n\u001b[0;32m----> 4\u001b[0;31m \u001b[0msns\u001b[0m\u001b[0;34m.\u001b[0m\u001b[0mbarplot\u001b[0m\u001b[0;34m(\u001b[0m\u001b[0mx\u001b[0m\u001b[0;34m=\u001b[0m\u001b[0;34m'Provincia'\u001b[0m\u001b[0;34m,\u001b[0m \u001b[0my\u001b[0m\u001b[0;34m=\u001b[0m\u001b[0;34m'Modelo'\u001b[0m\u001b[0;34m,\u001b[0m \u001b[0mdata\u001b[0m\u001b[0;34m=\u001b[0m\u001b[0mdf_grouped_by_provincia\u001b[0m\u001b[0;34m)\u001b[0m\u001b[0;34m\u001b[0m\u001b[0;34m\u001b[0m\u001b[0m\n\u001b[0m",
            "\u001b[0;31mNameError\u001b[0m: name 'df_grouped_by_provincia' is not defined"
          ]
        },
        {
          "output_type": "display_data",
          "data": {
            "image/png": "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\n",
            "text/plain": [
              "<Figure size 2160x720 with 1 Axes>"
            ]
          },
          "metadata": {
            "tags": [],
            "needs_background": "light"
          }
        }
      ]
    },
    {
      "cell_type": "code",
      "metadata": {
        "id": "35ODGTx6Yemz",
        "colab_type": "code",
        "outputId": "4683b890-39b2-4993-80c2-fc0b917a5712",
        "colab": {
          "base_uri": "https://localhost:8080/",
          "height": 221
        }
      },
      "source": [
        "df_points['region']"
      ],
      "execution_count": 0,
      "outputs": [
        {
          "output_type": "execute_result",
          "data": {
            "text/plain": [
              "0      Principado de Asturias\n",
              "1      Principado de Asturias\n",
              "2      Principado de Asturias\n",
              "3      Principado de Asturias\n",
              "4      Principado de Asturias\n",
              "                ...          \n",
              "151                 Andalucía\n",
              "152                 Andalucía\n",
              "153                 Andalucía\n",
              "154                 Andalucía\n",
              "155                 Cantabria\n",
              "Name: region, Length: 156, dtype: object"
            ]
          },
          "metadata": {
            "tags": []
          },
          "execution_count": 35
        }
      ]
    },
    {
      "cell_type": "code",
      "metadata": {
        "id": "1QjLUnH5Ys6t",
        "colab_type": "code",
        "colab": {}
      },
      "source": [
        "df_matricules['Provincia'] = df_matricules['Provincia'].apply(lambda x : x.rstrip())"
      ],
      "execution_count": 0,
      "outputs": []
    },
    {
      "cell_type": "code",
      "metadata": {
        "id": "Uq18RPdRMFX8",
        "colab_type": "code",
        "colab": {}
      },
      "source": [
        ""
      ],
      "execution_count": 0,
      "outputs": []
    }
  ]
}
